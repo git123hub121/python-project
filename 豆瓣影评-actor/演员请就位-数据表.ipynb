{
 "cells": [
  {
   "cell_type": "code",
   "execution_count": 104,
   "metadata": {},
   "outputs": [],
   "source": [
    "import pandas as pd\n",
    "df = pd.read_csv(r\"D:/Python/Mypython/python项目集锦/豆瓣影评-actor/actor_3.csv\")"
   ]
  },
  {
   "cell_type": "code",
   "execution_count": 105,
   "metadata": {},
   "outputs": [
    {
     "output_type": "execute_result",
     "data": {
      "text/plain": [
       "          ids                times  stars  \\\n",
       "0       横道世之介  2020-10-02 23:57:36     20   \n",
       "1       海边的西米  2020-10-03 02:37:43     40   \n",
       "2    kakakarl  2020-10-02 23:09:01     30   \n",
       "3       一口大井子  2020-10-12 01:06:51     20   \n",
       "4        DING  2020-10-03 12:12:00     40   \n",
       "5        紫色鱼丸  2020-10-02 22:09:01     40   \n",
       "6      Cycble  2020-10-03 08:11:46     40   \n",
       "7       尼歌臭豆腐  2020-10-03 01:09:40     20   \n",
       "8  why-songjk  2020-10-03 09:13:25     20   \n",
       "9     莫卡纳达兰克特  2020-10-10 23:58:05     20   \n",
       "\n",
       "                                            previews  likes  \n",
       "0  看这个节目最大的舒适感，就是屏蔽完赵薇郭敬明呱噪的业务指指点点，还能继续有幸听凯歌导演儒雅的...    515  \n",
       "1                              想看尔冬升骂遍所有想露脸十八线男团idol   2623  \n",
       "2  太奇怪了，算上郭敬明，四个评委导演也都是拍电影的，而制片人评级都是用电视剧的标准在看演员，太...    895  \n",
       "3  陈凯歌最像学院老师，四个人里最会调教演员的。尔冬升是艺考的考官，严厉但准确。赵薇像辅导员，当...    341  \n",
       "4              太喜欢温峥嵘那种坐在B级却浑身上下散发出S级光芒的状态，好演员值得被看见。   1287  \n",
       "5  尔冬升太狠了！好犀利！但这节目最开始被评S的几个人是真的不行。为了孙阳再加一星吧喜欢他的《过...   1141  \n",
       "6  ①第一期就出现名场面“晏紫东彩旗拔丝接吻”“尔冬升批张大大像小偷”，牛逼。②其实出圈的演员不...    353  \n",
       "7     郭敬明在影视方面有作品吗？凭啥做评委？还有赵薇说话可以不要这么拧巴吗？请你大方点自然点好吗？    113  \n",
       "8  这个开场评级是一场大型女性就业歧视会吧……突然发现不是观众不喜欢年纪大的女演员，完全就是制片...     83  \n",
       "9  请问，郭敬明是来节目找对象的吗？以及中国没有能拿得出手的演员了吗？牛鬼蛇神不加思考靠着流量和...     71  "
      ],
      "text/html": "<div>\n<style scoped>\n    .dataframe tbody tr th:only-of-type {\n        vertical-align: middle;\n    }\n\n    .dataframe tbody tr th {\n        vertical-align: top;\n    }\n\n    .dataframe thead th {\n        text-align: right;\n    }\n</style>\n<table border=\"1\" class=\"dataframe\">\n  <thead>\n    <tr style=\"text-align: right;\">\n      <th></th>\n      <th>ids</th>\n      <th>times</th>\n      <th>stars</th>\n      <th>previews</th>\n      <th>likes</th>\n    </tr>\n  </thead>\n  <tbody>\n    <tr>\n      <th>0</th>\n      <td>横道世之介</td>\n      <td>2020-10-02 23:57:36</td>\n      <td>20</td>\n      <td>看这个节目最大的舒适感，就是屏蔽完赵薇郭敬明呱噪的业务指指点点，还能继续有幸听凯歌导演儒雅的...</td>\n      <td>515</td>\n    </tr>\n    <tr>\n      <th>1</th>\n      <td>海边的西米</td>\n      <td>2020-10-03 02:37:43</td>\n      <td>40</td>\n      <td>想看尔冬升骂遍所有想露脸十八线男团idol</td>\n      <td>2623</td>\n    </tr>\n    <tr>\n      <th>2</th>\n      <td>kakakarl</td>\n      <td>2020-10-02 23:09:01</td>\n      <td>30</td>\n      <td>太奇怪了，算上郭敬明，四个评委导演也都是拍电影的，而制片人评级都是用电视剧的标准在看演员，太...</td>\n      <td>895</td>\n    </tr>\n    <tr>\n      <th>3</th>\n      <td>一口大井子</td>\n      <td>2020-10-12 01:06:51</td>\n      <td>20</td>\n      <td>陈凯歌最像学院老师，四个人里最会调教演员的。尔冬升是艺考的考官，严厉但准确。赵薇像辅导员，当...</td>\n      <td>341</td>\n    </tr>\n    <tr>\n      <th>4</th>\n      <td>DING</td>\n      <td>2020-10-03 12:12:00</td>\n      <td>40</td>\n      <td>太喜欢温峥嵘那种坐在B级却浑身上下散发出S级光芒的状态，好演员值得被看见。</td>\n      <td>1287</td>\n    </tr>\n    <tr>\n      <th>5</th>\n      <td>紫色鱼丸</td>\n      <td>2020-10-02 22:09:01</td>\n      <td>40</td>\n      <td>尔冬升太狠了！好犀利！但这节目最开始被评S的几个人是真的不行。为了孙阳再加一星吧喜欢他的《过...</td>\n      <td>1141</td>\n    </tr>\n    <tr>\n      <th>6</th>\n      <td>Cycble</td>\n      <td>2020-10-03 08:11:46</td>\n      <td>40</td>\n      <td>①第一期就出现名场面“晏紫东彩旗拔丝接吻”“尔冬升批张大大像小偷”，牛逼。②其实出圈的演员不...</td>\n      <td>353</td>\n    </tr>\n    <tr>\n      <th>7</th>\n      <td>尼歌臭豆腐</td>\n      <td>2020-10-03 01:09:40</td>\n      <td>20</td>\n      <td>郭敬明在影视方面有作品吗？凭啥做评委？还有赵薇说话可以不要这么拧巴吗？请你大方点自然点好吗？</td>\n      <td>113</td>\n    </tr>\n    <tr>\n      <th>8</th>\n      <td>why-songjk</td>\n      <td>2020-10-03 09:13:25</td>\n      <td>20</td>\n      <td>这个开场评级是一场大型女性就业歧视会吧……突然发现不是观众不喜欢年纪大的女演员，完全就是制片...</td>\n      <td>83</td>\n    </tr>\n    <tr>\n      <th>9</th>\n      <td>莫卡纳达兰克特</td>\n      <td>2020-10-10 23:58:05</td>\n      <td>20</td>\n      <td>请问，郭敬明是来节目找对象的吗？以及中国没有能拿得出手的演员了吗？牛鬼蛇神不加思考靠着流量和...</td>\n      <td>71</td>\n    </tr>\n  </tbody>\n</table>\n</div>"
     },
     "metadata": {},
     "execution_count": 105
    }
   ],
   "source": [
    "df.head(10)"
   ]
  },
  {
   "cell_type": "code",
   "execution_count": 106,
   "metadata": {},
   "outputs": [
    {
     "output_type": "stream",
     "name": "stdout",
     "text": [
      "<class 'pandas.core.frame.DataFrame'>\nRangeIndex: 489 entries, 0 to 488\nData columns (total 5 columns):\n #   Column    Non-Null Count  Dtype \n---  ------    --------------  ----- \n 0   ids       489 non-null    object\n 1   times     489 non-null    object\n 2   stars     489 non-null    int64 \n 3   previews  489 non-null    object\n 4   likes     489 non-null    int64 \ndtypes: int64(2), object(3)\nmemory usage: 19.2+ KB\n"
     ]
    }
   ],
   "source": [
    "df.info()"
   ]
  },
  {
   "source": [
    "字符类型转换，学到了，哈哈"
   ],
   "cell_type": "markdown",
   "metadata": {}
  },
  {
   "cell_type": "code",
   "execution_count": 107,
   "metadata": {},
   "outputs": [],
   "source": [
    "df['times'] = pd.to_datetime(df['times'])\n",
    "df['previews'] = df['previews'].astype('string')"
   ]
  },
  {
   "cell_type": "code",
   "execution_count": 108,
   "metadata": {},
   "outputs": [
    {
     "output_type": "stream",
     "name": "stdout",
     "text": [
      "<class 'pandas.core.frame.DataFrame'>\nRangeIndex: 489 entries, 0 to 488\nData columns (total 5 columns):\n #   Column    Non-Null Count  Dtype         \n---  ------    --------------  -----         \n 0   ids       489 non-null    object        \n 1   times     489 non-null    datetime64[ns]\n 2   stars     489 non-null    int64         \n 3   previews  489 non-null    string        \n 4   likes     489 non-null    int64         \ndtypes: datetime64[ns](1), int64(2), object(1), string(1)\nmemory usage: 19.2+ KB\n"
     ]
    }
   ],
   "source": [
    "df.info()"
   ]
  },
  {
   "cell_type": "code",
   "execution_count": 109,
   "metadata": {},
   "outputs": [
    {
     "output_type": "execute_result",
     "data": {
      "text/plain": [
       "'菜J学Python真的很菜'"
      ]
     },
     "metadata": {},
     "execution_count": 109
    }
   ],
   "source": [
    "#为啥感觉这个previews没有变\n",
    "#定义机械压缩函数\n",
    "def yasuo(st):\n",
    "    for i in range(1,int(len(st)/2)+1):\n",
    "        for j in range(len(st)):\n",
    "            if st[j:j+i] == st[j+i:j+2*i]:\n",
    "                k = j + i\n",
    "                while st[k:k+i] == st[k+i:k+2*i] and k<len(st):   \n",
    "                    k = k + i\n",
    "                st = st[:j] + st[k:]    \n",
    "    return st\n",
    "yasuo(st=\"菜J学Python真的真的真的很菜很菜\")"
   ]
  },
  {
   "cell_type": "code",
   "execution_count": 110,
   "metadata": {},
   "outputs": [],
   "source": [
    "df[\"previews\"] = df[\"previews\"].apply(yasuo)"
   ]
  },
  {
   "cell_type": "code",
   "execution_count": 111,
   "metadata": {},
   "outputs": [],
   "source": [
    "# import paddlehub as hub#下载地址：pip3 install paddlepaddle -i https://mirror.baidu.com/pypi/simple\n",
    "# ##这里使用了百度开源的成熟NLP模型来预测情感倾向\n",
    "# senta = hub.Module(name=\"senta_bilstm\")\n",
    "# texts = df['previews'].tolist()#将数组转换为列表\n",
    "# input_data = {'text':texts}#将列表转换为字典中的值\n",
    "# res = senta.sentiment_classify(data=input_data)\n",
    "# df['pos_p'] = [x['positive_probs'] for x in res]"
   ]
  },
  {
   "cell_type": "code",
   "execution_count": 112,
   "metadata": {},
   "outputs": [],
   "source": [
    "# df[[\"previews\",\"pos_p\"]].sample(10)#随机展示10条数据"
   ]
  },
  {
   "cell_type": "code",
   "execution_count": 113,
   "metadata": {},
   "outputs": [
    {
     "output_type": "stream",
     "name": "stdout",
     "text": [
      "<class 'pandas.core.frame.DataFrame'>\nRangeIndex: 489 entries, 0 to 488\nData columns (total 5 columns):\n #   Column    Non-Null Count  Dtype         \n---  ------    --------------  -----         \n 0   ids       489 non-null    object        \n 1   times     489 non-null    datetime64[ns]\n 2   stars     489 non-null    int64         \n 3   previews  489 non-null    object        \n 4   likes     489 non-null    int64         \ndtypes: datetime64[ns](1), int64(2), object(2)\nmemory usage: 19.2+ KB\n"
     ]
    }
   ],
   "source": [
    "df.info()"
   ]
  },
  {
   "cell_type": "code",
   "execution_count": 114,
   "metadata": {},
   "outputs": [],
   "source": [
    "from datetime import datetime\n",
    "df['month'] = df[\"times\"].dt.month#分离出 月\n",
    "df['hour'] = df[\"times\"].dt.hour"
   ]
  },
  {
   "cell_type": "code",
   "execution_count": 115,
   "metadata": {},
   "outputs": [
    {
     "output_type": "execute_result",
     "data": {
      "text/plain": [
       "        ids               times  stars  \\\n",
       "0     横道世之介 2020-10-02 23:57:36     20   \n",
       "1     海边的西米 2020-10-03 02:37:43     40   \n",
       "2  kakakarl 2020-10-02 23:09:01     30   \n",
       "3     一口大井子 2020-10-12 01:06:51     20   \n",
       "4      DING 2020-10-03 12:12:00     40   \n",
       "\n",
       "                                            previews  likes  month  hour  \n",
       "0  看这个节目最大的舒适感，就是屏蔽完赵薇郭敬明呱噪的业务指点，还能继续有幸听凯歌导演儒雅的，不...    515     10    23  \n",
       "1                              想看尔冬升骂遍所有想露脸十八线男团idol   2623     10     2  \n",
       "2  太奇怪了，算上郭敬明，四个评委导演也都是拍电影的，而制片人评级都是用电视剧的标准在看演员，太...    895     10    23  \n",
       "3  陈凯歌最像学院老师，四个人里最会调教演员的。尔冬升是艺考的考官，严厉但准确。赵薇像辅导员，当...    341     10     1  \n",
       "4              太喜欢温峥嵘那种坐在B级却浑身上下散发出S级光芒的状态，好演员值得被看见。   1287     10    12  "
      ],
      "text/html": "<div>\n<style scoped>\n    .dataframe tbody tr th:only-of-type {\n        vertical-align: middle;\n    }\n\n    .dataframe tbody tr th {\n        vertical-align: top;\n    }\n\n    .dataframe thead th {\n        text-align: right;\n    }\n</style>\n<table border=\"1\" class=\"dataframe\">\n  <thead>\n    <tr style=\"text-align: right;\">\n      <th></th>\n      <th>ids</th>\n      <th>times</th>\n      <th>stars</th>\n      <th>previews</th>\n      <th>likes</th>\n      <th>month</th>\n      <th>hour</th>\n    </tr>\n  </thead>\n  <tbody>\n    <tr>\n      <th>0</th>\n      <td>横道世之介</td>\n      <td>2020-10-02 23:57:36</td>\n      <td>20</td>\n      <td>看这个节目最大的舒适感，就是屏蔽完赵薇郭敬明呱噪的业务指点，还能继续有幸听凯歌导演儒雅的，不...</td>\n      <td>515</td>\n      <td>10</td>\n      <td>23</td>\n    </tr>\n    <tr>\n      <th>1</th>\n      <td>海边的西米</td>\n      <td>2020-10-03 02:37:43</td>\n      <td>40</td>\n      <td>想看尔冬升骂遍所有想露脸十八线男团idol</td>\n      <td>2623</td>\n      <td>10</td>\n      <td>2</td>\n    </tr>\n    <tr>\n      <th>2</th>\n      <td>kakakarl</td>\n      <td>2020-10-02 23:09:01</td>\n      <td>30</td>\n      <td>太奇怪了，算上郭敬明，四个评委导演也都是拍电影的，而制片人评级都是用电视剧的标准在看演员，太...</td>\n      <td>895</td>\n      <td>10</td>\n      <td>23</td>\n    </tr>\n    <tr>\n      <th>3</th>\n      <td>一口大井子</td>\n      <td>2020-10-12 01:06:51</td>\n      <td>20</td>\n      <td>陈凯歌最像学院老师，四个人里最会调教演员的。尔冬升是艺考的考官，严厉但准确。赵薇像辅导员，当...</td>\n      <td>341</td>\n      <td>10</td>\n      <td>1</td>\n    </tr>\n    <tr>\n      <th>4</th>\n      <td>DING</td>\n      <td>2020-10-03 12:12:00</td>\n      <td>40</td>\n      <td>太喜欢温峥嵘那种坐在B级却浑身上下散发出S级光芒的状态，好演员值得被看见。</td>\n      <td>1287</td>\n      <td>10</td>\n      <td>12</td>\n    </tr>\n  </tbody>\n</table>\n</div>"
     },
     "metadata": {},
     "execution_count": 115
    }
   ],
   "source": [
    "df.head(5)#靠，我没有爬取时间，奶奶的腿，先不管"
   ]
  },
  {
   "cell_type": "code",
   "execution_count": 116,
   "metadata": {},
   "outputs": [],
   "source": [
    "# df.to_excel(\"actor.xlsx\",index=False)\n",
    "# df.to_csv(\"actor_4.csv\",index=False)"
   ]
  },
  {
   "cell_type": "code",
   "execution_count": 117,
   "metadata": {},
   "outputs": [],
   "source": [
    "import re\n",
    "import numpy as np\n",
    "result = []\n",
    "for i in df['previews']:\n",
    "    result.append(re.split('[:：,，.。!！~·`\\;； ……、]',i))#只有re.split可以使用多个字符进行分离----这里是个正则匹配   "
   ]
  },
  {
   "source": [
    "当弹幕过长时，将其按照标点符号进行分割"
   ],
   "cell_type": "markdown",
   "metadata": {}
  },
  {
   "cell_type": "code",
   "execution_count": 118,
   "metadata": {},
   "outputs": [
    {
     "output_type": "execute_result",
     "data": {
      "text/plain": [
       "[['看这个节目最大的舒适感',\n",
       "  '就是屏蔽完赵薇郭敬明呱噪的业务指点',\n",
       "  '还能继续有幸听凯歌导演儒雅的',\n",
       "  '不急不缓的讲戏',\n",
       "  '在专业角度上的输出',\n",
       "  '他真是伟岸的',\n",
       "  ''],\n",
       " ['想看尔冬升骂遍所有想露脸十八线男团idol'],\n",
       " ['太奇怪了',\n",
       "  '算上郭敬明',\n",
       "  '四个评委导演也都是拍电影的',\n",
       "  '而制片人评级都是用电视剧的标准在看演员',\n",
       "  '太割裂了',\n",
       "  '尔冬升才是这季最大惊喜',\n",
       "  '充什么样的会员',\n",
       "  '才可以看去郭敬明版？'],\n",
       " ['陈凯歌最像学院老师',\n",
       "  '四个人里最会调教演员的',\n",
       "  '尔冬升是艺考的考官',\n",
       "  '严厉但准确',\n",
       "  '赵薇像辅导员',\n",
       "  '当年也是考过来的',\n",
       "  '郭敬明就是鬼艺考培训机构的老师',\n",
       "  '满嘴理论知识',\n",
       "  '但也就够糊弄一下高中生了',\n",
       "  ''],\n",
       " ['太喜欢温峥嵘那种坐在B级却浑身上下散发出S级光芒的状态', '好演员值得被看见', '']]"
      ]
     },
     "metadata": {},
     "execution_count": 118
    }
   ],
   "source": [
    "result[:5]"
   ]
  },
  {
   "cell_type": "code",
   "execution_count": 120,
   "metadata": {},
   "outputs": [],
   "source": [
    "df['gjm'] = [1 if '郭敬明' in x else 0 for x in list(df['previews'])]\n",
    "df['zw'] = np.where(df['previews'].str.contains('赵薇'),1,0)\n",
    "# 会报错    df['eds'] = [1 if x.str.contains('尔冬升') else 0 for x in df['previews']]#不适用就不适用，因为有多种方法可以选择"
   ]
  },
  {
   "cell_type": "code",
   "execution_count": null,
   "metadata": {},
   "outputs": [],
   "source": [
    "def actor_comment(df,result):\n",
    "    actors = pd.DataFrame(np.zeros(5 * len(df)).reshape(len(df),5),\n",
    "                      columns = ['郭敬明','赵薇','陈凯歌','尔冬升','李诚儒'])\n",
    "    for i in range(len(result)):\n",
    "        words = result[i]\n",
    "        for word in words:\n",
    "            if '郭敬明' in word or '郭敬明' in word: #这里应该是给你自己改的，明天就写这个咯\n",
    "                actors.iloc[i]['郭敬明'] = 1\n",
    "            if '赵薇' in word or '赵薇' in word:              \n",
    "                actors.iloc[i]['赵薇'] = 1 \n",
    "            if '陈凯歌' in word or '陈凯歌' in word:              \n",
    "                actors.iloc[i]['陈凯歌'] = 1 #行，列\n",
    "            if '尔冬升' in word or '尔冬升' in word: \n",
    "                actors.iloc[i]['尔冬升'] = 1\n",
    "            if '李诚儒' in word or '李诚儒' in word:              \n",
    "                actors.iloc[i]['李诚儒'] = 1 \n",
    "    final_result = pd.concat([df,actors],axis = 1)\n",
    "    # print(final_result)\n",
    "    return final_result  "
   ]
  },
  {
   "cell_type": "code",
   "execution_count": null,
   "metadata": {},
   "outputs": [],
   "source": [
    "df3 = actor_comment(df,result)\n",
    "# df3.sample(5)\n",
    "df3.head(5)"
   ]
  },
  {
   "cell_type": "code",
   "execution_count": null,
   "metadata": {},
   "outputs": [],
   "source": [
    "df3.to_csv(\"actor_5.csv\",index=False)"
   ]
  },
  {
   "cell_type": "code",
   "execution_count": null,
   "metadata": {},
   "outputs": [],
   "source": [
    "df4 = df3.iloc[:,8:].sum().reset_index().sort_values(0,ascending = False)\n",
    "df4.columns = ['角色','次数']\n",
    "df4['占比'] = df4['次数'] / df4['次数'].sum()"
   ]
  },
  {
   "cell_type": "code",
   "execution_count": null,
   "metadata": {},
   "outputs": [],
   "source": [
    "df4"
   ]
  },
  {
   "cell_type": "code",
   "execution_count": null,
   "metadata": {},
   "outputs": [],
   "source": [
    "#看不懂，就不看了\n",
    "len(df3)"
   ]
  },
  {
   "cell_type": "code",
   "execution_count": null,
   "metadata": {},
   "outputs": [],
   "source": [
    "def actor_star(df3):\n",
    "    star = pd.DataFrame(np.zeros(1 * len(df3)).reshape(len(df3),1),\n",
    "                      columns = ['评价'])\n",
    "    for i in range(len(df3)):\n",
    "        if df['stars'][i] == 10 or df['stars'][i] == 20:\n",
    "            star.iloc[i]['评价'] = 1\n",
    "        if df['stars'][i] == 30:\n",
    "            star.iloc[i]['评价'] = 3\n",
    "        if df['stars'][i] == 40 or df['stars'][i] == 50:\n",
    "            star.iloc[i]['评价'] = 5#不能用字符串\n",
    "    final_star = pd.concat([df3,star],axis = 1)\n",
    "    # print(final_result)\n",
    "    return final_star  "
   ]
  },
  {
   "cell_type": "code",
   "execution_count": null,
   "metadata": {},
   "outputs": [],
   "source": [
    "dfs = actor_star(df3)\n",
    "# df3.sample(5)\n",
    "dfs.head(5)"
   ]
  },
  {
   "cell_type": "code",
   "execution_count": null,
   "metadata": {},
   "outputs": [],
   "source": [
    "a = df3['stars'][1]"
   ]
  },
  {
   "cell_type": "code",
   "execution_count": null,
   "metadata": {},
   "outputs": [],
   "source": [
    "a"
   ]
  },
  {
   "cell_type": "code",
   "execution_count": null,
   "metadata": {},
   "outputs": [],
   "source": [
    "df3.info()"
   ]
  },
  {
   "cell_type": "code",
   "execution_count": null,
   "metadata": {},
   "outputs": [],
   "source": [
    "dfs.to_csv(\"actor_6.csv\",index=False)"
   ]
  },
  {
   "cell_type": "code",
   "execution_count": null,
   "metadata": {},
   "outputs": [],
   "source": [
    "#现在效率有点低，明天直接开始总结各类方法，能写多少写多少，然后整理代码，从爬虫开始，结合书本一起搞"
   ]
  },
  {
   "cell_type": "code",
   "execution_count": null,
   "metadata": {},
   "outputs": [],
   "source": []
  }
 ],
 "metadata": {
  "kernelspec": {
   "name": "python3",
   "display_name": "Python 3",
   "language": "python"
  }
 },
 "nbformat": 4,
 "nbformat_minor": 4
}