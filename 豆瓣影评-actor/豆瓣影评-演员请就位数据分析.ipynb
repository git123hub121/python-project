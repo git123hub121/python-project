{
 "metadata": {
  "language_info": {
   "codemirror_mode": {
    "name": "ipython",
    "version": 3
   },
   "file_extension": ".py",
   "mimetype": "text/x-python",
   "name": "python",
   "nbconvert_exporter": "python",
   "pygments_lexer": "ipython3",
   "version": "3.7.0-final"
  },
  "orig_nbformat": 2,
  "kernelspec": {
   "name": "python3",
   "display_name": "Python 3"
  }
 },
 "nbformat": 4,
 "nbformat_minor": 2,
 "cells": [
  {
   "cell_type": "code",
   "execution_count": 44,
   "metadata": {},
   "outputs": [],
   "source": [
    "import pandas as pd\n",
    "import numpy as np\n",
    "from pyecharts.charts import *\n",
    "from pyecharts import options as opts\n",
    "from pyecharts.globals import ThemeType\n",
    "import re"
   ]
  },
  {
   "cell_type": "code",
   "execution_count": 45,
   "metadata": {},
   "outputs": [],
   "source": [
    "df = pd.read_csv('actor_6.csv')"
   ]
  },
  {
   "cell_type": "code",
   "execution_count": 46,
   "metadata": {},
   "outputs": [
    {
     "output_type": "execute_result",
     "data": {
      "text/plain": [
       "        ids                times  stars  \\\n",
       "0     横道世之介  2020-10-02 23:57:36     20   \n",
       "1     海边的西米  2020-10-03 02:37:43     40   \n",
       "2  kakakarl  2020-10-02 23:09:01     30   \n",
       "3     一口大井子  2020-10-12 01:06:51     20   \n",
       "4      DING  2020-10-03 12:12:00     40   \n",
       "\n",
       "                                            previews  likes   pos_p  month  \\\n",
       "0  看这个节目最大的舒适感，就是屏蔽完赵薇郭敬明呱噪的业务指点，还能继续有幸听凯歌导演儒雅的，不...    515  0.5475     10   \n",
       "1                              想看尔冬升骂遍所有想露脸十八线男团idol   2623  0.4048     10   \n",
       "2  太奇怪了，算上郭敬明，四个评委导演也都是拍电影的，而制片人评级都是用电视剧的标准在看演员，太...    895  0.0044     10   \n",
       "3  陈凯歌最像学院老师，四个人里最会调教演员的。尔冬升是艺考的考官，严厉但准确。赵薇像辅导员，当...    341  0.0663     10   \n",
       "4              太喜欢温峥嵘那种坐在B级却浑身上下散发出S级光芒的状态，好演员值得被看见。   1287  0.9747     10   \n",
       "\n",
       "   hour  郭敬明   赵薇  陈凯歌  尔冬升  李诚儒   评价  \n",
       "0    23  1.0  1.0  0.0  0.0  0.0  1.0  \n",
       "1     2  0.0  0.0  0.0  1.0  0.0  5.0  \n",
       "2    23  1.0  0.0  0.0  1.0  0.0  3.0  \n",
       "3     1  1.0  1.0  1.0  1.0  0.0  1.0  \n",
       "4    12  0.0  0.0  0.0  0.0  0.0  5.0  "
      ],
      "text/html": "<div>\n<style scoped>\n    .dataframe tbody tr th:only-of-type {\n        vertical-align: middle;\n    }\n\n    .dataframe tbody tr th {\n        vertical-align: top;\n    }\n\n    .dataframe thead th {\n        text-align: right;\n    }\n</style>\n<table border=\"1\" class=\"dataframe\">\n  <thead>\n    <tr style=\"text-align: right;\">\n      <th></th>\n      <th>ids</th>\n      <th>times</th>\n      <th>stars</th>\n      <th>previews</th>\n      <th>likes</th>\n      <th>pos_p</th>\n      <th>month</th>\n      <th>hour</th>\n      <th>郭敬明</th>\n      <th>赵薇</th>\n      <th>陈凯歌</th>\n      <th>尔冬升</th>\n      <th>李诚儒</th>\n      <th>评价</th>\n    </tr>\n  </thead>\n  <tbody>\n    <tr>\n      <th>0</th>\n      <td>横道世之介</td>\n      <td>2020-10-02 23:57:36</td>\n      <td>20</td>\n      <td>看这个节目最大的舒适感，就是屏蔽完赵薇郭敬明呱噪的业务指点，还能继续有幸听凯歌导演儒雅的，不...</td>\n      <td>515</td>\n      <td>0.5475</td>\n      <td>10</td>\n      <td>23</td>\n      <td>1.0</td>\n      <td>1.0</td>\n      <td>0.0</td>\n      <td>0.0</td>\n      <td>0.0</td>\n      <td>1.0</td>\n    </tr>\n    <tr>\n      <th>1</th>\n      <td>海边的西米</td>\n      <td>2020-10-03 02:37:43</td>\n      <td>40</td>\n      <td>想看尔冬升骂遍所有想露脸十八线男团idol</td>\n      <td>2623</td>\n      <td>0.4048</td>\n      <td>10</td>\n      <td>2</td>\n      <td>0.0</td>\n      <td>0.0</td>\n      <td>0.0</td>\n      <td>1.0</td>\n      <td>0.0</td>\n      <td>5.0</td>\n    </tr>\n    <tr>\n      <th>2</th>\n      <td>kakakarl</td>\n      <td>2020-10-02 23:09:01</td>\n      <td>30</td>\n      <td>太奇怪了，算上郭敬明，四个评委导演也都是拍电影的，而制片人评级都是用电视剧的标准在看演员，太...</td>\n      <td>895</td>\n      <td>0.0044</td>\n      <td>10</td>\n      <td>23</td>\n      <td>1.0</td>\n      <td>0.0</td>\n      <td>0.0</td>\n      <td>1.0</td>\n      <td>0.0</td>\n      <td>3.0</td>\n    </tr>\n    <tr>\n      <th>3</th>\n      <td>一口大井子</td>\n      <td>2020-10-12 01:06:51</td>\n      <td>20</td>\n      <td>陈凯歌最像学院老师，四个人里最会调教演员的。尔冬升是艺考的考官，严厉但准确。赵薇像辅导员，当...</td>\n      <td>341</td>\n      <td>0.0663</td>\n      <td>10</td>\n      <td>1</td>\n      <td>1.0</td>\n      <td>1.0</td>\n      <td>1.0</td>\n      <td>1.0</td>\n      <td>0.0</td>\n      <td>1.0</td>\n    </tr>\n    <tr>\n      <th>4</th>\n      <td>DING</td>\n      <td>2020-10-03 12:12:00</td>\n      <td>40</td>\n      <td>太喜欢温峥嵘那种坐在B级却浑身上下散发出S级光芒的状态，好演员值得被看见。</td>\n      <td>1287</td>\n      <td>0.9747</td>\n      <td>10</td>\n      <td>12</td>\n      <td>0.0</td>\n      <td>0.0</td>\n      <td>0.0</td>\n      <td>0.0</td>\n      <td>0.0</td>\n      <td>5.0</td>\n    </tr>\n  </tbody>\n</table>\n</div>"
     },
     "metadata": {},
     "execution_count": 46
    }
   ],
   "source": [
    "df.head(5)"
   ]
  },
  {
   "cell_type": "code",
   "execution_count": 47,
   "metadata": {},
   "outputs": [
    {
     "output_type": "execute_result",
     "data": {
      "text/plain": [
       "   郭敬明   赵薇  陈凯歌  尔冬升\n",
       "0  1.0  1.0  0.0  0.0\n",
       "1  0.0  0.0  0.0  1.0\n",
       "2  1.0  0.0  0.0  1.0\n",
       "3  1.0  1.0  1.0  1.0\n",
       "4  0.0  0.0  0.0  0.0"
      ],
      "text/html": "<div>\n<style scoped>\n    .dataframe tbody tr th:only-of-type {\n        vertical-align: middle;\n    }\n\n    .dataframe tbody tr th {\n        vertical-align: top;\n    }\n\n    .dataframe thead th {\n        text-align: right;\n    }\n</style>\n<table border=\"1\" class=\"dataframe\">\n  <thead>\n    <tr style=\"text-align: right;\">\n      <th></th>\n      <th>郭敬明</th>\n      <th>赵薇</th>\n      <th>陈凯歌</th>\n      <th>尔冬升</th>\n    </tr>\n  </thead>\n  <tbody>\n    <tr>\n      <th>0</th>\n      <td>1.0</td>\n      <td>1.0</td>\n      <td>0.0</td>\n      <td>0.0</td>\n    </tr>\n    <tr>\n      <th>1</th>\n      <td>0.0</td>\n      <td>0.0</td>\n      <td>0.0</td>\n      <td>1.0</td>\n    </tr>\n    <tr>\n      <th>2</th>\n      <td>1.0</td>\n      <td>0.0</td>\n      <td>0.0</td>\n      <td>1.0</td>\n    </tr>\n    <tr>\n      <th>3</th>\n      <td>1.0</td>\n      <td>1.0</td>\n      <td>1.0</td>\n      <td>1.0</td>\n    </tr>\n    <tr>\n      <th>4</th>\n      <td>0.0</td>\n      <td>0.0</td>\n      <td>0.0</td>\n      <td>0.0</td>\n    </tr>\n  </tbody>\n</table>\n</div>"
     },
     "metadata": {},
     "execution_count": 47
    }
   ],
   "source": [
    "#构建柱状图---评论词导演热度排名\n",
    "df.iloc[:,8:12].head(5)"
   ]
  },
  {
   "cell_type": "code",
   "execution_count": 48,
   "metadata": {},
   "outputs": [
    {
     "output_type": "execute_result",
     "data": {
      "text/plain": [
       "郭敬明    166.0\n",
       "赵薇      33.0\n",
       "陈凯歌     84.0\n",
       "尔冬升     71.0\n",
       "dtype: float64"
      ]
     },
     "metadata": {},
     "execution_count": 48
    }
   ],
   "source": [
    "df.iloc[:,8:12].sum()"
   ]
  },
  {
   "cell_type": "code",
   "execution_count": 49,
   "metadata": {},
   "outputs": [
    {
     "output_type": "execute_result",
     "data": {
      "text/plain": [
       "  index      0\n",
       "0   郭敬明  166.0\n",
       "1    赵薇   33.0\n",
       "2   陈凯歌   84.0\n",
       "3   尔冬升   71.0"
      ],
      "text/html": "<div>\n<style scoped>\n    .dataframe tbody tr th:only-of-type {\n        vertical-align: middle;\n    }\n\n    .dataframe tbody tr th {\n        vertical-align: top;\n    }\n\n    .dataframe thead th {\n        text-align: right;\n    }\n</style>\n<table border=\"1\" class=\"dataframe\">\n  <thead>\n    <tr style=\"text-align: right;\">\n      <th></th>\n      <th>index</th>\n      <th>0</th>\n    </tr>\n  </thead>\n  <tbody>\n    <tr>\n      <th>0</th>\n      <td>郭敬明</td>\n      <td>166.0</td>\n    </tr>\n    <tr>\n      <th>1</th>\n      <td>赵薇</td>\n      <td>33.0</td>\n    </tr>\n    <tr>\n      <th>2</th>\n      <td>陈凯歌</td>\n      <td>84.0</td>\n    </tr>\n    <tr>\n      <th>3</th>\n      <td>尔冬升</td>\n      <td>71.0</td>\n    </tr>\n  </tbody>\n</table>\n</div>"
     },
     "metadata": {},
     "execution_count": 49
    }
   ],
   "source": [
    "df.iloc[:,8:12].sum().reset_index()"
   ]
  },
  {
   "cell_type": "code",
   "execution_count": 50,
   "metadata": {},
   "outputs": [],
   "source": [
    "dom = df.iloc[:,8:12].sum().reset_index().sort_values(0,ascending = False)"
   ]
  },
  {
   "cell_type": "code",
   "execution_count": 51,
   "metadata": {},
   "outputs": [
    {
     "output_type": "execute_result",
     "data": {
      "text/plain": [
       "  index      0\n",
       "0   郭敬明  166.0\n",
       "2   陈凯歌   84.0\n",
       "3   尔冬升   71.0\n",
       "1    赵薇   33.0"
      ],
      "text/html": "<div>\n<style scoped>\n    .dataframe tbody tr th:only-of-type {\n        vertical-align: middle;\n    }\n\n    .dataframe tbody tr th {\n        vertical-align: top;\n    }\n\n    .dataframe thead th {\n        text-align: right;\n    }\n</style>\n<table border=\"1\" class=\"dataframe\">\n  <thead>\n    <tr style=\"text-align: right;\">\n      <th></th>\n      <th>index</th>\n      <th>0</th>\n    </tr>\n  </thead>\n  <tbody>\n    <tr>\n      <th>0</th>\n      <td>郭敬明</td>\n      <td>166.0</td>\n    </tr>\n    <tr>\n      <th>2</th>\n      <td>陈凯歌</td>\n      <td>84.0</td>\n    </tr>\n    <tr>\n      <th>3</th>\n      <td>尔冬升</td>\n      <td>71.0</td>\n    </tr>\n    <tr>\n      <th>1</th>\n      <td>赵薇</td>\n      <td>33.0</td>\n    </tr>\n  </tbody>\n</table>\n</div>"
     },
     "metadata": {},
     "execution_count": 51
    }
   ],
   "source": [
    "dom"
   ]
  },
  {
   "cell_type": "code",
   "execution_count": 52,
   "metadata": {},
   "outputs": [],
   "source": [
    "dom.columns = ['角色','次数']#添加列，这上面的index和0不是列名称，所以不能重命名 dom['角色','次数'] = dom['index','0']会报错"
   ]
  },
  {
   "cell_type": "code",
   "execution_count": 53,
   "metadata": {},
   "outputs": [],
   "source": [
    "dom['占比'] = round(dom['次数']/dom['次数'].sum(),2)*100"
   ]
  },
  {
   "cell_type": "code",
   "execution_count": 54,
   "metadata": {},
   "outputs": [
    {
     "output_type": "execute_result",
     "data": {
      "text/plain": [
       "    角色     次数    占比\n",
       "0  郭敬明  166.0  47.0\n",
       "2  陈凯歌   84.0  24.0\n",
       "3  尔冬升   71.0  20.0\n",
       "1   赵薇   33.0   9.0"
      ],
      "text/html": "<div>\n<style scoped>\n    .dataframe tbody tr th:only-of-type {\n        vertical-align: middle;\n    }\n\n    .dataframe tbody tr th {\n        vertical-align: top;\n    }\n\n    .dataframe thead th {\n        text-align: right;\n    }\n</style>\n<table border=\"1\" class=\"dataframe\">\n  <thead>\n    <tr style=\"text-align: right;\">\n      <th></th>\n      <th>角色</th>\n      <th>次数</th>\n      <th>占比</th>\n    </tr>\n  </thead>\n  <tbody>\n    <tr>\n      <th>0</th>\n      <td>郭敬明</td>\n      <td>166.0</td>\n      <td>47.0</td>\n    </tr>\n    <tr>\n      <th>2</th>\n      <td>陈凯歌</td>\n      <td>84.0</td>\n      <td>24.0</td>\n    </tr>\n    <tr>\n      <th>3</th>\n      <td>尔冬升</td>\n      <td>71.0</td>\n      <td>20.0</td>\n    </tr>\n    <tr>\n      <th>1</th>\n      <td>赵薇</td>\n      <td>33.0</td>\n      <td>9.0</td>\n    </tr>\n  </tbody>\n</table>\n</div>"
     },
     "metadata": {},
     "execution_count": 54
    }
   ],
   "source": [
    "dom"
   ]
  },
  {
   "cell_type": "code",
   "execution_count": 55,
   "metadata": {},
   "outputs": [
    {
     "output_type": "stream",
     "name": "stdout",
     "text": [
      "<class 'pandas.core.frame.DataFrame'>\nInt64Index: 4 entries, 0 to 1\nData columns (total 3 columns):\n角色    4 non-null object\n次数    4 non-null float64\n占比    4 non-null float64\ndtypes: float64(2), object(1)\nmemory usage: 128.0+ bytes\n"
     ]
    }
   ],
   "source": [
    "dom.info()"
   ]
  },
  {
   "cell_type": "code",
   "execution_count": 56,
   "metadata": {},
   "outputs": [],
   "source": [
    "#绘制一个双y轴，一个是bar，一个是line的组合图，这里我们需要用overlap()"
   ]
  },
  {
   "cell_type": "code",
   "execution_count": 57,
   "metadata": {},
   "outputs": [],
   "source": [
    "#example\n",
    "from pyecharts.faker import Faker"
   ]
  },
  {
   "cell_type": "code",
   "execution_count": 58,
   "metadata": {},
   "outputs": [],
   "source": [
    "x = list(dom['角色'])\n",
    "y1 = list(dom['次数'])\n",
    "y2 = list(dom['占比'])"
   ]
  },
  {
   "cell_type": "code",
   "execution_count": 59,
   "metadata": {},
   "outputs": [
    {
     "output_type": "execute_result",
     "data": {
      "text/plain": [
       "(['郭敬明', '陈凯歌', '尔冬升', '赵薇'],\n",
       " [166.0, 84.0, 71.0, 33.0],\n",
       " [47.0, 24.0, 20.0, 9.0])"
      ]
     },
     "metadata": {},
     "execution_count": 59
    }
   ],
   "source": [
    "x,y1,y2"
   ]
  },
  {
   "cell_type": "code",
   "execution_count": 60,
   "metadata": {},
   "outputs": [
    {
     "output_type": "execute_result",
     "data": {
      "text/plain": [
       "<pyecharts.render.display.HTML at 0x14e7a314128>"
      ],
      "text/html": "\n<script>\n    require.config({\n        paths: {\n            'echarts':'https://assets.pyecharts.org/assets/echarts.min'\n        }\n    });\n</script>\n\n        <div id=\"69f9da5d2cd2433e813661e3f30e012f\" style=\"width:900px; height:500px;\"></div>\n\n<script>\n        require(['echarts'], function(echarts) {\n                var chart_69f9da5d2cd2433e813661e3f30e012f = echarts.init(\n                    document.getElementById('69f9da5d2cd2433e813661e3f30e012f'), 'dark', {renderer: 'canvas'});\n                var option_69f9da5d2cd2433e813661e3f30e012f = {\n    \"animation\": true,\n    \"animationThreshold\": 2000,\n    \"animationDuration\": 1000,\n    \"animationEasing\": \"cubicOut\",\n    \"animationDelay\": 0,\n    \"animationDurationUpdate\": 300,\n    \"animationEasingUpdate\": \"cubicOut\",\n    \"animationDelayUpdate\": 0,\n    \"series\": [\n        {\n            \"type\": \"bar\",\n            \"name\": \"\\u6b21\\u6570\",\n            \"legendHoverLink\": true,\n            \"data\": [\n                166.0,\n                84.0,\n                71.0,\n                33.0\n            ],\n            \"showBackground\": false,\n            \"barWidth\": \"50%\",\n            \"barMinHeight\": 0,\n            \"barCategoryGap\": \"20%\",\n            \"barGap\": \"30%\",\n            \"large\": false,\n            \"largeThreshold\": 400,\n            \"seriesLayoutBy\": \"column\",\n            \"datasetIndex\": 0,\n            \"clip\": true,\n            \"zlevel\": 0,\n            \"z\": 2,\n            \"label\": {\n                \"show\": true,\n                \"position\": \"inside\",\n                \"margin\": 8\n            },\n            \"markLine\": {\n                \"silent\": false,\n                \"precision\": 2,\n                \"label\": {\n                    \"show\": true,\n                    \"position\": \"top\",\n                    \"margin\": 8\n                },\n                \"data\": [\n                    {\n                        \"name\": \"\\u6700\\u5927\\u503c\",\n                        \"type\": \"max\"\n                    }\n                ]\n            },\n            \"rippleEffect\": {\n                \"show\": true,\n                \"brushType\": \"stroke\",\n                \"scale\": 2.5,\n                \"period\": 4\n            }\n        },\n        {\n            \"type\": \"line\",\n            \"name\": \"\\u5360\\u6bd4\",\n            \"connectNulls\": false,\n            \"yAxisIndex\": 1,\n            \"symbolSize\": 4,\n            \"showSymbol\": true,\n            \"smooth\": false,\n            \"clip\": true,\n            \"step\": false,\n            \"data\": [\n                [\n                    \"\\u90ed\\u656c\\u660e\",\n                    47.0\n                ],\n                [\n                    \"\\u9648\\u51ef\\u6b4c\",\n                    24.0\n                ],\n                [\n                    \"\\u5c14\\u51ac\\u5347\",\n                    20.0\n                ],\n                [\n                    \"\\u8d75\\u8587\",\n                    9.0\n                ]\n            ],\n            \"hoverAnimation\": true,\n            \"label\": {\n                \"show\": true,\n                \"position\": \"top\",\n                \"margin\": 8\n            },\n            \"lineStyle\": {\n                \"show\": true,\n                \"width\": 1,\n                \"opacity\": 1,\n                \"curveness\": 0,\n                \"type\": \"solid\"\n            },\n            \"areaStyle\": {\n                \"opacity\": 0\n            },\n            \"zlevel\": 0,\n            \"z\": 0\n        }\n    ],\n    \"legend\": [\n        {\n            \"data\": [\n                \"\\u6b21\\u6570\",\n                \"\\u5360\\u6bd4\"\n            ],\n            \"selected\": {\n                \"\\u6b21\\u6570\": true,\n                \"\\u5360\\u6bd4\": true\n            },\n            \"show\": true,\n            \"padding\": 5,\n            \"itemGap\": 10,\n            \"itemWidth\": 25,\n            \"itemHeight\": 14\n        }\n    ],\n    \"tooltip\": {\n        \"show\": true,\n        \"trigger\": \"item\",\n        \"triggerOn\": \"mousemove|click\",\n        \"axisPointer\": {\n            \"type\": \"line\"\n        },\n        \"showContent\": true,\n        \"alwaysShowContent\": false,\n        \"showDelay\": 0,\n        \"hideDelay\": 100,\n        \"textStyle\": {\n            \"fontSize\": 14\n        },\n        \"borderWidth\": 0,\n        \"padding\": 5\n    },\n    \"xAxis\": [\n        {\n            \"show\": true,\n            \"scale\": false,\n            \"nameLocation\": \"end\",\n            \"nameGap\": 15,\n            \"gridIndex\": 0,\n            \"inverse\": false,\n            \"offset\": 0,\n            \"splitNumber\": 5,\n            \"minInterval\": 0,\n            \"splitLine\": {\n                \"show\": false,\n                \"lineStyle\": {\n                    \"show\": true,\n                    \"width\": 1,\n                    \"opacity\": 1,\n                    \"curveness\": 0,\n                    \"type\": \"solid\"\n                }\n            },\n            \"data\": [\n                \"\\u90ed\\u656c\\u660e\",\n                \"\\u9648\\u51ef\\u6b4c\",\n                \"\\u5c14\\u51ac\\u5347\",\n                \"\\u8d75\\u8587\"\n            ]\n        }\n    ],\n    \"yAxis\": [\n        {\n            \"show\": true,\n            \"scale\": false,\n            \"nameLocation\": \"end\",\n            \"nameGap\": 15,\n            \"interval\": 40,\n            \"gridIndex\": 0,\n            \"axisLabel\": {\n                \"show\": true,\n                \"position\": \"top\",\n                \"margin\": 8,\n                \"formatter\": \"{value} \\u6b21\"\n            },\n            \"inverse\": false,\n            \"offset\": 0,\n            \"splitNumber\": 5,\n            \"max\": 200,\n            \"minInterval\": 0,\n            \"splitLine\": {\n                \"show\": false,\n                \"lineStyle\": {\n                    \"show\": true,\n                    \"width\": 1,\n                    \"opacity\": 1,\n                    \"curveness\": 0,\n                    \"type\": \"solid\"\n                }\n            }\n        },\n        {\n            \"show\": true,\n            \"scale\": false,\n            \"nameLocation\": \"end\",\n            \"nameGap\": 15,\n            \"interval\": 10,\n            \"gridIndex\": 0,\n            \"axisLabel\": {\n                \"show\": true,\n                \"position\": \"top\",\n                \"margin\": 8,\n                \"formatter\": \"{value} %\"\n            },\n            \"inverse\": false,\n            \"offset\": 0,\n            \"splitNumber\": 5,\n            \"minInterval\": 0,\n            \"splitLine\": {\n                \"show\": false,\n                \"lineStyle\": {\n                    \"show\": true,\n                    \"width\": 1,\n                    \"opacity\": 1,\n                    \"curveness\": 0,\n                    \"type\": \"solid\"\n                }\n            }\n        }\n    ],\n    \"title\": [\n        {\n            \"text\": \"\\u5bfc\\u6f14\\u70ed\\u5ea6\\u6392\\u540d\\u53ca\\u5360\\u6bd4\",\n            \"padding\": 5,\n            \"itemGap\": 10\n        }\n    ]\n};\n                chart_69f9da5d2cd2433e813661e3f30e012f.setOption(option_69f9da5d2cd2433e813661e3f30e012f);\n        });\n    </script>\n"
     },
     "metadata": {},
     "execution_count": 60
    }
   ],
   "source": [
    "bar = (\n",
    "    Bar(init_opts=opts.InitOpts(theme=ThemeType.DARK))  # 设置主题\n",
    "    .add_xaxis(x)\n",
    "    .add_yaxis(\"次数\", y1,bar_width = '50%',is_legend_hover_link = True,)\n",
    "    # .add_yaxis(\"占比\", y2)\n",
    "    .extend_axis(\n",
    "        yaxis=opts.AxisOpts(\n",
    "            axislabel_opts=opts.LabelOpts(formatter=\"{value} %\"), interval=10\n",
    "        )\n",
    "    )\n",
    "    .set_series_opts(label_opts=opts.LabelOpts(is_show=True,position = \"inside\",),\n",
    "    markline_opts=opts.MarkLineOpts(\n",
    "                data=[\n",
    "                    # opts.MarkLineItem(type_=\"min\", name=\"最小值\"),\n",
    "                    opts.MarkLineItem(type_=\"max\", name=\"最大值\")\n",
    "                ]\n",
    "            )\n",
    ")\n",
    "    .set_global_opts(\n",
    "        title_opts=opts.TitleOpts(title=\"导演热度排名及占比\"),\n",
    "        yaxis_opts=opts.AxisOpts(axislabel_opts=opts.LabelOpts(formatter=\"{value} 次\"),max_= 200,interval = 40),\n",
    "    )\n",
    ")\n",
    "\n",
    "line = Line().add_xaxis(x).add_yaxis(\"占比\", y2, yaxis_index=1)\n",
    "bar.overlap(line)\n",
    "bar.render_notebook()"
   ]
  },
  {
   "source": [
    "又学习了一遍关于配置项的东西，还是那句老话，温故而知新，可以为师矣"
   ],
   "cell_type": "markdown",
   "metadata": {}
  },
  {
   "cell_type": "code",
   "execution_count": 61,
   "metadata": {},
   "outputs": [],
   "source": [
    "#对0进行处理\n",
    "hourlist = []\n",
    "for i in df['hour']:\n",
    "    if i == 0:\n",
    "        i = 24\n",
    "    #print(i)\n",
    "    hourlist.append(i)\n",
    "# print(hourlist)\n",
    "df['hour'] = hourlist"
   ]
  },
  {
   "cell_type": "code",
   "execution_count": 62,
   "metadata": {},
   "outputs": [],
   "source": [
    "#对观看时间进行分析\n",
    "place_message = df.groupby(['hour'])\n",
    "place_com = place_message['hour'].agg(['count'])\n",
    "place_com.reset_index(inplace=True)\n",
    "place_com_last = place_com.sort_index()\n",
    "dom1 = place_com_last.sort_values('hour', ascending=True)"
   ]
  },
  {
   "cell_type": "code",
   "execution_count": 63,
   "metadata": {},
   "outputs": [
    {
     "output_type": "execute_result",
     "data": {
      "text/plain": [
       "    hour  count\n",
       "0      1     36\n",
       "1      2     15\n",
       "2      3     13\n",
       "3      4      7\n",
       "4      5      8\n",
       "5      6      3\n",
       "6      7      6\n",
       "7      8     13\n",
       "8      9     23\n",
       "9     10     15\n",
       "10    11     11\n",
       "11    12     15\n",
       "12    13     16\n",
       "13    14     11\n",
       "14    15     12\n",
       "15    16     14\n",
       "16    17     19\n",
       "17    18     14\n",
       "18    19     20\n",
       "19    20     30\n",
       "20    21     33\n",
       "21    22     43\n",
       "22    23     63\n",
       "23    24     49"
      ],
      "text/html": "<div>\n<style scoped>\n    .dataframe tbody tr th:only-of-type {\n        vertical-align: middle;\n    }\n\n    .dataframe tbody tr th {\n        vertical-align: top;\n    }\n\n    .dataframe thead th {\n        text-align: right;\n    }\n</style>\n<table border=\"1\" class=\"dataframe\">\n  <thead>\n    <tr style=\"text-align: right;\">\n      <th></th>\n      <th>hour</th>\n      <th>count</th>\n    </tr>\n  </thead>\n  <tbody>\n    <tr>\n      <th>0</th>\n      <td>1</td>\n      <td>36</td>\n    </tr>\n    <tr>\n      <th>1</th>\n      <td>2</td>\n      <td>15</td>\n    </tr>\n    <tr>\n      <th>2</th>\n      <td>3</td>\n      <td>13</td>\n    </tr>\n    <tr>\n      <th>3</th>\n      <td>4</td>\n      <td>7</td>\n    </tr>\n    <tr>\n      <th>4</th>\n      <td>5</td>\n      <td>8</td>\n    </tr>\n    <tr>\n      <th>5</th>\n      <td>6</td>\n      <td>3</td>\n    </tr>\n    <tr>\n      <th>6</th>\n      <td>7</td>\n      <td>6</td>\n    </tr>\n    <tr>\n      <th>7</th>\n      <td>8</td>\n      <td>13</td>\n    </tr>\n    <tr>\n      <th>8</th>\n      <td>9</td>\n      <td>23</td>\n    </tr>\n    <tr>\n      <th>9</th>\n      <td>10</td>\n      <td>15</td>\n    </tr>\n    <tr>\n      <th>10</th>\n      <td>11</td>\n      <td>11</td>\n    </tr>\n    <tr>\n      <th>11</th>\n      <td>12</td>\n      <td>15</td>\n    </tr>\n    <tr>\n      <th>12</th>\n      <td>13</td>\n      <td>16</td>\n    </tr>\n    <tr>\n      <th>13</th>\n      <td>14</td>\n      <td>11</td>\n    </tr>\n    <tr>\n      <th>14</th>\n      <td>15</td>\n      <td>12</td>\n    </tr>\n    <tr>\n      <th>15</th>\n      <td>16</td>\n      <td>14</td>\n    </tr>\n    <tr>\n      <th>16</th>\n      <td>17</td>\n      <td>19</td>\n    </tr>\n    <tr>\n      <th>17</th>\n      <td>18</td>\n      <td>14</td>\n    </tr>\n    <tr>\n      <th>18</th>\n      <td>19</td>\n      <td>20</td>\n    </tr>\n    <tr>\n      <th>19</th>\n      <td>20</td>\n      <td>30</td>\n    </tr>\n    <tr>\n      <th>20</th>\n      <td>21</td>\n      <td>33</td>\n    </tr>\n    <tr>\n      <th>21</th>\n      <td>22</td>\n      <td>43</td>\n    </tr>\n    <tr>\n      <th>22</th>\n      <td>23</td>\n      <td>63</td>\n    </tr>\n    <tr>\n      <th>23</th>\n      <td>24</td>\n      <td>49</td>\n    </tr>\n  </tbody>\n</table>\n</div>"
     },
     "metadata": {},
     "execution_count": 63
    }
   ],
   "source": [
    "dom1"
   ]
  },
  {
   "cell_type": "code",
   "execution_count": 64,
   "metadata": {},
   "outputs": [],
   "source": [
    "x_h = list(dom1['hour'])\n",
    "#len(list(dom1['hour'])) 我们需要将0改成24，有两种办法\n",
    "# x_hlist = []\n",
    "# x_hlist.extend([i for i in range(1,25)])\n",
    "y_h = list(dom1['count'])"
   ]
  },
  {
   "cell_type": "code",
   "execution_count": 65,
   "metadata": {},
   "outputs": [
    {
     "output_type": "execute_result",
     "data": {
      "text/plain": [
       "<pyecharts.render.display.HTML at 0x14e7a2c0c88>"
      ],
      "text/html": "\n<script>\n    require.config({\n        paths: {\n            'echarts':'https://assets.pyecharts.org/assets/echarts.min', 'chalk':'https://assets.pyecharts.org/assets/themes/chalk'\n        }\n    });\n</script>\n\n        <div id=\"9ec62f4589234df38993739c99303961\" style=\"width:900px; height:500px;\"></div>\n\n<script>\n        require(['echarts', 'chalk'], function(echarts) {\n                var chart_9ec62f4589234df38993739c99303961 = echarts.init(\n                    document.getElementById('9ec62f4589234df38993739c99303961'), 'chalk', {renderer: 'canvas'});\n                var option_9ec62f4589234df38993739c99303961 = {\n    \"animation\": true,\n    \"animationThreshold\": 2000,\n    \"animationDuration\": 1000,\n    \"animationEasing\": \"cubicOut\",\n    \"animationDelay\": 0,\n    \"animationDurationUpdate\": 300,\n    \"animationEasingUpdate\": \"cubicOut\",\n    \"animationDelayUpdate\": 0,\n    \"series\": [\n        {\n            \"type\": \"bar\",\n            \"name\": \"\\u6b21\\u6570\",\n            \"legendHoverLink\": true,\n            \"data\": [\n                36,\n                15,\n                13,\n                7,\n                8,\n                3,\n                6,\n                13,\n                23,\n                15,\n                11,\n                15,\n                16,\n                11,\n                12,\n                14,\n                19,\n                14,\n                20,\n                30,\n                33,\n                43,\n                63,\n                49\n            ],\n            \"showBackground\": false,\n            \"barWidth\": \"50%\",\n            \"barMinHeight\": 0,\n            \"barCategoryGap\": \"20%\",\n            \"barGap\": \"30%\",\n            \"large\": false,\n            \"largeThreshold\": 400,\n            \"seriesLayoutBy\": \"column\",\n            \"datasetIndex\": 0,\n            \"clip\": true,\n            \"zlevel\": 0,\n            \"z\": 2,\n            \"label\": {\n                \"show\": true,\n                \"position\": \"top\",\n                \"margin\": 8\n            },\n            \"markLine\": {\n                \"silent\": false,\n                \"precision\": 2,\n                \"label\": {\n                    \"show\": true,\n                    \"position\": \"top\",\n                    \"margin\": 8\n                },\n                \"data\": [\n                    {\n                        \"name\": \"\\u6700\\u5927\\u503c\",\n                        \"type\": \"max\"\n                    }\n                ]\n            },\n            \"rippleEffect\": {\n                \"show\": true,\n                \"brushType\": \"stroke\",\n                \"scale\": 2.5,\n                \"period\": 4\n            }\n        }\n    ],\n    \"legend\": [\n        {\n            \"data\": [\n                \"\\u6b21\\u6570\"\n            ],\n            \"selected\": {\n                \"\\u6b21\\u6570\": true\n            },\n            \"show\": true,\n            \"padding\": 5,\n            \"itemGap\": 10,\n            \"itemWidth\": 25,\n            \"itemHeight\": 14\n        }\n    ],\n    \"tooltip\": {\n        \"show\": true,\n        \"trigger\": \"item\",\n        \"triggerOn\": \"mousemove|click\",\n        \"axisPointer\": {\n            \"type\": \"line\"\n        },\n        \"showContent\": true,\n        \"alwaysShowContent\": false,\n        \"showDelay\": 0,\n        \"hideDelay\": 100,\n        \"textStyle\": {\n            \"fontSize\": 14\n        },\n        \"borderWidth\": 0,\n        \"padding\": 5\n    },\n    \"xAxis\": [\n        {\n            \"show\": true,\n            \"scale\": false,\n            \"nameLocation\": \"end\",\n            \"nameGap\": 15,\n            \"gridIndex\": 0,\n            \"inverse\": false,\n            \"offset\": 0,\n            \"splitNumber\": 5,\n            \"minInterval\": 0,\n            \"splitLine\": {\n                \"show\": false,\n                \"lineStyle\": {\n                    \"show\": true,\n                    \"width\": 1,\n                    \"opacity\": 1,\n                    \"curveness\": 0,\n                    \"type\": \"solid\"\n                }\n            },\n            \"data\": [\n                1,\n                2,\n                3,\n                4,\n                5,\n                6,\n                7,\n                8,\n                9,\n                10,\n                11,\n                12,\n                13,\n                14,\n                15,\n                16,\n                17,\n                18,\n                19,\n                20,\n                21,\n                22,\n                23,\n                24\n            ]\n        }\n    ],\n    \"yAxis\": [\n        {\n            \"show\": true,\n            \"scale\": false,\n            \"nameLocation\": \"end\",\n            \"nameGap\": 15,\n            \"interval\": 10,\n            \"gridIndex\": 0,\n            \"axisLabel\": {\n                \"show\": true,\n                \"position\": \"top\",\n                \"margin\": 8,\n                \"formatter\": \"{value} \\u6b21\"\n            },\n            \"inverse\": false,\n            \"offset\": 0,\n            \"splitNumber\": 5,\n            \"minInterval\": 0,\n            \"splitLine\": {\n                \"show\": false,\n                \"lineStyle\": {\n                    \"show\": true,\n                    \"width\": 1,\n                    \"opacity\": 1,\n                    \"curveness\": 0,\n                    \"type\": \"solid\"\n                }\n            }\n        }\n    ],\n    \"title\": [\n        {\n            \"text\": \"\\u8bc4\\u8bba\\u65f6\\u95f4\\u5206\\u5e03\",\n            \"padding\": 5,\n            \"itemGap\": 10\n        }\n    ]\n};\n                chart_9ec62f4589234df38993739c99303961.setOption(option_9ec62f4589234df38993739c99303961);\n        });\n    </script>\n"
     },
     "metadata": {},
     "execution_count": 65
    }
   ],
   "source": [
    "bar = (\n",
    "    Bar(init_opts=opts.InitOpts(theme=ThemeType.CHALK))  # 设置主题\n",
    "    .add_xaxis(x_h)\n",
    "    .add_yaxis(\"次数\", y_h,bar_width = '50%',is_legend_hover_link = True,)\n",
    "    .set_series_opts(label_opts=opts.LabelOpts(is_show=True),\n",
    "    markline_opts=opts.MarkLineOpts(\n",
    "                data=[\n",
    "                    opts.MarkLineItem(type_=\"max\", name=\"最大值\")\n",
    "                ]\n",
    "            )\n",
    ")\n",
    "    .set_global_opts(\n",
    "        title_opts=opts.TitleOpts(title=\"评论时间分布\"),\n",
    "        yaxis_opts=opts.AxisOpts(axislabel_opts=opts.LabelOpts(formatter=\"{value} 次\"),interval = 10),\n",
    "    )\n",
    ")\n",
    "bar.render_notebook()"
   ]
  },
  {
   "cell_type": "code",
   "execution_count": 66,
   "metadata": {},
   "outputs": [],
   "source": [
    "(ds1,ds2,ds3,ds4,ds5) = ([],[],[],[],[])\n",
    "# for i in df['stars']:\n",
    "#     # print(i)\n",
    "#     if i == 10:\n",
    "#         ds1.append(i)\n",
    "#     if i == 20:\n",
    "#         ds2.append(i)\n",
    "#     if i == 30:\n",
    "#         ds3.append(i)\n",
    "#     if i == 40:\n",
    "#         ds4.append(i)\n",
    "#     if i == 50:\n",
    "#         ds5.append(i)\n",
    "place_message = df.groupby(['stars'])\n",
    "place_com = place_message['stars'].agg(['count'])\n",
    "place_com.reset_index(inplace=True)\n",
    "place_com_last = place_com.sort_index()\n",
    "dom3 = place_com_last.sort_values('stars', ascending=True)"
   ]
  },
  {
   "cell_type": "code",
   "execution_count": 67,
   "metadata": {},
   "outputs": [
    {
     "output_type": "execute_result",
     "data": {
      "text/plain": [
       "   stars  count\n",
       "0     10    259\n",
       "1     20    101\n",
       "2     30     80\n",
       "3     40     38\n",
       "4     50     11"
      ],
      "text/html": "<div>\n<style scoped>\n    .dataframe tbody tr th:only-of-type {\n        vertical-align: middle;\n    }\n\n    .dataframe tbody tr th {\n        vertical-align: top;\n    }\n\n    .dataframe thead th {\n        text-align: right;\n    }\n</style>\n<table border=\"1\" class=\"dataframe\">\n  <thead>\n    <tr style=\"text-align: right;\">\n      <th></th>\n      <th>stars</th>\n      <th>count</th>\n    </tr>\n  </thead>\n  <tbody>\n    <tr>\n      <th>0</th>\n      <td>10</td>\n      <td>259</td>\n    </tr>\n    <tr>\n      <th>1</th>\n      <td>20</td>\n      <td>101</td>\n    </tr>\n    <tr>\n      <th>2</th>\n      <td>30</td>\n      <td>80</td>\n    </tr>\n    <tr>\n      <th>3</th>\n      <td>40</td>\n      <td>38</td>\n    </tr>\n    <tr>\n      <th>4</th>\n      <td>50</td>\n      <td>11</td>\n    </tr>\n  </tbody>\n</table>\n</div>"
     },
     "metadata": {},
     "execution_count": 67
    }
   ],
   "source": [
    "dom3"
   ]
  },
  {
   "cell_type": "code",
   "execution_count": 68,
   "metadata": {},
   "outputs": [],
   "source": [
    "x_s = ['一星','二星','三星','四星','五星']\n",
    "# y_s = [len(ds1),len(ds2),len(ds3),len(ds4),len(ds5)]\n",
    "y_s = list(dom3['count'])"
   ]
  },
  {
   "cell_type": "code",
   "execution_count": 69,
   "metadata": {},
   "outputs": [
    {
     "output_type": "execute_result",
     "data": {
      "text/plain": [
       "(['一星', '二星', '三星', '四星', '五星'], [259, 101, 80, 38, 11])"
      ]
     },
     "metadata": {},
     "execution_count": 69
    }
   ],
   "source": [
    "x_s,y_s"
   ]
  },
  {
   "cell_type": "code",
   "execution_count": 70,
   "metadata": {},
   "outputs": [
    {
     "output_type": "execute_result",
     "data": {
      "text/plain": [
       "<pyecharts.render.display.HTML at 0x14e7a2d6240>"
      ],
      "text/html": "\n<script>\n    require.config({\n        paths: {\n            'echarts':'https://assets.pyecharts.org/assets/echarts.min'\n        }\n    });\n</script>\n\n        <div id=\"f25cc2b2ef02477c83a15624313905e5\" style=\"width:900px; height:500px;\"></div>\n\n<script>\n        require(['echarts'], function(echarts) {\n                var chart_f25cc2b2ef02477c83a15624313905e5 = echarts.init(\n                    document.getElementById('f25cc2b2ef02477c83a15624313905e5'), 'white', {renderer: 'canvas'});\n                var option_f25cc2b2ef02477c83a15624313905e5 = {\n    \"animation\": true,\n    \"animationThreshold\": 2000,\n    \"animationDuration\": 1000,\n    \"animationEasing\": \"cubicOut\",\n    \"animationDelay\": 0,\n    \"animationDurationUpdate\": 300,\n    \"animationEasingUpdate\": \"cubicOut\",\n    \"animationDelayUpdate\": 0,\n    \"color\": [\n        \"#c23531\",\n        \"#2f4554\",\n        \"#61a0a8\",\n        \"#d48265\",\n        \"#749f83\",\n        \"#ca8622\",\n        \"#bda29a\",\n        \"#6e7074\",\n        \"#546570\",\n        \"#c4ccd3\",\n        \"#f05b72\",\n        \"#ef5b9c\",\n        \"#f47920\",\n        \"#905a3d\",\n        \"#fab27b\",\n        \"#2a5caa\",\n        \"#444693\",\n        \"#726930\",\n        \"#b2d235\",\n        \"#6d8346\",\n        \"#ac6767\",\n        \"#1d953f\",\n        \"#6950a1\",\n        \"#918597\"\n    ],\n    \"series\": [\n        {\n            \"type\": \"pie\",\n            \"clockwise\": true,\n            \"data\": [\n                {\n                    \"name\": \"\\u4e00\\u661f\",\n                    \"value\": 259\n                },\n                {\n                    \"name\": \"\\u4e8c\\u661f\",\n                    \"value\": 101\n                },\n                {\n                    \"name\": \"\\u4e09\\u661f\",\n                    \"value\": 80\n                },\n                {\n                    \"name\": \"\\u56db\\u661f\",\n                    \"value\": 38\n                },\n                {\n                    \"name\": \"\\u4e94\\u661f\",\n                    \"value\": 11\n                }\n            ],\n            \"radius\": [\n                \"30%\",\n                \"55%\"\n            ],\n            \"center\": [\n                \"75%\",\n                \"50%\"\n            ],\n            \"roseType\": \"area\",\n            \"label\": {\n                \"show\": true,\n                \"position\": \"top\",\n                \"margin\": 8\n            }\n        }\n    ],\n    \"legend\": [\n        {\n            \"data\": [\n                \"\\u4e00\\u661f\",\n                \"\\u4e8c\\u661f\",\n                \"\\u4e09\\u661f\",\n                \"\\u56db\\u661f\",\n                \"\\u4e94\\u661f\"\n            ],\n            \"selected\": {},\n            \"show\": true,\n            \"padding\": 5,\n            \"itemGap\": 10,\n            \"itemWidth\": 25,\n            \"itemHeight\": 14\n        }\n    ],\n    \"tooltip\": {\n        \"show\": true,\n        \"trigger\": \"item\",\n        \"triggerOn\": \"mousemove|click\",\n        \"axisPointer\": {\n            \"type\": \"line\"\n        },\n        \"showContent\": true,\n        \"alwaysShowContent\": false,\n        \"showDelay\": 0,\n        \"hideDelay\": 100,\n        \"textStyle\": {\n            \"fontSize\": 14\n        },\n        \"borderWidth\": 0,\n        \"padding\": 5\n    },\n    \"title\": [\n        {\n            \"text\": \"\\u5404\\u661f\\u7ea7\\u5206\\u5e03\",\n            \"padding\": 5,\n            \"itemGap\": 10\n        }\n    ]\n};\n                chart_f25cc2b2ef02477c83a15624313905e5.setOption(option_f25cc2b2ef02477c83a15624313905e5);\n        });\n    </script>\n"
     },
     "metadata": {},
     "execution_count": 70
    }
   ],
   "source": [
    "pie = (\n",
    "    Pie()\n",
    "    .add(\n",
    "        \"\",\n",
    "        [list(z) for z in zip(x_s, y_s)],\n",
    "        radius=[\"30%\", \"55%\"],\n",
    "        center=[\"75%\", \"50%\"],\n",
    "        rosetype=\"area\",\n",
    "    )\n",
    "    .set_global_opts(title_opts=opts.TitleOpts(title=\"各星级分布\"))\n",
    ")\n",
    "pie.render_notebook()"
   ]
  },
  {
   "cell_type": "code",
   "execution_count": 71,
   "metadata": {},
   "outputs": [],
   "source": [
    "dom2 = df.iloc[:,2:5]   ##有个问题，如何任意取出两列，还未解决"
   ]
  },
  {
   "cell_type": "code",
   "execution_count": 72,
   "metadata": {},
   "outputs": [
    {
     "output_type": "execute_result",
     "data": {
      "text/plain": [
       "4217"
      ]
     },
     "metadata": {},
     "execution_count": 72
    }
   ],
   "source": [
    "df['likes'].loc[df['stars'] == 10].sum()"
   ]
  },
  {
   "cell_type": "code",
   "execution_count": 73,
   "metadata": {},
   "outputs": [],
   "source": [
    "# (dt1,dt2,dt3,dt4,dt5) = (0,0,0,0,0)\n",
    "(dt1,dt2,dt3,dt4,dt5) = ([],[],[],[],[])"
   ]
  },
  {
   "cell_type": "code",
   "execution_count": 74,
   "metadata": {},
   "outputs": [],
   "source": [
    "# for i in range(len(list(df['stars']))):\n",
    "#     if list(df['stars'])[i] == 10:\n",
    "#         dt1 += list(df['likes'])[i]\n",
    "#     if list(df['stars'])[i] == 20:\n",
    "#         dt2 += list(df['likes'])[i] \n",
    "#     if list(df['stars'])[i] == 30:\n",
    "#         dt3 += list(df['likes'])[i]\n",
    "#     if list(df['stars'])[i] == 40:\n",
    "#         dt4 += list(df['likes'])[i] \n",
    "#     if list(df['stars'])[i] == 50:\n",
    "#         dt5 += list(df['likes'])[i] \n",
    "dt1 = int(df['likes'].loc[df['stars'] == 10].sum())#按照行去求和\n",
    "dt2 = int(df['likes'].loc[df['stars'] == 20].sum())\n",
    "dt3 = int(df['likes'].loc[df['stars'] == 30].sum())\n",
    "dt4 = int(df['likes'].loc[df['stars'] == 40].sum())\n",
    "dt5 = int(df['likes'].loc[df['stars'] == 50].sum())"
   ]
  },
  {
   "cell_type": "code",
   "execution_count": 75,
   "metadata": {},
   "outputs": [],
   "source": [
    "#type(dt1)"
   ]
  },
  {
   "cell_type": "code",
   "execution_count": 76,
   "metadata": {},
   "outputs": [],
   "source": [
    "x_t = ['一星','二星','三星','四星','五星']\n",
    "y_t = [dt1,dt2,dt3,dt4,dt5]"
   ]
  },
  {
   "cell_type": "code",
   "execution_count": 77,
   "metadata": {},
   "outputs": [
    {
     "output_type": "execute_result",
     "data": {
      "text/plain": [
       "<pyecharts.render.display.HTML at 0x14e7a534e80>"
      ],
      "text/html": "\n<script>\n    require.config({\n        paths: {\n            'echarts':'https://assets.pyecharts.org/assets/echarts.min'\n        }\n    });\n</script>\n\n        <div id=\"7648cf6c39b2477fa955a4d7c210b0ba\" style=\"width:900px; height:500px;\"></div>\n\n<script>\n        require(['echarts'], function(echarts) {\n                var chart_7648cf6c39b2477fa955a4d7c210b0ba = echarts.init(\n                    document.getElementById('7648cf6c39b2477fa955a4d7c210b0ba'), 'white', {renderer: 'canvas'});\n                var option_7648cf6c39b2477fa955a4d7c210b0ba = {\n    \"animation\": true,\n    \"animationThreshold\": 2000,\n    \"animationDuration\": 1000,\n    \"animationEasing\": \"cubicOut\",\n    \"animationDelay\": 0,\n    \"animationDurationUpdate\": 300,\n    \"animationEasingUpdate\": \"cubicOut\",\n    \"animationDelayUpdate\": 0,\n    \"color\": [\n        \"#c23531\",\n        \"#2f4554\",\n        \"#61a0a8\",\n        \"#d48265\",\n        \"#749f83\",\n        \"#ca8622\",\n        \"#bda29a\",\n        \"#6e7074\",\n        \"#546570\",\n        \"#c4ccd3\",\n        \"#f05b72\",\n        \"#ef5b9c\",\n        \"#f47920\",\n        \"#905a3d\",\n        \"#fab27b\",\n        \"#2a5caa\",\n        \"#444693\",\n        \"#726930\",\n        \"#b2d235\",\n        \"#6d8346\",\n        \"#ac6767\",\n        \"#1d953f\",\n        \"#6950a1\",\n        \"#918597\"\n    ],\n    \"series\": [\n        {\n            \"type\": \"pie\",\n            \"clockwise\": true,\n            \"data\": [\n                {\n                    \"name\": \"\\u4e00\\u661f\",\n                    \"value\": 4217\n                },\n                {\n                    \"name\": \"\\u4e8c\\u661f\",\n                    \"value\": 1933\n                },\n                {\n                    \"name\": \"\\u4e09\\u661f\",\n                    \"value\": 4367\n                },\n                {\n                    \"name\": \"\\u56db\\u661f\",\n                    \"value\": 6309\n                },\n                {\n                    \"name\": \"\\u4e94\\u661f\",\n                    \"value\": 917\n                }\n            ],\n            \"radius\": [\n                \"40%\",\n                \"55%\"\n            ],\n            \"center\": [\n                \"50%\",\n                \"50%\"\n            ],\n            \"label\": {\n                \"show\": true,\n                \"position\": \"outside\",\n                \"margin\": 8,\n                \"formatter\": \"{a|{a}}{abg|}\\n{hr|}\\n {b|{b}: }{c}  {per|{d}%}  \",\n                \"backgroundColor\": \"#eee\",\n                \"borderColor\": \"#aaa\",\n                \"borderWidth\": 1,\n                \"borderRadius\": 4,\n                \"rich\": {\n                    \"a\": {\n                        \"color\": \"#999\",\n                        \"lineHeight\": 22,\n                        \"align\": \"center\"\n                    },\n                    \"abg\": {\n                        \"backgroundColor\": \"#e3e3e3\",\n                        \"width\": \"100%\",\n                        \"align\": \"right\",\n                        \"height\": 22,\n                        \"borderRadius\": [\n                            4,\n                            4,\n                            0,\n                            0\n                        ]\n                    },\n                    \"hr\": {\n                        \"borderColor\": \"#aaa\",\n                        \"width\": \"100%\",\n                        \"borderWidth\": 0.5,\n                        \"height\": 0\n                    },\n                    \"b\": {\n                        \"fontSize\": 16,\n                        \"lineHeight\": 33\n                    },\n                    \"per\": {\n                        \"color\": \"#eee\",\n                        \"backgroundColor\": \"#334455\",\n                        \"padding\": [\n                            2,\n                            4\n                        ],\n                        \"borderRadius\": 2\n                    }\n                }\n            }\n        }\n    ],\n    \"legend\": [\n        {\n            \"data\": [\n                \"\\u4e00\\u661f\",\n                \"\\u4e8c\\u661f\",\n                \"\\u4e09\\u661f\",\n                \"\\u56db\\u661f\",\n                \"\\u4e94\\u661f\"\n            ],\n            \"selected\": {},\n            \"show\": true,\n            \"padding\": 5,\n            \"itemGap\": 10,\n            \"itemWidth\": 25,\n            \"itemHeight\": 14\n        }\n    ],\n    \"tooltip\": {\n        \"show\": true,\n        \"trigger\": \"item\",\n        \"triggerOn\": \"mousemove|click\",\n        \"axisPointer\": {\n            \"type\": \"line\"\n        },\n        \"showContent\": true,\n        \"alwaysShowContent\": false,\n        \"showDelay\": 0,\n        \"hideDelay\": 100,\n        \"textStyle\": {\n            \"fontSize\": 14\n        },\n        \"borderWidth\": 0,\n        \"padding\": 5\n    },\n    \"title\": [\n        {\n            \"text\": \"\\u5404\\u661f\\u7ea7\\u70b9\\u8d5e\\u6570\\u5206\\u5e03\",\n            \"padding\": 5,\n            \"itemGap\": 10\n        }\n    ]\n};\n                chart_7648cf6c39b2477fa955a4d7c210b0ba.setOption(option_7648cf6c39b2477fa955a4d7c210b0ba);\n        });\n    </script>\n"
     },
     "metadata": {},
     "execution_count": 77
    }
   ],
   "source": [
    "pie = (\n",
    "    Pie()\n",
    "    .add(\n",
    "        \"\",\n",
    "        [list(z) for z in zip(x_t, y_t)],\n",
    "        radius=[\"40%\", \"55%\"],\n",
    "        label_opts=opts.LabelOpts(\n",
    "            position=\"outside\",\n",
    "            formatter=\"{a|{a}}{abg|}\\n{hr|}\\n {b|{b}: }{c}  {per|{d}%}  \",\n",
    "            background_color=\"#eee\",\n",
    "            border_color=\"#aaa\",\n",
    "            border_width=1,\n",
    "            border_radius=4,\n",
    "            rich={\n",
    "                \"a\": {\"color\": \"#999\", \"lineHeight\": 22, \"align\": \"center\"},\n",
    "                \"abg\": {\n",
    "                    \"backgroundColor\": \"#e3e3e3\",\n",
    "                    \"width\": \"100%\",\n",
    "                    \"align\": \"right\",\n",
    "                    \"height\": 22,\n",
    "                    \"borderRadius\": [4, 4, 0, 0],\n",
    "                },\n",
    "                \"hr\": {\n",
    "                    \"borderColor\": \"#aaa\",\n",
    "                    \"width\": \"100%\",\n",
    "                    \"borderWidth\": 0.5,\n",
    "                    \"height\": 0,\n",
    "                },\n",
    "                \"b\": {\"fontSize\": 16, \"lineHeight\": 33},\n",
    "                \"per\": {\n",
    "                    \"color\": \"#eee\",\n",
    "                    \"backgroundColor\": \"#334455\",\n",
    "                    \"padding\": [2, 4],\n",
    "                    \"borderRadius\": 2,\n",
    "                },\n",
    "            },\n",
    "        ),\n",
    "    )\n",
    "    .set_global_opts(title_opts=opts.TitleOpts(title=\"各星级点赞数分布\"))\n",
    ")\n",
    "pie.render_notebook()"
   ]
  },
  {
   "cell_type": "code",
   "execution_count": 78,
   "metadata": {},
   "outputs": [],
   "source": [
    "# y_t"
   ]
  },
  {
   "cell_type": "code",
   "execution_count": 79,
   "metadata": {},
   "outputs": [],
   "source": [
    "# df['likes'].sort_values(0,ascending = False)"
   ]
  },
  {
   "cell_type": "code",
   "execution_count": 80,
   "metadata": {},
   "outputs": [],
   "source": [
    "x_p = []\n",
    "dom5 = []\n",
    "for i in range(1,25):\n",
    "    dp = round(float(df['pos_p'].loc[df['hour'] == i].sum()),2)#这里应该是分析一天的情感  /(df['pos_p'].loc[df['hour']].sum()/5\n",
    "    x_p.append(str(i))#注意折线图的x必须是str，要不然机会错位或者图形\n",
    "    dom5.append(dp)"
   ]
  },
  {
   "cell_type": "code",
   "execution_count": 81,
   "metadata": {},
   "outputs": [],
   "source": [
    "# dom5"
   ]
  },
  {
   "cell_type": "code",
   "execution_count": 99,
   "metadata": {},
   "outputs": [
    {
     "output_type": "execute_result",
     "data": {
      "text/plain": [
       "<pyecharts.render.display.HTML at 0x14e7a54eef0>"
      ],
      "text/html": "\n<script>\n    require.config({\n        paths: {\n            'echarts':'https://assets.pyecharts.org/assets/echarts.min', 'romantic':'https://assets.pyecharts.org/assets/themes/romantic'\n        }\n    });\n</script>\n\n        <div id=\"dbf9e0d293fd4ec5a5ecce1f5830e974\" style=\"width:900px; height:500px;\"></div>\n\n<script>\n        require(['echarts', 'romantic'], function(echarts) {\n                var chart_dbf9e0d293fd4ec5a5ecce1f5830e974 = echarts.init(\n                    document.getElementById('dbf9e0d293fd4ec5a5ecce1f5830e974'), 'romantic', {renderer: 'canvas'});\n                var option_dbf9e0d293fd4ec5a5ecce1f5830e974 = {\n    \"animation\": true,\n    \"animationThreshold\": 2000,\n    \"animationDuration\": 1000,\n    \"animationEasing\": \"cubicOut\",\n    \"animationDelay\": 0,\n    \"animationDurationUpdate\": 300,\n    \"animationEasingUpdate\": \"cubicOut\",\n    \"animationDelayUpdate\": 0,\n    \"series\": [\n        {\n            \"type\": \"line\",\n            \"name\": \"\\u60c5\\u611f\\u503c\",\n            \"connectNulls\": false,\n            \"symbolSize\": 4,\n            \"showSymbol\": true,\n            \"smooth\": false,\n            \"clip\": true,\n            \"step\": false,\n            \"data\": [\n                [\n                    \"1\",\n                    6.21\n                ],\n                [\n                    \"2\",\n                    2.5\n                ],\n                [\n                    \"3\",\n                    1.85\n                ],\n                [\n                    \"4\",\n                    0.88\n                ],\n                [\n                    \"5\",\n                    0.82\n                ],\n                [\n                    \"6\",\n                    0.01\n                ],\n                [\n                    \"7\",\n                    0.77\n                ],\n                [\n                    \"8\",\n                    1.41\n                ],\n                [\n                    \"9\",\n                    4.41\n                ],\n                [\n                    \"10\",\n                    1.42\n                ],\n                [\n                    \"11\",\n                    2.84\n                ],\n                [\n                    \"12\",\n                    2.19\n                ],\n                [\n                    \"13\",\n                    2.45\n                ],\n                [\n                    \"14\",\n                    1.3\n                ],\n                [\n                    \"15\",\n                    1.18\n                ],\n                [\n                    \"16\",\n                    1.11\n                ],\n                [\n                    \"17\",\n                    3.44\n                ],\n                [\n                    \"18\",\n                    3.23\n                ],\n                [\n                    \"19\",\n                    2.63\n                ],\n                [\n                    \"20\",\n                    7.83\n                ],\n                [\n                    \"21\",\n                    6.23\n                ],\n                [\n                    \"22\",\n                    9.34\n                ],\n                [\n                    \"23\",\n                    8.93\n                ],\n                [\n                    \"24\",\n                    6.46\n                ]\n            ],\n            \"hoverAnimation\": true,\n            \"label\": {\n                \"show\": true,\n                \"position\": \"left\",\n                \"margin\": 8\n            },\n            \"lineStyle\": {\n                \"show\": true,\n                \"width\": 1,\n                \"opacity\": 1,\n                \"curveness\": 0,\n                \"type\": \"solid\"\n            },\n            \"areaStyle\": {\n                \"opacity\": 0\n            },\n            \"markPoint\": {\n                \"label\": {\n                    \"show\": true,\n                    \"position\": \"inside\",\n                    \"color\": \"#fff\",\n                    \"margin\": 8\n                },\n                \"data\": [\n                    {\n                        \"name\": \"\\u6700\\u5927\\u503c\",\n                        \"type\": \"max\"\n                    },\n                    {\n                        \"name\": \"\\u6700\\u5c0f\\u503c\",\n                        \"type\": \"min\"\n                    }\n                ]\n            },\n            \"markLine\": {\n                \"silent\": false,\n                \"precision\": 2,\n                \"label\": {\n                    \"show\": true,\n                    \"position\": \"top\",\n                    \"margin\": 8\n                },\n                \"data\": [\n                    {\n                        \"name\": \"\\u5e73\\u5747\\u503c\",\n                        \"type\": \"average\"\n                    }\n                ]\n            },\n            \"zlevel\": 0,\n            \"z\": 0,\n            \"rippleEffect\": {\n                \"show\": true,\n                \"brushType\": \"stroke\",\n                \"scale\": 2.5,\n                \"period\": 4\n            }\n        }\n    ],\n    \"legend\": [\n        {\n            \"data\": [\n                \"\\u60c5\\u611f\\u503c\"\n            ],\n            \"selected\": {\n                \"\\u60c5\\u611f\\u503c\": true\n            },\n            \"show\": true,\n            \"padding\": 5,\n            \"itemGap\": 10,\n            \"itemWidth\": 25,\n            \"itemHeight\": 14\n        }\n    ],\n    \"tooltip\": {\n        \"show\": true,\n        \"trigger\": \"item\",\n        \"triggerOn\": \"mousemove|click\",\n        \"axisPointer\": {\n            \"type\": \"line\"\n        },\n        \"showContent\": true,\n        \"alwaysShowContent\": false,\n        \"showDelay\": 0,\n        \"hideDelay\": 100,\n        \"textStyle\": {\n            \"fontSize\": 14\n        },\n        \"borderWidth\": 0,\n        \"padding\": 5\n    },\n    \"xAxis\": [\n        {\n            \"show\": true,\n            \"scale\": false,\n            \"nameLocation\": \"end\",\n            \"nameGap\": 15,\n            \"gridIndex\": 0,\n            \"inverse\": false,\n            \"offset\": 0,\n            \"splitNumber\": 5,\n            \"minInterval\": 0,\n            \"splitLine\": {\n                \"show\": false,\n                \"lineStyle\": {\n                    \"show\": true,\n                    \"width\": 1,\n                    \"opacity\": 1,\n                    \"curveness\": 0,\n                    \"type\": \"solid\"\n                }\n            },\n            \"data\": [\n                \"1\",\n                \"2\",\n                \"3\",\n                \"4\",\n                \"5\",\n                \"6\",\n                \"7\",\n                \"8\",\n                \"9\",\n                \"10\",\n                \"11\",\n                \"12\",\n                \"13\",\n                \"14\",\n                \"15\",\n                \"16\",\n                \"17\",\n                \"18\",\n                \"19\",\n                \"20\",\n                \"21\",\n                \"22\",\n                \"23\",\n                \"24\"\n            ]\n        }\n    ],\n    \"yAxis\": [\n        {\n            \"show\": true,\n            \"scale\": false,\n            \"nameLocation\": \"end\",\n            \"nameGap\": 15,\n            \"gridIndex\": 0,\n            \"axisLabel\": {\n                \"show\": true,\n                \"position\": \"top\",\n                \"margin\": 8,\n                \"formatter\": \"{value} \"\n            },\n            \"inverse\": false,\n            \"offset\": 0,\n            \"splitNumber\": 5,\n            \"minInterval\": 0,\n            \"splitLine\": {\n                \"show\": false,\n                \"lineStyle\": {\n                    \"show\": true,\n                    \"width\": 1,\n                    \"opacity\": 1,\n                    \"curveness\": 0,\n                    \"type\": \"solid\"\n                }\n            }\n        }\n    ],\n    \"title\": [\n        {\n            \"text\": \"\\u60c5\\u611f\\u503c\\u65f6\\u95f4\\u5206\\u5e03\",\n            \"padding\": 5,\n            \"itemGap\": 10\n        }\n    ]\n};\n                chart_dbf9e0d293fd4ec5a5ecce1f5830e974.setOption(option_dbf9e0d293fd4ec5a5ecce1f5830e974);\n        });\n    </script>\n"
     },
     "metadata": {},
     "execution_count": 99
    }
   ],
   "source": [
    "line = (\n",
    "    Line(init_opts=opts.InitOpts(theme=ThemeType.ROMANTIC))  # 设置主题\n",
    "    .add_xaxis(x_p)\n",
    "    .add_yaxis(\"情感值\", dom5,\n",
    "    markpoint_opts=opts.MarkPointOpts(\n",
    "            data=[\n",
    "                opts.MarkPointItem(type_=\"max\", name=\"最大值\"),\n",
    "                opts.MarkPointItem(type_=\"min\", name=\"最小值\"),\n",
    "            ]\n",
    "        ),\n",
    "        markline_opts=opts.MarkLineOpts(\n",
    "            data=[opts.MarkLineItem(type_=\"average\", name=\"平均值\")]\n",
    "        ),\n",
    "    )\n",
    "    .set_series_opts(label_opts=opts.LabelOpts(is_show=True,position = 'left',)\n",
    ")\n",
    "    .set_global_opts(\n",
    "        title_opts=opts.TitleOpts(title=\"情感值时间分布\"),\n",
    "        yaxis_opts=opts.AxisOpts(axislabel_opts=opts.LabelOpts(formatter=\"{value} \")),\n",
    "    )\n",
    ")\n",
    "line.render_notebook()"
   ]
  },
  {
   "cell_type": "code",
   "execution_count": 41,
   "metadata": {},
   "outputs": [],
   "source": [
    "#应该统计某一天的\n"
   ]
  }
 ]
}