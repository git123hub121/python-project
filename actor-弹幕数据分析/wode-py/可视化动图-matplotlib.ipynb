{
 "metadata": {
  "language_info": {
   "codemirror_mode": {
    "name": "ipython",
    "version": 3
   },
   "file_extension": ".py",
   "mimetype": "text/x-python",
   "name": "python",
   "nbconvert_exporter": "python",
   "pygments_lexer": "ipython3",
   "version": "3.7.0-final"
  },
  "orig_nbformat": 2,
  "kernelspec": {
   "name": "python3",
   "display_name": "Python 3"
  }
 },
 "nbformat": 4,
 "nbformat_minor": 2,
 "cells": [
  {
   "cell_type": "code",
   "execution_count": null,
   "metadata": {},
   "outputs": [],
   "source": [
    "import pandas as pd\n",
    "df = pd.read_csv('D:/Python/Mypython/python项目集锦/actor-弹幕数据分析/df_resuluts.csv',engine='python',encoding='utf-8')\n",
    "df.head(5)"
   ]
  },
  {
   "cell_type": "code",
   "execution_count": null,
   "metadata": {},
   "outputs": [],
   "source": [
    "%matplotlib inline\n",
    "import pandas as pd\n",
    "import matplotlib.pyplot as plt\n",
    "import matplotlib.ticker as ticker\n",
    "import matplotlib.animation as animation\n",
    "from IPython.display import HTML\n",
    "#显示中文（可能还会显示不了，请自行百度解决中文问题）\n",
    "plt.rcParams['font.sans-serif']=['SimHei']\n",
    "\n",
    "df2 = df[['name', '2020-09-28']].sort_values(by='2020-09-28', ascending=False).head(10)#内嵌一个列表实现取两列，温习\n",
    "df2.sort_values(by='2020-09-28', ascending=True, inplace=True)\n",
    "df2#为了条形图做准备"
   ]
  },
  {
   "cell_type": "code",
   "execution_count": null,
   "metadata": {},
   "outputs": [],
   "source": [
    "fig, ax = plt.subplots(figsize=(15, 8))\n",
    "ax.barh(df2['name'], df2['2020-09-28'])"
   ]
  },
  {
   "cell_type": "code",
   "execution_count": null,
   "metadata": {},
   "outputs": [],
   "source": [
    "colors = ['#adb0ff', '#ffb3ff', '#90d595', '#e48381', '#aafbff', '#f7bb5f', '#eafb50', \n",
    "         '#adb0ff', '#ffb3ff', '#90d595', '#e48381', '#aafbff', '#f7bb5f', '#eafb50',\n",
    "         '#adb0ff', '#ffb3ff', '#90d595', '#e48381', '#aafbff', '#f7bb5f', '#eafb50',\n",
    "         '#adb0ff', '#ffb3ff', '#90d595', '#e48381', '#aafbff', '#f7bb5f', '#eafb50',\n",
    "         '#adb0ff', '#ffb3ff', '#90d595', '#e48381', '#aafbff', '#f7bb5f', '#eafb50',\n",
    "          '#adb0ff', '#ffb3ff', '#90d595', '#e48381', '#aafbff', '#f7bb5f', '#eafb50',\n",
    "          '#adb0ff', '#ffb3ff', '#90d595', '#e48381', '#aafbff']\n",
    "\n",
    "#给每个国家随机分配颜色\n",
    "namecolors = dict()\n",
    "names = set(df['name'])\n",
    "for color, name in zip(colors, names):#多个序列(列表，元组，集合)同时遍历，使用zip()方法，这里很高级哦！\n",
    "    namecolors[name] = color\n",
    "    \n",
    "namecolors"
   ]
  },
  {
   "cell_type": "code",
   "execution_count": null,
   "metadata": {},
   "outputs": [],
   "source": [
    "fig, ax = plt.subplots(figsize=(15, 8))\n",
    "#排名前10的国家\n",
    "ax.barh(df2['name'], df2['2020-09-28'], color=[namecolors[c] for c in df2['name']])\n",
    "for i, (value, name) in enumerate(zip(df2['2020-09-28'], df2['name'])):\n",
    "        ax.text(value, i,     name,           size=14, weight=600, ha='right', va='bottom')\n",
    "        ax.text(value, i,     f'{value:,.0f}',  size=14, ha='left',  va='center')\n",
    "ax.text(1, 0.45, '2020-09-28', transform=ax.transAxes, size=46, ha='right')"
   ]
  },
  {
   "cell_type": "code",
   "execution_count": null,
   "metadata": {},
   "outputs": [],
   "source": [
    "list(df)"
   ]
  },
  {
   "cell_type": "code",
   "execution_count": null,
   "metadata": {},
   "outputs": [],
   "source": [
    "#data = [i for i in df[1:]][1:]#瞎猫碰上死耗子了\n",
    "#取出列名的几种方法之一\n",
    "data = list(df)[1:] \n",
    "#"
   ]
  },
  {
   "cell_type": "code",
   "execution_count": null,
   "metadata": {},
   "outputs": [],
   "source": [
    "fig, ax = plt.subplots(figsize=(15, 8))\n",
    "\n",
    "def draw_barchart(date):\n",
    "    #整理数据\n",
    "    date = str(date)\n",
    "    df2 = df[['name', date]].sort_values(by=date, ascending=False).head(10)\n",
    "    df2.sort_values(by=date, ascending=True, inplace=True)\n",
    "    \n",
    "    #横向条形图\n",
    "    ax.clear()\n",
    "    ax.barh(df2['name'], df2[date], color=[namecolors[name] for name in df2['name']])\n",
    "    dx = df[date].max()/200\n",
    "    \n",
    "    for i, (value, name) in enumerate(zip(df2[date], df2['name'])):\n",
    "        ax.text(value-dx, i,     name,           size=14, weight=600, ha='right', va='bottom')\n",
    "        ax.text(value+dx, i,     f'{value:,.0f}',  size=14, ha='left',  va='center')\n",
    "        \n",
    "        \n",
    "    #细节修饰\n",
    "    ax.text(1, 0.45, date, transform=ax.transAxes, color='#777777', size=46, ha='right', weight=800)\n",
    "    ax.text(0, 1.06, 'y轴标题', transform=ax.transAxes, size=12, color='#777777')\n",
    "    \n",
    "    ax.xaxis.set_ticks_position('top')\n",
    "    ax.tick_params(axis='x', colors='#777777', labelsize=12)\n",
    "    ax.xaxis.set_major_formatter(ticker.StrMethodFormatter('{x:,.0f}'))\n",
    "    ax.xaxis.set_ticks_position('top')\n",
    "    ax.tick_params(axis='x', colors='#777777', labelsize=12)\n",
    "\n",
    "    \n",
    "    ax.margins(0, 0.01)\n",
    "    ax.grid(which='major', axis='x', linestyle='-')\n",
    "    ax.set_axisbelow(True)\n",
    "    ax.text(0.3, 1.05, '总标题',\n",
    "           transform=ax.transAxes, size=24, weight=600, ha='left')\n",
    "    \n",
    "    plt.box(False)\n",
    "    \n",
    "#  for i in range(39):\n",
    "draw_barchart(data[0])"
   ]
  },
  {
   "cell_type": "code",
   "execution_count": null,
   "metadata": {},
   "outputs": [],
   "source": [
    "import matplotlib.animation as animation\n",
    "from IPython.display import HTML\n",
    "\n",
    "fig, ax = plt.subplots(figsize=(15, 8))\n",
    "animator = animation.FuncAnimation(fig, draw_barchart, frames=[data[i] for i in range(39)])\n",
    "HTML(animator.to_jshtml())"
   ]
  },
  {
   "cell_type": "code",
   "execution_count": null,
   "metadata": {},
   "outputs": [],
   "source": [
    "#保存为gif\n",
    "#animator.save('resetvalue.gif', writer='imagemagick')\n",
    "#animator.save('crap.gif', writer='imagemagick',  savefig_kwargs={'facecolor':'white'}, fps=1)"
   ]
  },
  {
   "cell_type": "code",
   "execution_count": null,
   "metadata": {},
   "outputs": [],
   "source": [
    "# 如何保存为视频\n",
    "animator.to_html5_video()\n",
    "#animator.save('countryflys1.mp4')"
   ]
  }
 ]
}