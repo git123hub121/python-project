{
 "cells": [
  {
   "cell_type": "markdown",
   "metadata": {},
   "source": [
    "# 演员请就位2弹幕数据分析"
   ]
  },
  {
   "cell_type": "markdown",
   "metadata": {},
   "source": [
    "## 数据读入"
   ]
  },
  {
   "cell_type": "code",
   "execution_count": 27,
   "metadata": {},
   "outputs": [],
   "source": [
    "# 导入库\n",
    "import os  \n",
    "import jieba\n",
    "import numpy as np\n",
    "import pandas as pd \n",
    "\n",
    "from pyecharts.charts import Bar, Pie, Line, WordCloud, Page\n",
    "from pyecharts import options as opts \n",
    "from pyecharts.globals import SymbolType, WarningType\n",
    "WarningType.ShowWarning = False\n",
    "\n",
    "import stylecloud\n",
    "from IPython.display import Image # 用于在jupyter lab中显示本地图"
   ]
  },
  {
   "cell_type": "code",
   "execution_count": 28,
   "metadata": {},
   "outputs": [
    {
     "output_type": "stream",
     "name": "stdout",
     "text": [
      "第一期上集.csv\n",
      "第一期下集.csv\n",
      "第三期上集.csv\n",
      "第三期下集.csv\n",
      "第二期上集.csv\n",
      "第二期下集.csv\n",
      "第五期上集.csv\n",
      "第五期下集.csv\n",
      "第四期上集.csv\n",
      "第四期下集.csv\n",
      "(449762, 7)\n"
     ]
    }
   ],
   "source": [
    "# 读入数据\n",
    "data_list = os.listdir('../data/')\n",
    "\n",
    "df_all = pd.DataFrame()\n",
    "\n",
    "for i in data_list[-10:]:#data_list[-10:]表示从倒数第10个开始往后数\n",
    "    print(i) \n",
    "    df_one = pd.read_csv(f'../data/{i}', engine='python', encoding='utf-8', index_col=0) \n",
    "    df_all = df_all.append(df_one, ignore_index=False)\n",
    "\n",
    "print(df_all.shape) \n",
    "   "
   ]
  },
  {
   "cell_type": "code",
   "execution_count": 29,
   "metadata": {},
   "outputs": [
    {
     "output_type": "stream",
     "name": "stdout",
     "text": [
      "<class 'pandas.core.frame.DataFrame'>\nInt64Index: 449762 entries, 0 to 44317\nData columns (total 7 columns):\nepisodes      449762 non-null object\ncomment_id    449762 non-null int64\noper_name     183066 non-null object\nvip_degree    449762 non-null int64\ncontent       449762 non-null object\ntime_point    449762 non-null int64\nup_count      449762 non-null int64\ndtypes: int64(4), object(3)\nmemory usage: 27.5+ MB\n"
     ]
    }
   ],
   "source": [
    "df_all.info() "
   ]
  },
  {
   "cell_type": "markdown",
   "metadata": {},
   "source": [
    "## 数据预处理"
   ]
  },
  {
   "cell_type": "code",
   "execution_count": 44,
   "metadata": {},
   "outputs": [],
   "source": [
    "#df_all #所有csv的数据都被叠加了进来"
   ]
  },
  {
   "cell_type": "code",
   "execution_count": 31,
   "metadata": {},
   "outputs": [
    {
     "output_type": "execute_result",
     "data": {
      "text/plain": [
       "pandas.core.strings.StringMethods"
      ]
     },
     "metadata": {},
     "execution_count": 31
    }
   ],
   "source": [
    "# type(str(df_all['content']))#.raplace('(.*?)','')\n",
    "type(df_all['content'].str)"
   ]
  },
  {
   "cell_type": "code",
   "execution_count": 32,
   "metadata": {},
   "outputs": [
    {
     "output_type": "execute_result",
     "data": {
      "text/plain": [
       "  episodes           comment_id oper_name  vip_degree       content  \\\n",
       "0     第一期上  6717761110280435812      跌跌撞撞           2            哈哈   \n",
       "1     第一期上  6717761069147254852        抑扬           0   11111111111   \n",
       "2     第一期上  6717761193165433088       NaN           3           还有谁   \n",
       "3     第一期上  6717761031483408824        咩💨           2          来了来了   \n",
       "4     第一期上  6717761007696148412       NaN           0          第一不错   \n",
       "\n",
       "   time_point  up_count  \n",
       "0          19        48  \n",
       "1          19        25  \n",
       "2          17        25  \n",
       "3          15        39  \n",
       "4          19         6  "
      ],
      "text/html": "<div>\n<style scoped>\n    .dataframe tbody tr th:only-of-type {\n        vertical-align: middle;\n    }\n\n    .dataframe tbody tr th {\n        vertical-align: top;\n    }\n\n    .dataframe thead th {\n        text-align: right;\n    }\n</style>\n<table border=\"1\" class=\"dataframe\">\n  <thead>\n    <tr style=\"text-align: right;\">\n      <th></th>\n      <th>episodes</th>\n      <th>comment_id</th>\n      <th>oper_name</th>\n      <th>vip_degree</th>\n      <th>content</th>\n      <th>time_point</th>\n      <th>up_count</th>\n    </tr>\n  </thead>\n  <tbody>\n    <tr>\n      <th>0</th>\n      <td>第一期上</td>\n      <td>6717761110280435812</td>\n      <td>跌跌撞撞</td>\n      <td>2</td>\n      <td>哈哈</td>\n      <td>19</td>\n      <td>48</td>\n    </tr>\n    <tr>\n      <th>1</th>\n      <td>第一期上</td>\n      <td>6717761069147254852</td>\n      <td>抑扬</td>\n      <td>0</td>\n      <td>11111111111</td>\n      <td>19</td>\n      <td>25</td>\n    </tr>\n    <tr>\n      <th>2</th>\n      <td>第一期上</td>\n      <td>6717761193165433088</td>\n      <td>NaN</td>\n      <td>3</td>\n      <td>还有谁</td>\n      <td>17</td>\n      <td>25</td>\n    </tr>\n    <tr>\n      <th>3</th>\n      <td>第一期上</td>\n      <td>6717761031483408824</td>\n      <td>咩💨</td>\n      <td>2</td>\n      <td>来了来了</td>\n      <td>15</td>\n      <td>39</td>\n    </tr>\n    <tr>\n      <th>4</th>\n      <td>第一期上</td>\n      <td>6717761007696148412</td>\n      <td>NaN</td>\n      <td>0</td>\n      <td>第一不错</td>\n      <td>19</td>\n      <td>6</td>\n    </tr>\n  </tbody>\n</table>\n</div>"
     },
     "metadata": {},
     "execution_count": 32
    }
   ],
   "source": [
    "# 删除弹幕角色\n",
    "df_all['content'] = df_all['content'].str.replace('(.*?:)', '')#这也行，这也太流弊了吧,这个地方很多知识点哦\n",
    "df_all.head() "
   ]
  },
  {
   "cell_type": "code",
   "execution_count": 63,
   "metadata": {},
   "outputs": [
    {
     "output_type": "execute_result",
     "data": {
      "text/plain": [
       "  index  episodes\n",
       "0  第一期上     57624\n",
       "1  第三期上     55075\n",
       "2  第五期上     52688\n",
       "3  第二期上     47593\n",
       "4  第四期上     45387\n",
       "5  第三期下     44674\n",
       "6  第四期下     44318\n",
       "7  第二期下     41773\n",
       "8  第五期下     31378\n",
       "9  第一期下     29252"
      ],
      "text/html": "<div>\n<style scoped>\n    .dataframe tbody tr th:only-of-type {\n        vertical-align: middle;\n    }\n\n    .dataframe tbody tr th {\n        vertical-align: top;\n    }\n\n    .dataframe thead th {\n        text-align: right;\n    }\n</style>\n<table border=\"1\" class=\"dataframe\">\n  <thead>\n    <tr style=\"text-align: right;\">\n      <th></th>\n      <th>index</th>\n      <th>episodes</th>\n    </tr>\n  </thead>\n  <tbody>\n    <tr>\n      <th>0</th>\n      <td>第一期上</td>\n      <td>57624</td>\n    </tr>\n    <tr>\n      <th>1</th>\n      <td>第三期上</td>\n      <td>55075</td>\n    </tr>\n    <tr>\n      <th>2</th>\n      <td>第五期上</td>\n      <td>52688</td>\n    </tr>\n    <tr>\n      <th>3</th>\n      <td>第二期上</td>\n      <td>47593</td>\n    </tr>\n    <tr>\n      <th>4</th>\n      <td>第四期上</td>\n      <td>45387</td>\n    </tr>\n    <tr>\n      <th>5</th>\n      <td>第三期下</td>\n      <td>44674</td>\n    </tr>\n    <tr>\n      <th>6</th>\n      <td>第四期下</td>\n      <td>44318</td>\n    </tr>\n    <tr>\n      <th>7</th>\n      <td>第二期下</td>\n      <td>41773</td>\n    </tr>\n    <tr>\n      <th>8</th>\n      <td>第五期下</td>\n      <td>31378</td>\n    </tr>\n    <tr>\n      <th>9</th>\n      <td>第一期下</td>\n      <td>29252</td>\n    </tr>\n  </tbody>\n</table>\n</div>"
     },
     "metadata": {},
     "execution_count": 63
    }
   ],
   "source": [
    "df_epinum = df_all['episodes'].value_counts().reset_index()#默认降序排列      \n",
    "# df_epinum['num'] = [1, 5, 3, 7, 6, 8, 4, 9, 2, 10]#自定义排序\n",
    "# df_epinum = df_epinum.sort_values('num') \n",
    "df_epinum"
   ]
  },
  {
   "cell_type": "code",
   "execution_count": 51,
   "metadata": {},
   "outputs": [
    {
     "output_type": "execute_result",
     "data": {
      "text/plain": [
       "<pyecharts.render.display.HTML at 0x243ca7bdcf8>"
      ],
      "text/html": "\n<script>\n    require.config({\n        paths: {\n            'echarts':'https://assets.pyecharts.org/assets/echarts.min'\n        }\n    });\n</script>\n\n        <div id=\"fd9c573bddbd4200bc597f3c132293f3\" style=\"width:1000px; height:400px;\"></div>\n\n<script>\n        require(['echarts'], function(echarts) {\n                var chart_fd9c573bddbd4200bc597f3c132293f3 = echarts.init(\n                    document.getElementById('fd9c573bddbd4200bc597f3c132293f3'), 'white', {renderer: 'canvas'});\n                var option_fd9c573bddbd4200bc597f3c132293f3 = {\n    \"animation\": true,\n    \"animationThreshold\": 2000,\n    \"animationDuration\": 1000,\n    \"animationEasing\": \"cubicOut\",\n    \"animationDelay\": 0,\n    \"animationDurationUpdate\": 300,\n    \"animationEasingUpdate\": \"cubicOut\",\n    \"animationDelayUpdate\": 0,\n    \"color\": [\n        \"#c23531\",\n        \"#2f4554\",\n        \"#61a0a8\",\n        \"#d48265\",\n        \"#749f83\",\n        \"#ca8622\",\n        \"#bda29a\",\n        \"#6e7074\",\n        \"#546570\",\n        \"#c4ccd3\",\n        \"#f05b72\",\n        \"#ef5b9c\",\n        \"#f47920\",\n        \"#905a3d\",\n        \"#fab27b\",\n        \"#2a5caa\",\n        \"#444693\",\n        \"#726930\",\n        \"#b2d235\",\n        \"#6d8346\",\n        \"#ac6767\",\n        \"#1d953f\",\n        \"#6950a1\",\n        \"#918597\"\n    ],\n    \"series\": [\n        {\n            \"type\": \"bar\",\n            \"legendHoverLink\": true,\n            \"data\": [\n                57624,\n                55075,\n                52688,\n                47593,\n                45387,\n                44674,\n                44318,\n                41773,\n                31378,\n                29252\n            ],\n            \"showBackground\": false,\n            \"barMinHeight\": 0,\n            \"barCategoryGap\": \"20%\",\n            \"barGap\": \"30%\",\n            \"large\": false,\n            \"largeThreshold\": 400,\n            \"seriesLayoutBy\": \"column\",\n            \"datasetIndex\": 0,\n            \"clip\": true,\n            \"zlevel\": 0,\n            \"z\": 2,\n            \"label\": {\n                \"show\": true,\n                \"position\": \"top\",\n                \"margin\": 8\n            }\n        }\n    ],\n    \"legend\": [\n        {\n            \"data\": [\n                \"\"\n            ],\n            \"selected\": {\n                \"\": true\n            },\n            \"show\": true,\n            \"padding\": 5,\n            \"itemGap\": 10,\n            \"itemWidth\": 25,\n            \"itemHeight\": 14\n        }\n    ],\n    \"tooltip\": {\n        \"show\": true,\n        \"trigger\": \"item\",\n        \"triggerOn\": \"mousemove|click\",\n        \"axisPointer\": {\n            \"type\": \"line\"\n        },\n        \"showContent\": true,\n        \"alwaysShowContent\": false,\n        \"showDelay\": 0,\n        \"hideDelay\": 100,\n        \"textStyle\": {\n            \"fontSize\": 14\n        },\n        \"borderWidth\": 0,\n        \"padding\": 5\n    },\n    \"xAxis\": [\n        {\n            \"show\": true,\n            \"scale\": false,\n            \"nameLocation\": \"end\",\n            \"nameGap\": 15,\n            \"gridIndex\": 0,\n            \"inverse\": false,\n            \"offset\": 0,\n            \"splitNumber\": 5,\n            \"minInterval\": 0,\n            \"splitLine\": {\n                \"show\": false,\n                \"lineStyle\": {\n                    \"show\": true,\n                    \"width\": 1,\n                    \"opacity\": 1,\n                    \"curveness\": 0,\n                    \"type\": \"solid\"\n                }\n            },\n            \"data\": [\n                \"\\u7b2c\\u4e00\\u671f\\u4e0a\",\n                \"\\u7b2c\\u4e09\\u671f\\u4e0a\",\n                \"\\u7b2c\\u4e94\\u671f\\u4e0a\",\n                \"\\u7b2c\\u4e8c\\u671f\\u4e0a\",\n                \"\\u7b2c\\u56db\\u671f\\u4e0a\",\n                \"\\u7b2c\\u4e09\\u671f\\u4e0b\",\n                \"\\u7b2c\\u56db\\u671f\\u4e0b\",\n                \"\\u7b2c\\u4e8c\\u671f\\u4e0b\",\n                \"\\u7b2c\\u4e94\\u671f\\u4e0b\",\n                \"\\u7b2c\\u4e00\\u671f\\u4e0b\"\n            ]\n        }\n    ],\n    \"yAxis\": [\n        {\n            \"show\": true,\n            \"scale\": false,\n            \"nameLocation\": \"end\",\n            \"nameGap\": 15,\n            \"gridIndex\": 0,\n            \"inverse\": false,\n            \"offset\": 0,\n            \"splitNumber\": 5,\n            \"minInterval\": 0,\n            \"splitLine\": {\n                \"show\": false,\n                \"lineStyle\": {\n                    \"show\": true,\n                    \"width\": 1,\n                    \"opacity\": 1,\n                    \"curveness\": 0,\n                    \"type\": \"solid\"\n                }\n            }\n        }\n    ],\n    \"title\": [\n        {\n            \"text\": \"\\u524d\\u4e94\\u671f\\u7684\\u5f39\\u5e55\\u6570\\u8d70\\u52bf\\u56fe\",\n            \"padding\": 5,\n            \"itemGap\": 10\n        }\n    ],\n    \"visualMap\": {\n        \"show\": true,\n        \"type\": \"continuous\",\n        \"min\": 0,\n        \"max\": 60000,\n        \"inRange\": {\n            \"color\": [\n                \"#50a3ba\",\n                \"#eac763\",\n                \"#d94e5d\"\n            ]\n        },\n        \"calculable\": true,\n        \"inverse\": false,\n        \"splitNumber\": 5,\n        \"orient\": \"vertical\",\n        \"showLabel\": true,\n        \"itemWidth\": 20,\n        \"itemHeight\": 140,\n        \"borderWidth\": 0\n    }\n};\n                chart_fd9c573bddbd4200bc597f3c132293f3.setOption(option_fd9c573bddbd4200bc597f3c132293f3);\n        });\n    </script>\n"
     },
     "metadata": {},
     "execution_count": 51
    }
   ],
   "source": [
    "x_data = df_epinum['index'].tolist()\n",
    "y_data = df_epinum['episodes'].tolist()\n",
    "\n",
    "# 条形图\n",
    "bar1 = Bar(init_opts=opts.InitOpts(width='1000px', height='400px'))\n",
    "bar1.add_xaxis(xaxis_data=x_data)\n",
    "bar1.add_yaxis('', y_axis=y_data)\n",
    "bar1.set_global_opts(title_opts=opts.TitleOpts(title='前五期的弹幕数走势图'), \n",
    "                     visualmap_opts=opts.VisualMapOpts(max_=60000, is_show=True)#映射 \n",
    "                    )\n",
    "bar1.render_notebook() "
   ]
  },
  {
   "cell_type": "markdown",
   "metadata": {},
   "source": [
    "## 数据可视化"
   ]
  },
  {
   "cell_type": "markdown",
   "metadata": {},
   "source": [
    "### 弹幕中主要导演提及次数"
   ]
  },
  {
   "cell_type": "code",
   "execution_count": 98,
   "metadata": {},
   "outputs": [
    {
     "output_type": "execute_result",
     "data": {
      "text/plain": [
       "449762"
      ]
     },
     "metadata": {},
     "execution_count": 98
    }
   ],
   "source": [
    "df_all.content.str.contains('凯歌').sum()"
   ]
  },
  {
   "cell_type": "code",
   "execution_count": 64,
   "metadata": {},
   "outputs": [
    {
     "output_type": "stream",
     "name": "stdout",
     "text": [
      "9863 3578 10109 10906 4043\n"
     ]
    }
   ],
   "source": [
    "chen_num = df_all.content.str.contains('凯歌').sum()\n",
    "er_num = df_all.content.str.contains('冬升').sum()\n",
    "zhao_num = df_all.content.str.contains('赵薇').sum()\n",
    "guo_num = df_all.content.str.contains('敬明|小四').sum()\n",
    "li_num = df_all.content.str.contains('诚儒').sum()\n",
    "#上述重复代码块可以用函数来构建\n",
    "#1.先构建一个列表   ['凯歌', '冬升', '赵薇', '敬明|小四', '诚儒']或者字符串  '陈凯歌', '尔冬升', '赵薇', '郭敬明', '李诚儒'\n",
    "#2.df_all.content.str.contains(i).sum()\n",
    "#3.实现方式：列表推导式、匿名函数、apply()、不传参函数\n",
    "#4.我们需要需求最优解   列表推导式\n",
    "print(chen_num, er_num, zhao_num, guo_num, li_num) "
   ]
  },
  {
   "cell_type": "code",
   "execution_count": 65,
   "metadata": {},
   "outputs": [
    {
     "output_type": "execute_result",
     "data": {
      "text/plain": [
       "  name  number\n",
       "3  郭敬明   10906\n",
       "2   赵薇   10109\n",
       "0  陈凯歌    9863\n",
       "4  李诚儒    4043\n",
       "1  尔冬升    3578"
      ],
      "text/html": "<div>\n<style scoped>\n    .dataframe tbody tr th:only-of-type {\n        vertical-align: middle;\n    }\n\n    .dataframe tbody tr th {\n        vertical-align: top;\n    }\n\n    .dataframe thead th {\n        text-align: right;\n    }\n</style>\n<table border=\"1\" class=\"dataframe\">\n  <thead>\n    <tr style=\"text-align: right;\">\n      <th></th>\n      <th>name</th>\n      <th>number</th>\n    </tr>\n  </thead>\n  <tbody>\n    <tr>\n      <th>3</th>\n      <td>郭敬明</td>\n      <td>10906</td>\n    </tr>\n    <tr>\n      <th>2</th>\n      <td>赵薇</td>\n      <td>10109</td>\n    </tr>\n    <tr>\n      <th>0</th>\n      <td>陈凯歌</td>\n      <td>9863</td>\n    </tr>\n    <tr>\n      <th>4</th>\n      <td>李诚儒</td>\n      <td>4043</td>\n    </tr>\n    <tr>\n      <th>1</th>\n      <td>尔冬升</td>\n      <td>3578</td>\n    </tr>\n  </tbody>\n</table>\n</div>"
     },
     "metadata": {},
     "execution_count": 65
    }
   ],
   "source": [
    "df_num = pd.DataFrame({\n",
    "    'name': ['陈凯歌', '尔冬升', '赵薇', '郭敬明', '李诚儒'],\n",
    "    'number': [chen_num, er_num, zhao_num, guo_num, li_num]\n",
    "})#看到没，使用字典添加列\n",
    "df_num = df_num.sort_values('number', ascending=False)\n",
    "df_num"
   ]
  },
  {
   "cell_type": "code",
   "execution_count": 67,
   "metadata": {},
   "outputs": [
    {
     "output_type": "execute_result",
     "data": {
      "text/plain": [
       "<pyecharts.render.display.HTML at 0x243c7b41d68>"
      ],
      "text/html": "\n<script>\n    require.config({\n        paths: {\n            'echarts':'https://assets.pyecharts.org/assets/echarts.min'\n        }\n    });\n</script>\n\n        <div id=\"95f9a1f6d9b742cabf608a10be33d7d7\" style=\"width:1200px; height:400px;\"></div>\n\n<script>\n        require(['echarts'], function(echarts) {\n                var chart_95f9a1f6d9b742cabf608a10be33d7d7 = echarts.init(\n                    document.getElementById('95f9a1f6d9b742cabf608a10be33d7d7'), 'white', {renderer: 'canvas'});\n                var option_95f9a1f6d9b742cabf608a10be33d7d7 = {\n    \"animation\": true,\n    \"animationThreshold\": 2000,\n    \"animationDuration\": 1000,\n    \"animationEasing\": \"cubicOut\",\n    \"animationDelay\": 0,\n    \"animationDurationUpdate\": 300,\n    \"animationEasingUpdate\": \"cubicOut\",\n    \"animationDelayUpdate\": 0,\n    \"color\": [\n        \"#c23531\",\n        \"#2f4554\",\n        \"#61a0a8\",\n        \"#d48265\",\n        \"#749f83\",\n        \"#ca8622\",\n        \"#bda29a\",\n        \"#6e7074\",\n        \"#546570\",\n        \"#c4ccd3\",\n        \"#f05b72\",\n        \"#ef5b9c\",\n        \"#f47920\",\n        \"#905a3d\",\n        \"#fab27b\",\n        \"#2a5caa\",\n        \"#444693\",\n        \"#726930\",\n        \"#b2d235\",\n        \"#6d8346\",\n        \"#ac6767\",\n        \"#1d953f\",\n        \"#6950a1\",\n        \"#918597\"\n    ],\n    \"series\": [\n        {\n            \"type\": \"bar\",\n            \"legendHoverLink\": true,\n            \"data\": [\n                10906,\n                10109,\n                9863,\n                4043,\n                3578\n            ],\n            \"showBackground\": false,\n            \"barMinHeight\": 0,\n            \"barCategoryGap\": \"20%\",\n            \"barGap\": \"30%\",\n            \"large\": false,\n            \"largeThreshold\": 400,\n            \"seriesLayoutBy\": \"column\",\n            \"datasetIndex\": 0,\n            \"clip\": true,\n            \"zlevel\": 0,\n            \"z\": 2,\n            \"label\": {\n                \"show\": true,\n                \"position\": \"top\",\n                \"margin\": 8\n            }\n        }\n    ],\n    \"legend\": [\n        {\n            \"data\": [\n                \"\"\n            ],\n            \"selected\": {\n                \"\": true\n            },\n            \"show\": true,\n            \"padding\": 5,\n            \"itemGap\": 10,\n            \"itemWidth\": 25,\n            \"itemHeight\": 14\n        }\n    ],\n    \"tooltip\": {\n        \"show\": true,\n        \"trigger\": \"item\",\n        \"triggerOn\": \"mousemove|click\",\n        \"axisPointer\": {\n            \"type\": \"line\"\n        },\n        \"showContent\": true,\n        \"alwaysShowContent\": false,\n        \"showDelay\": 0,\n        \"hideDelay\": 100,\n        \"textStyle\": {\n            \"fontSize\": 14\n        },\n        \"borderWidth\": 0,\n        \"padding\": 5\n    },\n    \"xAxis\": [\n        {\n            \"show\": true,\n            \"scale\": false,\n            \"nameLocation\": \"end\",\n            \"nameGap\": 15,\n            \"gridIndex\": 0,\n            \"inverse\": false,\n            \"offset\": 0,\n            \"splitNumber\": 5,\n            \"minInterval\": 0,\n            \"splitLine\": {\n                \"show\": false,\n                \"lineStyle\": {\n                    \"show\": true,\n                    \"width\": 1,\n                    \"opacity\": 1,\n                    \"curveness\": 0,\n                    \"type\": \"solid\"\n                }\n            },\n            \"data\": [\n                \"\\u90ed\\u656c\\u660e\",\n                \"\\u8d75\\u8587\",\n                \"\\u9648\\u51ef\\u6b4c\",\n                \"\\u674e\\u8bda\\u5112\",\n                \"\\u5c14\\u51ac\\u5347\"\n            ]\n        }\n    ],\n    \"yAxis\": [\n        {\n            \"show\": true,\n            \"scale\": false,\n            \"nameLocation\": \"end\",\n            \"nameGap\": 15,\n            \"gridIndex\": 0,\n            \"inverse\": false,\n            \"offset\": 0,\n            \"splitNumber\": 5,\n            \"minInterval\": 0,\n            \"splitLine\": {\n                \"show\": false,\n                \"lineStyle\": {\n                    \"show\": true,\n                    \"width\": 1,\n                    \"opacity\": 1,\n                    \"curveness\": 0,\n                    \"type\": \"solid\"\n                }\n            }\n        }\n    ],\n    \"title\": [\n        {\n            \"text\": \"\\u5f39\\u5e55\\u4e2d\\u4e3b\\u8981\\u5bfc\\u6f14\\u7684\\u63d0\\u53ca\\u6b21\\u6570\",\n            \"padding\": 5,\n            \"itemGap\": 10\n        }\n    ],\n    \"visualMap\": {\n        \"show\": false,\n        \"type\": \"continuous\",\n        \"min\": 0,\n        \"max\": 10906,\n        \"inRange\": {\n            \"color\": [\n                \"#50a3ba\",\n                \"#eac763\",\n                \"#d94e5d\"\n            ]\n        },\n        \"calculable\": true,\n        \"inverse\": false,\n        \"splitNumber\": 5,\n        \"orient\": \"vertical\",\n        \"showLabel\": true,\n        \"itemWidth\": 20,\n        \"itemHeight\": 140,\n        \"borderWidth\": 0\n    }\n};\n                chart_95f9a1f6d9b742cabf608a10be33d7d7.setOption(option_95f9a1f6d9b742cabf608a10be33d7d7);\n        });\n    </script>\n"
     },
     "metadata": {},
     "execution_count": 67
    }
   ],
   "source": [
    "# 产生数据\n",
    "x_data = df_num['name'].values.tolist() #返回numpy 的ndarray类型的数据；，这个作者是在炫耀自己多流弊吗，我以后也要这样  .values可以不写的\n",
    "y_data = df_num['number'].values.tolist()\n",
    "\n",
    "# 条形图\n",
    "bar2 = Bar(init_opts=opts.InitOpts(width='1200px', height='400px'))\n",
    "bar2.add_xaxis(x_data)\n",
    "bar2.add_yaxis('', y_data)\n",
    "bar2.set_global_opts(title_opts=opts.TitleOpts(title='弹幕中主要导演的提及次数'), \n",
    "                     visualmap_opts=opts.VisualMapOpts(max_=int(max(df_num['number'])), is_show=False)\n",
    "                    )\n",
    "\n",
    "bar2.render_notebook() "
   ]
  },
  {
   "cell_type": "markdown",
   "metadata": {},
   "source": [
    "### 弹幕中演员提及次数Top10"
   ]
  },
  {
   "cell_type": "code",
   "execution_count": 70,
   "metadata": {},
   "outputs": [
    {
     "output_type": "execute_result",
     "data": {
      "text/plain": [
       "['小彩旗', '曹骏', '丁程鑫', '董思怡', '费启鸣']"
      ]
     },
     "metadata": {},
     "execution_count": 70
    }
   ],
   "source": [
    "actor = '小彩旗 / 曹骏 / 丁程鑫 / 董思怡 / 费启鸣 / 郭晓婷 / 贺开朗 / 黄璐 / 黄梦莹 / 胡杏儿 / 黄奕 / 辣目洋子 / 刘芮麟 / 李溪芮 / 娄艺潇 / 李智楠 / 马伯骞 / 马苏 / 孟子义 / 倪虹洁 / 任敏 / 施柏宇 / 孙千 / 孙阳 / 唐一菲 / 陈宥维 / 何昶希 / 王楚然 / 王锵 / 王莎莎 / 王智 / 温峥嵘 / 晏紫东 / 杨志刚 / 张大大 / 张海宇 / 张铭恩 / 张月 / 张逸杰 / 邹元清 / 李诚儒 / 尹子维 / 王茂蕾 / 秦越 / 张熙然 / 李彩桦 / 沈保平 / 马志威'\n",
    "actor_list = actor.split(' / ')\n",
    "actor_list[:5] "
   ]
  },
  {
   "cell_type": "code",
   "execution_count": 75,
   "metadata": {},
   "outputs": [
    {
     "output_type": "execute_result",
     "data": {
      "text/plain": [
       "[10126, 6112, 5752, 5125, 4803, 4656, 4465, 4305, 3853, 3715]"
      ]
     },
     "metadata": {},
     "execution_count": 75
    }
   ],
   "source": [
    "tiji_num = [df_all.content.str.contains(i).sum() for i in actor_list] \n",
    "# tiji_num[:5]\n",
    "a = sorted(tiji_num,reverse = True)[:10]\n",
    "a"
   ]
  },
  {
   "cell_type": "code",
   "execution_count": 40,
   "metadata": {},
   "outputs": [
    {
     "output_type": "execute_result",
     "data": {
      "text/plain": [
       "  actor_name  tiji_num\n",
       "0        小彩旗       758\n",
       "1         曹骏     10126\n",
       "2        丁程鑫      1979\n",
       "3        董思怡       617\n",
       "4        费启鸣       716"
      ],
      "text/html": "<div>\n<style scoped>\n    .dataframe tbody tr th:only-of-type {\n        vertical-align: middle;\n    }\n\n    .dataframe tbody tr th {\n        vertical-align: top;\n    }\n\n    .dataframe thead th {\n        text-align: right;\n    }\n</style>\n<table border=\"1\" class=\"dataframe\">\n  <thead>\n    <tr style=\"text-align: right;\">\n      <th></th>\n      <th>actor_name</th>\n      <th>tiji_num</th>\n    </tr>\n  </thead>\n  <tbody>\n    <tr>\n      <th>0</th>\n      <td>小彩旗</td>\n      <td>758</td>\n    </tr>\n    <tr>\n      <th>1</th>\n      <td>曹骏</td>\n      <td>10126</td>\n    </tr>\n    <tr>\n      <th>2</th>\n      <td>丁程鑫</td>\n      <td>1979</td>\n    </tr>\n    <tr>\n      <th>3</th>\n      <td>董思怡</td>\n      <td>617</td>\n    </tr>\n    <tr>\n      <th>4</th>\n      <td>费启鸣</td>\n      <td>716</td>\n    </tr>\n  </tbody>\n</table>\n</div>"
     },
     "metadata": {},
     "execution_count": 40
    }
   ],
   "source": [
    "df_actor = pd.DataFrame({\n",
    "    'actor_name': actor_list,\n",
    "    'tiji_num': tiji_num\n",
    "})\n",
    "\n",
    "df_actor.head() "
   ]
  },
  {
   "cell_type": "code",
   "execution_count": 81,
   "metadata": {},
   "outputs": [
    {
     "output_type": "execute_result",
     "data": {
      "text/plain": [
       "   actor_name  tiji_num\n",
       "17         马苏      3715\n",
       "31        温峥嵘      3853\n",
       "9         胡杏儿      4305\n",
       "30         王智      4465\n",
       "19        倪虹洁      4656\n",
       "20         任敏      4803\n",
       "34        张大大      5125\n",
       "10         黄奕      5752\n",
       "33        杨志刚      6112\n",
       "1          曹骏     10126"
      ],
      "text/html": "<div>\n<style scoped>\n    .dataframe tbody tr th:only-of-type {\n        vertical-align: middle;\n    }\n\n    .dataframe tbody tr th {\n        vertical-align: top;\n    }\n\n    .dataframe thead th {\n        text-align: right;\n    }\n</style>\n<table border=\"1\" class=\"dataframe\">\n  <thead>\n    <tr style=\"text-align: right;\">\n      <th></th>\n      <th>actor_name</th>\n      <th>tiji_num</th>\n    </tr>\n  </thead>\n  <tbody>\n    <tr>\n      <th>17</th>\n      <td>马苏</td>\n      <td>3715</td>\n    </tr>\n    <tr>\n      <th>31</th>\n      <td>温峥嵘</td>\n      <td>3853</td>\n    </tr>\n    <tr>\n      <th>9</th>\n      <td>胡杏儿</td>\n      <td>4305</td>\n    </tr>\n    <tr>\n      <th>30</th>\n      <td>王智</td>\n      <td>4465</td>\n    </tr>\n    <tr>\n      <th>19</th>\n      <td>倪虹洁</td>\n      <td>4656</td>\n    </tr>\n    <tr>\n      <th>20</th>\n      <td>任敏</td>\n      <td>4803</td>\n    </tr>\n    <tr>\n      <th>34</th>\n      <td>张大大</td>\n      <td>5125</td>\n    </tr>\n    <tr>\n      <th>10</th>\n      <td>黄奕</td>\n      <td>5752</td>\n    </tr>\n    <tr>\n      <th>33</th>\n      <td>杨志刚</td>\n      <td>6112</td>\n    </tr>\n    <tr>\n      <th>1</th>\n      <td>曹骏</td>\n      <td>10126</td>\n    </tr>\n  </tbody>\n</table>\n</div>"
     },
     "metadata": {},
     "execution_count": 81
    }
   ],
   "source": [
    "#先筛选出top10再对其top10升序\n",
    "tiji_top10 = df_actor.sort_values('tiji_num', ascending=False).head(10)#降序排列取前10就可以得到top10\n",
    "tiji_top10 = tiji_top10.sort_values('tiji_num')#升序排列----这一步的目的就是为了将条形图转换时会将数据默认降序,不要这一句，你会发现条形图是升序的，简直对不起top10这个名字\n",
    "tiji_top10"
   ]
  },
  {
   "cell_type": "code",
   "execution_count": 82,
   "metadata": {},
   "outputs": [
    {
     "output_type": "execute_result",
     "data": {
      "text/plain": [
       "<pyecharts.render.display.HTML at 0x243c64d0630>"
      ],
      "text/html": "\n<script>\n    require.config({\n        paths: {\n            'echarts':'https://assets.pyecharts.org/assets/echarts.min'\n        }\n    });\n</script>\n\n        <div id=\"ef90ba5b24ff417b9ceb735c94e4b3a0\" style=\"width:1200px; height:600px;\"></div>\n\n<script>\n        require(['echarts'], function(echarts) {\n                var chart_ef90ba5b24ff417b9ceb735c94e4b3a0 = echarts.init(\n                    document.getElementById('ef90ba5b24ff417b9ceb735c94e4b3a0'), 'white', {renderer: 'canvas'});\n                var option_ef90ba5b24ff417b9ceb735c94e4b3a0 = {\n    \"animation\": true,\n    \"animationThreshold\": 2000,\n    \"animationDuration\": 1000,\n    \"animationEasing\": \"cubicOut\",\n    \"animationDelay\": 0,\n    \"animationDurationUpdate\": 300,\n    \"animationEasingUpdate\": \"cubicOut\",\n    \"animationDelayUpdate\": 0,\n    \"color\": [\n        \"#c23531\",\n        \"#2f4554\",\n        \"#61a0a8\",\n        \"#d48265\",\n        \"#749f83\",\n        \"#ca8622\",\n        \"#bda29a\",\n        \"#6e7074\",\n        \"#546570\",\n        \"#c4ccd3\",\n        \"#f05b72\",\n        \"#ef5b9c\",\n        \"#f47920\",\n        \"#905a3d\",\n        \"#fab27b\",\n        \"#2a5caa\",\n        \"#444693\",\n        \"#726930\",\n        \"#b2d235\",\n        \"#6d8346\",\n        \"#ac6767\",\n        \"#1d953f\",\n        \"#6950a1\",\n        \"#918597\"\n    ],\n    \"series\": [\n        {\n            \"type\": \"bar\",\n            \"legendHoverLink\": true,\n            \"data\": [\n                3715,\n                3853,\n                4305,\n                4465,\n                4656,\n                4803,\n                5125,\n                5752,\n                6112,\n                10126\n            ],\n            \"showBackground\": false,\n            \"barMinHeight\": 0,\n            \"barCategoryGap\": \"20%\",\n            \"barGap\": \"30%\",\n            \"large\": false,\n            \"largeThreshold\": 400,\n            \"seriesLayoutBy\": \"column\",\n            \"datasetIndex\": 0,\n            \"clip\": true,\n            \"zlevel\": 0,\n            \"z\": 2,\n            \"label\": {\n                \"show\": true,\n                \"position\": \"right\",\n                \"margin\": 8\n            },\n            \"rippleEffect\": {\n                \"show\": true,\n                \"brushType\": \"stroke\",\n                \"scale\": 2.5,\n                \"period\": 4\n            }\n        }\n    ],\n    \"legend\": [\n        {\n            \"data\": [\n                \"\"\n            ],\n            \"selected\": {\n                \"\": true\n            },\n            \"show\": true,\n            \"padding\": 5,\n            \"itemGap\": 10,\n            \"itemWidth\": 25,\n            \"itemHeight\": 14\n        }\n    ],\n    \"tooltip\": {\n        \"show\": true,\n        \"trigger\": \"item\",\n        \"triggerOn\": \"mousemove|click\",\n        \"axisPointer\": {\n            \"type\": \"line\"\n        },\n        \"showContent\": true,\n        \"alwaysShowContent\": false,\n        \"showDelay\": 0,\n        \"hideDelay\": 100,\n        \"textStyle\": {\n            \"fontSize\": 14\n        },\n        \"borderWidth\": 0,\n        \"padding\": 5\n    },\n    \"xAxis\": [\n        {\n            \"show\": true,\n            \"scale\": false,\n            \"nameLocation\": \"end\",\n            \"nameGap\": 15,\n            \"gridIndex\": 0,\n            \"inverse\": false,\n            \"offset\": 0,\n            \"splitNumber\": 5,\n            \"minInterval\": 0,\n            \"splitLine\": {\n                \"show\": false,\n                \"lineStyle\": {\n                    \"show\": true,\n                    \"width\": 1,\n                    \"opacity\": 1,\n                    \"curveness\": 0,\n                    \"type\": \"solid\"\n                }\n            }\n        }\n    ],\n    \"yAxis\": [\n        {\n            \"show\": true,\n            \"scale\": false,\n            \"nameLocation\": \"end\",\n            \"nameGap\": 15,\n            \"gridIndex\": 0,\n            \"inverse\": false,\n            \"offset\": 0,\n            \"splitNumber\": 5,\n            \"minInterval\": 0,\n            \"splitLine\": {\n                \"show\": false,\n                \"lineStyle\": {\n                    \"show\": true,\n                    \"width\": 1,\n                    \"opacity\": 1,\n                    \"curveness\": 0,\n                    \"type\": \"solid\"\n                }\n            },\n            \"data\": [\n                \"\\u9a6c\\u82cf\",\n                \"\\u6e29\\u5ce5\\u5d58\",\n                \"\\u80e1\\u674f\\u513f\",\n                \"\\u738b\\u667a\",\n                \"\\u502a\\u8679\\u6d01\",\n                \"\\u4efb\\u654f\",\n                \"\\u5f20\\u5927\\u5927\",\n                \"\\u9ec4\\u5955\",\n                \"\\u6768\\u5fd7\\u521a\",\n                \"\\u66f9\\u9a8f\"\n            ]\n        }\n    ],\n    \"title\": [\n        {\n            \"text\": \"\\u5f39\\u5e55\\u4e2d\\u6f14\\u5458\\u63d0\\u53ca\\u6b21\\u6570\\u6392\\u884cTop10\",\n            \"padding\": 5,\n            \"itemGap\": 10\n        }\n    ],\n    \"visualMap\": {\n        \"show\": false,\n        \"type\": \"continuous\",\n        \"min\": 0,\n        \"max\": 10126,\n        \"inRange\": {\n            \"color\": [\n                \"#50a3ba\",\n                \"#eac763\",\n                \"#d94e5d\"\n            ]\n        },\n        \"calculable\": true,\n        \"inverse\": false,\n        \"splitNumber\": 5,\n        \"orient\": \"vertical\",\n        \"showLabel\": true,\n        \"itemWidth\": 20,\n        \"itemHeight\": 140,\n        \"borderWidth\": 0\n    }\n};\n                chart_ef90ba5b24ff417b9ceb735c94e4b3a0.setOption(option_ef90ba5b24ff417b9ceb735c94e4b3a0);\n        });\n    </script>\n"
     },
     "metadata": {},
     "execution_count": 82
    }
   ],
   "source": [
    "# 产生数据\n",
    "x_data = tiji_top10['actor_name'].values.tolist()\n",
    "y_data = tiji_top10['tiji_num'].values.tolist()\n",
    "\n",
    "# 条形图\n",
    "bar3 = Bar(init_opts=opts.InitOpts(width='1200px', height='600px'))\n",
    "bar3.add_xaxis(x_data)\n",
    "bar3.add_yaxis('', y_data)\n",
    "bar3.set_global_opts(title_opts=opts.TitleOpts(title='弹幕中演员提及次数排行Top10'), \n",
    "                     visualmap_opts=opts.VisualMapOpts(max_=int(max(tiji_top10['tiji_num'])), is_show=False)\n",
    "                    )\n",
    "bar3.set_series_opts(label_opts=opts.LabelOpts(position='right'))\n",
    "bar3.reversal_axis()\n",
    "bar3.render_notebook() "
   ]
  },
  {
   "cell_type": "code",
   "execution_count": 86,
   "metadata": {},
   "outputs": [
    {
     "output_type": "execute_result",
     "data": {
      "text/plain": [
       "<pyecharts.render.display.HTML at 0x243c62fa198>"
      ],
      "text/html": "\n<script>\n    require.config({\n        paths: {\n            'echarts':'https://assets.pyecharts.org/assets/echarts.min'\n        }\n    });\n</script>\n\n        <div id=\"6ae21ae39a4a4d47bbd8219118ebc9fb\" style=\"width:1000px; height:400px;\"></div>\n        <div id=\"d85d052f12aa4d789544266a70c819b4\" style=\"width:1200px; height:400px;\"></div>\n        <div id=\"a2f4435c9c4a41c0a2269ff096e4eb01\" style=\"width:1200px; height:600px;\"></div>\n\n<script>\n        require(['echarts'], function(echarts) {\n                var chart_6ae21ae39a4a4d47bbd8219118ebc9fb = echarts.init(\n                    document.getElementById('6ae21ae39a4a4d47bbd8219118ebc9fb'), 'white', {renderer: 'canvas'});\n                var option_6ae21ae39a4a4d47bbd8219118ebc9fb = {\n    \"animation\": true,\n    \"animationThreshold\": 2000,\n    \"animationDuration\": 1000,\n    \"animationEasing\": \"cubicOut\",\n    \"animationDelay\": 0,\n    \"animationDurationUpdate\": 300,\n    \"animationEasingUpdate\": \"cubicOut\",\n    \"animationDelayUpdate\": 0,\n    \"color\": [\n        \"#c23531\",\n        \"#2f4554\",\n        \"#61a0a8\",\n        \"#d48265\",\n        \"#749f83\",\n        \"#ca8622\",\n        \"#bda29a\",\n        \"#6e7074\",\n        \"#546570\",\n        \"#c4ccd3\",\n        \"#f05b72\",\n        \"#ef5b9c\",\n        \"#f47920\",\n        \"#905a3d\",\n        \"#fab27b\",\n        \"#2a5caa\",\n        \"#444693\",\n        \"#726930\",\n        \"#b2d235\",\n        \"#6d8346\",\n        \"#ac6767\",\n        \"#1d953f\",\n        \"#6950a1\",\n        \"#918597\"\n    ],\n    \"series\": [\n        {\n            \"type\": \"bar\",\n            \"legendHoverLink\": true,\n            \"data\": [\n                57624,\n                55075,\n                52688,\n                47593,\n                45387,\n                44674,\n                44318,\n                41773,\n                31378,\n                29252\n            ],\n            \"showBackground\": false,\n            \"barMinHeight\": 0,\n            \"barCategoryGap\": \"20%\",\n            \"barGap\": \"30%\",\n            \"large\": false,\n            \"largeThreshold\": 400,\n            \"seriesLayoutBy\": \"column\",\n            \"datasetIndex\": 0,\n            \"clip\": true,\n            \"zlevel\": 0,\n            \"z\": 2,\n            \"label\": {\n                \"show\": true,\n                \"position\": \"top\",\n                \"margin\": 8\n            }\n        }\n    ],\n    \"legend\": [\n        {\n            \"data\": [\n                \"\"\n            ],\n            \"selected\": {\n                \"\": true\n            },\n            \"show\": true,\n            \"padding\": 5,\n            \"itemGap\": 10,\n            \"itemWidth\": 25,\n            \"itemHeight\": 14\n        }\n    ],\n    \"tooltip\": {\n        \"show\": true,\n        \"trigger\": \"item\",\n        \"triggerOn\": \"mousemove|click\",\n        \"axisPointer\": {\n            \"type\": \"line\"\n        },\n        \"showContent\": true,\n        \"alwaysShowContent\": false,\n        \"showDelay\": 0,\n        \"hideDelay\": 100,\n        \"textStyle\": {\n            \"fontSize\": 14\n        },\n        \"borderWidth\": 0,\n        \"padding\": 5\n    },\n    \"xAxis\": [\n        {\n            \"show\": true,\n            \"scale\": false,\n            \"nameLocation\": \"end\",\n            \"nameGap\": 15,\n            \"gridIndex\": 0,\n            \"inverse\": false,\n            \"offset\": 0,\n            \"splitNumber\": 5,\n            \"minInterval\": 0,\n            \"splitLine\": {\n                \"show\": false,\n                \"lineStyle\": {\n                    \"show\": true,\n                    \"width\": 1,\n                    \"opacity\": 1,\n                    \"curveness\": 0,\n                    \"type\": \"solid\"\n                }\n            },\n            \"data\": [\n                \"\\u7b2c\\u4e00\\u671f\\u4e0a\",\n                \"\\u7b2c\\u4e09\\u671f\\u4e0a\",\n                \"\\u7b2c\\u4e94\\u671f\\u4e0a\",\n                \"\\u7b2c\\u4e8c\\u671f\\u4e0a\",\n                \"\\u7b2c\\u56db\\u671f\\u4e0a\",\n                \"\\u7b2c\\u4e09\\u671f\\u4e0b\",\n                \"\\u7b2c\\u56db\\u671f\\u4e0b\",\n                \"\\u7b2c\\u4e8c\\u671f\\u4e0b\",\n                \"\\u7b2c\\u4e94\\u671f\\u4e0b\",\n                \"\\u7b2c\\u4e00\\u671f\\u4e0b\"\n            ]\n        }\n    ],\n    \"yAxis\": [\n        {\n            \"show\": true,\n            \"scale\": false,\n            \"nameLocation\": \"end\",\n            \"nameGap\": 15,\n            \"gridIndex\": 0,\n            \"inverse\": false,\n            \"offset\": 0,\n            \"splitNumber\": 5,\n            \"minInterval\": 0,\n            \"splitLine\": {\n                \"show\": false,\n                \"lineStyle\": {\n                    \"show\": true,\n                    \"width\": 1,\n                    \"opacity\": 1,\n                    \"curveness\": 0,\n                    \"type\": \"solid\"\n                }\n            }\n        }\n    ],\n    \"title\": [\n        {\n            \"text\": \"\\u524d\\u4e94\\u671f\\u7684\\u5f39\\u5e55\\u6570\\u8d70\\u52bf\\u56fe\",\n            \"padding\": 5,\n            \"itemGap\": 10\n        }\n    ],\n    \"visualMap\": {\n        \"show\": true,\n        \"type\": \"continuous\",\n        \"min\": 0,\n        \"max\": 60000,\n        \"inRange\": {\n            \"color\": [\n                \"#50a3ba\",\n                \"#eac763\",\n                \"#d94e5d\"\n            ]\n        },\n        \"calculable\": true,\n        \"inverse\": false,\n        \"splitNumber\": 5,\n        \"orient\": \"vertical\",\n        \"showLabel\": true,\n        \"itemWidth\": 20,\n        \"itemHeight\": 140,\n        \"borderWidth\": 0\n    }\n};\n                chart_6ae21ae39a4a4d47bbd8219118ebc9fb.setOption(option_6ae21ae39a4a4d47bbd8219118ebc9fb);\n                var chart_d85d052f12aa4d789544266a70c819b4 = echarts.init(\n                    document.getElementById('d85d052f12aa4d789544266a70c819b4'), 'white', {renderer: 'canvas'});\n                var option_d85d052f12aa4d789544266a70c819b4 = {\n    \"animation\": true,\n    \"animationThreshold\": 2000,\n    \"animationDuration\": 1000,\n    \"animationEasing\": \"cubicOut\",\n    \"animationDelay\": 0,\n    \"animationDurationUpdate\": 300,\n    \"animationEasingUpdate\": \"cubicOut\",\n    \"animationDelayUpdate\": 0,\n    \"color\": [\n        \"#c23531\",\n        \"#2f4554\",\n        \"#61a0a8\",\n        \"#d48265\",\n        \"#749f83\",\n        \"#ca8622\",\n        \"#bda29a\",\n        \"#6e7074\",\n        \"#546570\",\n        \"#c4ccd3\",\n        \"#f05b72\",\n        \"#ef5b9c\",\n        \"#f47920\",\n        \"#905a3d\",\n        \"#fab27b\",\n        \"#2a5caa\",\n        \"#444693\",\n        \"#726930\",\n        \"#b2d235\",\n        \"#6d8346\",\n        \"#ac6767\",\n        \"#1d953f\",\n        \"#6950a1\",\n        \"#918597\"\n    ],\n    \"series\": [\n        {\n            \"type\": \"bar\",\n            \"legendHoverLink\": true,\n            \"data\": [\n                10906,\n                10109,\n                9863,\n                4043,\n                3578\n            ],\n            \"showBackground\": false,\n            \"barMinHeight\": 0,\n            \"barCategoryGap\": \"20%\",\n            \"barGap\": \"30%\",\n            \"large\": false,\n            \"largeThreshold\": 400,\n            \"seriesLayoutBy\": \"column\",\n            \"datasetIndex\": 0,\n            \"clip\": true,\n            \"zlevel\": 0,\n            \"z\": 2,\n            \"label\": {\n                \"show\": true,\n                \"position\": \"top\",\n                \"margin\": 8\n            }\n        }\n    ],\n    \"legend\": [\n        {\n            \"data\": [\n                \"\"\n            ],\n            \"selected\": {\n                \"\": true\n            },\n            \"show\": true,\n            \"padding\": 5,\n            \"itemGap\": 10,\n            \"itemWidth\": 25,\n            \"itemHeight\": 14\n        }\n    ],\n    \"tooltip\": {\n        \"show\": true,\n        \"trigger\": \"item\",\n        \"triggerOn\": \"mousemove|click\",\n        \"axisPointer\": {\n            \"type\": \"line\"\n        },\n        \"showContent\": true,\n        \"alwaysShowContent\": false,\n        \"showDelay\": 0,\n        \"hideDelay\": 100,\n        \"textStyle\": {\n            \"fontSize\": 14\n        },\n        \"borderWidth\": 0,\n        \"padding\": 5\n    },\n    \"xAxis\": [\n        {\n            \"show\": true,\n            \"scale\": false,\n            \"nameLocation\": \"end\",\n            \"nameGap\": 15,\n            \"gridIndex\": 0,\n            \"inverse\": false,\n            \"offset\": 0,\n            \"splitNumber\": 5,\n            \"minInterval\": 0,\n            \"splitLine\": {\n                \"show\": false,\n                \"lineStyle\": {\n                    \"show\": true,\n                    \"width\": 1,\n                    \"opacity\": 1,\n                    \"curveness\": 0,\n                    \"type\": \"solid\"\n                }\n            },\n            \"data\": [\n                \"\\u90ed\\u656c\\u660e\",\n                \"\\u8d75\\u8587\",\n                \"\\u9648\\u51ef\\u6b4c\",\n                \"\\u674e\\u8bda\\u5112\",\n                \"\\u5c14\\u51ac\\u5347\"\n            ]\n        }\n    ],\n    \"yAxis\": [\n        {\n            \"show\": true,\n            \"scale\": false,\n            \"nameLocation\": \"end\",\n            \"nameGap\": 15,\n            \"gridIndex\": 0,\n            \"inverse\": false,\n            \"offset\": 0,\n            \"splitNumber\": 5,\n            \"minInterval\": 0,\n            \"splitLine\": {\n                \"show\": false,\n                \"lineStyle\": {\n                    \"show\": true,\n                    \"width\": 1,\n                    \"opacity\": 1,\n                    \"curveness\": 0,\n                    \"type\": \"solid\"\n                }\n            }\n        }\n    ],\n    \"title\": [\n        {\n            \"text\": \"\\u5f39\\u5e55\\u4e2d\\u4e3b\\u8981\\u5bfc\\u6f14\\u7684\\u63d0\\u53ca\\u6b21\\u6570\",\n            \"padding\": 5,\n            \"itemGap\": 10\n        }\n    ],\n    \"visualMap\": {\n        \"show\": false,\n        \"type\": \"continuous\",\n        \"min\": 0,\n        \"max\": 10906,\n        \"inRange\": {\n            \"color\": [\n                \"#50a3ba\",\n                \"#eac763\",\n                \"#d94e5d\"\n            ]\n        },\n        \"calculable\": true,\n        \"inverse\": false,\n        \"splitNumber\": 5,\n        \"orient\": \"vertical\",\n        \"showLabel\": true,\n        \"itemWidth\": 20,\n        \"itemHeight\": 140,\n        \"borderWidth\": 0\n    }\n};\n                chart_d85d052f12aa4d789544266a70c819b4.setOption(option_d85d052f12aa4d789544266a70c819b4);\n                var chart_a2f4435c9c4a41c0a2269ff096e4eb01 = echarts.init(\n                    document.getElementById('a2f4435c9c4a41c0a2269ff096e4eb01'), 'white', {renderer: 'canvas'});\n                var option_a2f4435c9c4a41c0a2269ff096e4eb01 = {\n    \"animation\": true,\n    \"animationThreshold\": 2000,\n    \"animationDuration\": 1000,\n    \"animationEasing\": \"cubicOut\",\n    \"animationDelay\": 0,\n    \"animationDurationUpdate\": 300,\n    \"animationEasingUpdate\": \"cubicOut\",\n    \"animationDelayUpdate\": 0,\n    \"color\": [\n        \"#c23531\",\n        \"#2f4554\",\n        \"#61a0a8\",\n        \"#d48265\",\n        \"#749f83\",\n        \"#ca8622\",\n        \"#bda29a\",\n        \"#6e7074\",\n        \"#546570\",\n        \"#c4ccd3\",\n        \"#f05b72\",\n        \"#ef5b9c\",\n        \"#f47920\",\n        \"#905a3d\",\n        \"#fab27b\",\n        \"#2a5caa\",\n        \"#444693\",\n        \"#726930\",\n        \"#b2d235\",\n        \"#6d8346\",\n        \"#ac6767\",\n        \"#1d953f\",\n        \"#6950a1\",\n        \"#918597\"\n    ],\n    \"series\": [\n        {\n            \"type\": \"bar\",\n            \"legendHoverLink\": true,\n            \"data\": [\n                3715,\n                3853,\n                4305,\n                4465,\n                4656,\n                4803,\n                5125,\n                5752,\n                6112,\n                10126\n            ],\n            \"showBackground\": false,\n            \"barMinHeight\": 0,\n            \"barCategoryGap\": \"20%\",\n            \"barGap\": \"30%\",\n            \"large\": false,\n            \"largeThreshold\": 400,\n            \"seriesLayoutBy\": \"column\",\n            \"datasetIndex\": 0,\n            \"clip\": true,\n            \"zlevel\": 0,\n            \"z\": 2,\n            \"label\": {\n                \"show\": true,\n                \"position\": \"right\",\n                \"margin\": 8\n            },\n            \"rippleEffect\": {\n                \"show\": true,\n                \"brushType\": \"stroke\",\n                \"scale\": 2.5,\n                \"period\": 4\n            }\n        }\n    ],\n    \"legend\": [\n        {\n            \"data\": [\n                \"\"\n            ],\n            \"selected\": {\n                \"\": true\n            },\n            \"show\": true,\n            \"padding\": 5,\n            \"itemGap\": 10,\n            \"itemWidth\": 25,\n            \"itemHeight\": 14\n        }\n    ],\n    \"tooltip\": {\n        \"show\": true,\n        \"trigger\": \"item\",\n        \"triggerOn\": \"mousemove|click\",\n        \"axisPointer\": {\n            \"type\": \"line\"\n        },\n        \"showContent\": true,\n        \"alwaysShowContent\": false,\n        \"showDelay\": 0,\n        \"hideDelay\": 100,\n        \"textStyle\": {\n            \"fontSize\": 14\n        },\n        \"borderWidth\": 0,\n        \"padding\": 5\n    },\n    \"xAxis\": [\n        {\n            \"show\": true,\n            \"scale\": false,\n            \"nameLocation\": \"end\",\n            \"nameGap\": 15,\n            \"gridIndex\": 0,\n            \"inverse\": false,\n            \"offset\": 0,\n            \"splitNumber\": 5,\n            \"minInterval\": 0,\n            \"splitLine\": {\n                \"show\": false,\n                \"lineStyle\": {\n                    \"show\": true,\n                    \"width\": 1,\n                    \"opacity\": 1,\n                    \"curveness\": 0,\n                    \"type\": \"solid\"\n                }\n            }\n        }\n    ],\n    \"yAxis\": [\n        {\n            \"show\": true,\n            \"scale\": false,\n            \"nameLocation\": \"end\",\n            \"nameGap\": 15,\n            \"gridIndex\": 0,\n            \"inverse\": false,\n            \"offset\": 0,\n            \"splitNumber\": 5,\n            \"minInterval\": 0,\n            \"splitLine\": {\n                \"show\": false,\n                \"lineStyle\": {\n                    \"show\": true,\n                    \"width\": 1,\n                    \"opacity\": 1,\n                    \"curveness\": 0,\n                    \"type\": \"solid\"\n                }\n            },\n            \"data\": [\n                \"\\u9a6c\\u82cf\",\n                \"\\u6e29\\u5ce5\\u5d58\",\n                \"\\u80e1\\u674f\\u513f\",\n                \"\\u738b\\u667a\",\n                \"\\u502a\\u8679\\u6d01\",\n                \"\\u4efb\\u654f\",\n                \"\\u5f20\\u5927\\u5927\",\n                \"\\u9ec4\\u5955\",\n                \"\\u6768\\u5fd7\\u521a\",\n                \"\\u66f9\\u9a8f\"\n            ]\n        }\n    ],\n    \"title\": [\n        {\n            \"text\": \"\\u5f39\\u5e55\\u4e2d\\u6f14\\u5458\\u63d0\\u53ca\\u6b21\\u6570\\u6392\\u884cTop10\",\n            \"padding\": 5,\n            \"itemGap\": 10\n        }\n    ],\n    \"visualMap\": {\n        \"show\": false,\n        \"type\": \"continuous\",\n        \"min\": 0,\n        \"max\": 10126,\n        \"inRange\": {\n            \"color\": [\n                \"#50a3ba\",\n                \"#eac763\",\n                \"#d94e5d\"\n            ]\n        },\n        \"calculable\": true,\n        \"inverse\": false,\n        \"splitNumber\": 5,\n        \"orient\": \"vertical\",\n        \"showLabel\": true,\n        \"itemWidth\": 20,\n        \"itemHeight\": 140,\n        \"borderWidth\": 0\n    }\n};\n                chart_a2f4435c9c4a41c0a2269ff096e4eb01.setOption(option_a2f4435c9c4a41c0a2269ff096e4eb01);\n        });\n    </script>\n"
     },
     "metadata": {},
     "execution_count": 86
    }
   ],
   "source": [
    "page = Page() #他这个咋没有可以移动的虚线呀\n",
    "page.add(bar1, bar2, bar3)\n",
    "page.render('../演员请就位2弹幕分析.html')\n",
    "page.render_notebook()"
   ]
  },
  {
   "cell_type": "markdown",
   "metadata": {},
   "source": [
    "### 弹幕角色词云 - 陈凯歌"
   ]
  },
  {
   "cell_type": "code",
   "execution_count": 87,
   "metadata": {},
   "outputs": [],
   "source": [
    "def get_cut_words(x_series):\n",
    "    # 读入停用词表\n",
    "    stop_words = [] \n",
    "    \n",
    "    with open(r\"D:\\Python\\停用词大全.txt\", 'r', encoding='utf-8') as f:\n",
    "        lines = f.readlines()\n",
    "        for line in lines:\n",
    "            stop_words.append(line.strip())\n",
    "\n",
    "    # 添加关键词\n",
    "    my_words = ['陈凯歌', '尔冬升', '赵薇', '郭敬明', '小四', '大鹏', '李诚儒']   \n",
    "    for i in my_words:\n",
    "        jieba.add_word(i) \n",
    "\n",
    "    # 自定义停用词\n",
    "    my_stop_words = ['哈哈哈', '哈哈哈哈', '评论']\n",
    "    stop_words.extend(my_stop_words)               \n",
    "\n",
    "    # 分词\n",
    "    word_num = jieba.lcut(x_series.astype('str').str.cat(sep='。'), cut_all=False)\n",
    "\n",
    "    # 条件筛选\n",
    "    word_num_selected = [i for i in word_num if i not in stop_words and len(i)>=2]\n",
    "    \n",
    "    return word_num_selected"
   ]
  },
  {
   "source": [
    "#df_all[df_all.content.str.contains('凯歌')]就是选择包含'该'变量中的字符串的行"
   ],
   "cell_type": "code",
   "metadata": {},
   "execution_count": null,
   "outputs": []
  },
  {
   "cell_type": "code",
   "execution_count": 88,
   "metadata": {},
   "outputs": [
    {
     "output_type": "stream",
     "name": "stderr",
     "text": [
      "Building prefix dict from the default dictionary ...\n",
      "Dumping model to file cache C:\\Users\\ADMINI~1\\AppData\\Local\\Temp\\jieba.cache\n",
      "Loading model cost 1.684 seconds.\n",
      "Prefix dict has been built successfully.\n"
     ]
    },
    {
     "output_type": "execute_result",
     "data": {
      "text/plain": [
       "['凯歌', '导演', '我来', '凯歌', '导演']"
      ]
     },
     "metadata": {},
     "execution_count": 88
    }
   ],
   "source": [
    "text1 = get_cut_words(x_series=df_all[df_all.content.str.contains('凯歌')]['content'])#只能说流弊，又卡了我20分钟\n",
    "text1[:5] "
   ]
  },
  {
   "cell_type": "code",
   "execution_count": 91,
   "metadata": {},
   "outputs": [],
   "source": [
    "# 绘制词云图\n",
    "def gen_my_stylecloud(text, file_name, icon_name='fas fa-heart'):\n",
    "    stylecloud.gen_stylecloud(text=' '.join(text), max_words=1000,\n",
    "                              collocations=False,\n",
    "                              font_path=r'‪C:\\Windows\\Fonts\\msyh.ttc',\n",
    "                              icon_name=icon_name,\n",
    "                              size=653,\n",
    "                              output_name=f'../{file_name}.png'\n",
    "                             )   "
   ]
  },
  {
   "cell_type": "code",
   "execution_count": 92,
   "metadata": {},
   "outputs": [],
   "source": [
    "gen_my_stylecloud(text=text1, file_name='弹幕角色陈凯歌-词云图') "
   ]
  },
  {
   "cell_type": "markdown",
   "metadata": {},
   "source": [
    "### 弹幕角色词云 - 尔冬升"
   ]
  },
  {
   "cell_type": "code",
   "execution_count": 23,
   "metadata": {},
   "outputs": [
    {
     "data": {
      "text/plain": [
       "['尔冬升', '尔冬升', '导演', '尔冬升', '喜欢']"
      ]
     },
     "execution_count": 23,
     "metadata": {},
     "output_type": "execute_result"
    }
   ],
   "source": [
    "text2 = get_cut_words(x_series=df_all[df_all.content.str.contains('尔冬升')]['content'])\n",
    "text2[:5] "
   ]
  },
  {
   "cell_type": "code",
   "execution_count": 24,
   "metadata": {},
   "outputs": [],
   "source": [
    "gen_my_stylecloud(text=text2, file_name='弹幕角色尔冬升-词云图', icon_name='fas fa-star')"
   ]
  },
  {
   "cell_type": "markdown",
   "metadata": {},
   "source": [
    "### 弹幕角色词云 - 赵薇"
   ]
  },
  {
   "cell_type": "code",
   "execution_count": 27,
   "metadata": {},
   "outputs": [
    {
     "data": {
      "text/plain": [
       "['赵薇', '期待', '赵薇', '导演', '赵薇']"
      ]
     },
     "execution_count": 27,
     "metadata": {},
     "output_type": "execute_result"
    }
   ],
   "source": [
    "text3 = get_cut_words(x_series=df_all[df_all.content.str.contains('赵薇')]['content'])\n",
    "text3[:5] "
   ]
  },
  {
   "cell_type": "code",
   "execution_count": 28,
   "metadata": {},
   "outputs": [],
   "source": [
    "gen_my_stylecloud(text=text3, file_name='弹幕角色赵薇-词云图', icon_name='fas fa-comments')"
   ]
  },
  {
   "cell_type": "markdown",
   "metadata": {},
   "source": [
    "### 弹幕角色词云 - 郭敬明"
   ]
  },
  {
   "cell_type": "code",
   "execution_count": 29,
   "metadata": {},
   "outputs": [
    {
     "data": {
      "text/plain": [
       "['小四', '收拾', '发现', '当年', '手抄']"
      ]
     },
     "execution_count": 29,
     "metadata": {},
     "output_type": "execute_result"
    }
   ],
   "source": [
    "text4 = get_cut_words(x_series=df_all[df_all.content.str.contains('郭敬明|小四')]['content'])\n",
    "text4[:5] "
   ]
  },
  {
   "cell_type": "code",
   "execution_count": 30,
   "metadata": {},
   "outputs": [],
   "source": [
    "gen_my_stylecloud(text=text4, file_name='弹幕角色郭敬明-词云图', icon_name='fas fa-leaf')"
   ]
  },
  {
   "cell_type": "markdown",
   "metadata": {},
   "source": [
    "### 弹幕角色词云 - 李诚儒"
   ]
  },
  {
   "cell_type": "code",
   "execution_count": 31,
   "metadata": {},
   "outputs": [
    {
     "data": {
      "text/plain": [
       "['陈凯歌', '李诚儒', '李诚儒', '双剑合', '李诚儒']"
      ]
     },
     "execution_count": 31,
     "metadata": {},
     "output_type": "execute_result"
    }
   ],
   "source": [
    "text5 = get_cut_words(x_series=df_all[df_all.content.str.contains('李诚儒')]['content'])\n",
    "text5[:5]  "
   ]
  },
  {
   "cell_type": "code",
   "execution_count": 32,
   "metadata": {},
   "outputs": [],
   "source": [
    "gen_my_stylecloud(text=text5, file_name='弹幕角色李诚儒-词云图', icon_name='fas fa-thumbs-up') "
   ]
  },
  {
   "cell_type": "markdown",
   "metadata": {},
   "source": [
    "### 弹幕角色词云 - 曹骏"
   ]
  },
  {
   "cell_type": "code",
   "execution_count": 33,
   "metadata": {},
   "outputs": [
    {
     "data": {
      "text/plain": [
       "['童年', '男神', '沉香', '曹骏', '加油']"
      ]
     },
     "execution_count": 33,
     "metadata": {},
     "output_type": "execute_result"
    }
   ],
   "source": [
    "text6 = get_cut_words(x_series=df_all[df_all.content.str.contains('曹骏')]['content'])\n",
    "text6[:5]  "
   ]
  },
  {
   "cell_type": "code",
   "execution_count": 35,
   "metadata": {},
   "outputs": [],
   "source": [
    "gen_my_stylecloud(text=text6, file_name='弹幕角色曹骏-词云图') "
   ]
  }
 ],
 "metadata": {
  "kernelspec": {
   "display_name": "Python 3",
   "language": "python",
   "name": "python3"
  },
  "language_info": {
   "codemirror_mode": {
    "name": "ipython",
    "version": 3
   },
   "file_extension": ".py",
   "mimetype": "text/x-python",
   "name": "python",
   "nbconvert_exporter": "python",
   "pygments_lexer": "ipython3",
   "version": "3.7.0-final"
  },
  "toc": {
   "base_numbering": 1,
   "nav_menu": {},
   "number_sections": true,
   "sideBar": true,
   "skip_h1_title": false,
   "title_cell": "Table of Contents",
   "title_sidebar": "Contents",
   "toc_cell": false,
   "toc_position": {},
   "toc_section_display": true,
   "toc_window_display": false
  },
  "varInspector": {
   "cols": {
    "lenName": 16,
    "lenType": 16,
    "lenVar": 40
   },
   "kernels_config": {
    "python": {
     "delete_cmd_postfix": "",
     "delete_cmd_prefix": "del ",
     "library": "var_list.py",
     "varRefreshCmd": "print(var_dic_list())"
    },
    "r": {
     "delete_cmd_postfix": ") ",
     "delete_cmd_prefix": "rm(",
     "library": "var_list.r",
     "varRefreshCmd": "cat(var_dic_list()) "
    }
   },
   "types_to_exclude": [
    "module",
    "function",
    "builtin_function_or_method",
    "instance",
    "_Feature"
   ],
   "window_display": false
  }
 },
 "nbformat": 4,
 "nbformat_minor": 2
}