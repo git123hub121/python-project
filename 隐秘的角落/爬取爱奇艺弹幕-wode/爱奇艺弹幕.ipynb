{
 "metadata": {
  "language_info": {
   "codemirror_mode": {
    "name": "ipython",
    "version": 3
   },
   "file_extension": ".py",
   "mimetype": "text/x-python",
   "name": "python",
   "nbconvert_exporter": "python",
   "pygments_lexer": "ipython3",
   "version": "3.7.0-final"
  },
  "orig_nbformat": 2,
  "kernelspec": {
   "name": "python3",
   "display_name": "Python 3"
  }
 },
 "nbformat": 4,
 "nbformat_minor": 2,
 "cells": [
  {
   "cell_type": "code",
   "execution_count": 73,
   "metadata": {},
   "outputs": [],
   "source": [
    "import requests\n",
    "import zlib\n",
    "import pandas as pd\n",
    "import re\n",
    "import time\n",
    "headers ={\n",
    "    'user-agent': 'Mozilla/5.0 (Windows NT 10.0; Win64; x64) AppleWebKit/537.36 (KHTML, like Gecko) Chrome/81.0.4044.129 Safari/537.36'\n",
    "}\n",
    "page_num = 1\n",
    "url = f'https://cmts.iqiyi.com/bullet/41/00/7658778702074100_300_{page_num}.z'\n",
    "req = requests.get(url=url,headers=headers)"
   ]
  },
  {
   "cell_type": "code",
   "execution_count": 74,
   "metadata": {},
   "outputs": [],
   "source": [
    "#req.content#.decode('utf-8') UnicodeDecodeError: 'utf-8' codec can't decode bytes in position 2-3: invalid continuation byte"
   ]
  },
  {
   "cell_type": "code",
   "execution_count": 75,
   "metadata": {},
   "outputs": [],
   "source": [
    "zarray = bytearray(req.content)"
   ]
  },
  {
   "cell_type": "code",
   "execution_count": 76,
   "metadata": {},
   "outputs": [],
   "source": [
    "# zarray\n",
    "# 解压字符串\n",
    "xml = zlib.decompress(zarray, 15+32).decode('utf-8')"
   ]
  },
  {
   "cell_type": "code",
   "execution_count": 77,
   "metadata": {},
   "outputs": [
    {
     "output_type": "execute_result",
     "data": {
      "text/plain": [
       "'<?xml version=\"1.0\" encoding=\"UTF-8\"?><danmu>\\n<code>A00000</code>\\n<data>\\n<entry>\\n<int>1</int>\\n<list>\\n<bulletInfo>\\n<contentId>1607173538753008728</contentId>\\n<content>吕不韦吕不韦把自己玩死了</content>\\n<parentId>0</parentId>\\n<showTime>1</showTime>\\n<font>14</font>\\n<color>ffffff</color>\\n<opacity>5</opacity>\\n<position>0</position>\\n<background>0</background>\\n<isReply>null</isReply>\\n<likeCount>0</likeCount>\\n<plusCount>0</plusCount>\\n<dissCount>0</dissCount>\\n<isShowLike>false</isShowLike>\\n<userInfo>\\n<senderAvatar>https://www.iqiyipic.com/common/fix/headicons/male-130.png</senderAvatar>\\n<uid>1413441584</uid>\\n<udid>868084036467723</udid>\\n<name>爱懒床的司马芳润</name>\\n</userInfo>\\n<contentType>0</contentType>\\n<subType>0</s'"
      ]
     },
     "metadata": {},
     "execution_count": 77
    }
   ],
   "source": [
    "xml[:700]"
   ]
  },
  {
   "source": [
    "'''\n",
    "<contentId>1607173538753008728</contentId>\\n\n",
    "<content>吕不韦吕不韦把自己玩死了</content>\\n\n",
    "<parentId>0</parentId>\\n\n",
    "<showTime>1</showTime>\\n\n",
    "<font>14</font>\\n\n",
    "<color>ffffff</color>\\n\n",
    "<opacity>5</opacity>\\n\n",
    "<position>0</position>\\n\n",
    "<background>0</background>\\n\n",
    "<isReply>null</isReply>\\n\n",
    "<likeCount>0</likeCount>\\n\n",
    "<plusCount>0</plusCount>\\n\n",
    "dissCount>0</dissCount>\\n\n",
    "<isShowLike>false</isShowLike>\\n\n",
    "<userInfo>\\n\n",
    "<senderAvatar>https://www.iqiyipic.com/common/fix/headicons/male-130.png</senderAvatar>\\n\n",
    "<uid>1413441584</uid>\\n\n",
    "<udid>868084036467723</udid>\\n\n",
    "<name>爱懒床的司马芳润</name>\n",
    "'''"
   ],
   "cell_type": "code",
   "metadata": {},
   "execution_count": 78,
   "outputs": [
    {
     "output_type": "execute_result",
     "data": {
      "text/plain": [
       "'\\n<contentId>1607173538753008728</contentId>\\n\\n<content>吕不韦吕不韦把自己玩死了</content>\\n\\n<parentId>0</parentId>\\n\\n<showTime>1</showTime>\\n\\n<font>14</font>\\n\\n<color>ffffff</color>\\n\\n<opacity>5</opacity>\\n\\n<position>0</position>\\n\\n<background>0</background>\\n\\n<isReply>null</isReply>\\n\\n<likeCount>0</likeCount>\\n\\n<plusCount>0</plusCount>\\n\\ndissCount>0</dissCount>\\n\\n<isShowLike>false</isShowLike>\\n\\n<userInfo>\\n\\n<senderAvatar>https://www.iqiyipic.com/common/fix/headicons/male-130.png</senderAvatar>\\n\\n<uid>1413441584</uid>\\n\\n<udid>868084036467723</udid>\\n\\n<name>爱懒床的司马芳润</name>\\n'"
      ]
     },
     "metadata": {},
     "execution_count": 78
    }
   ]
  },
  {
   "cell_type": "code",
   "execution_count": 79,
   "metadata": {},
   "outputs": [],
   "source": [
    "df_all = pd.DataFrame()"
   ]
  },
  {
   "cell_type": "code",
   "execution_count": 80,
   "metadata": {},
   "outputs": [],
   "source": [
    "name = re.findall('<name>(.*?)</name>', xml)\n",
    "# 评论ID\n",
    "contentId = re.findall('<contentId>(.*?)</contentId>', xml)\n",
    "# 评论信息\n",
    "content = re.findall('<content>(.*?)</content>', xml)\n",
    "# 展示时间\n",
    "showTime = re.findall('<showTime>(.*?)</showTime>', xml)\n",
    "# 点赞次数\n",
    "likeCount = re.findall('<likeCount>(.*?)</likeCount>', xml)\n",
    "\n",
    "# 保存数据\n",
    "df_one = pd.DataFrame({\n",
    "    'name': name,\n",
    "    'contentId': contentId,\n",
    "    'content': content,\n",
    "    'showTime': showTime,\n",
    "    'likeCount': likeCount\n",
    "})\n",
    "df_all = df_all.append(df_one, ignore_index=True)\n",
    "\n",
    "# 休眠一秒\n",
    "time.sleep(1)\n",
    "df_all.insert(0, 'episodes', '第15集')\n",
    "episodes = '第15集'\n",
    "df_all.to_csv(f'df_{episodes}.csv')"
   ]
  }
 ]
}