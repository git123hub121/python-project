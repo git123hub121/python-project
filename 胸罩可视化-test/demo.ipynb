{
 "metadata": {
  "language_info": {
   "codemirror_mode": {
    "name": "ipython",
    "version": 3
   },
   "file_extension": ".py",
   "mimetype": "text/x-python",
   "name": "python",
   "nbconvert_exporter": "python",
   "pygments_lexer": "ipython3",
   "version": "3.7.0-final"
  },
  "orig_nbformat": 2,
  "kernelspec": {
   "name": "python3",
   "display_name": "Python 3",
   "language": "python"
  }
 },
 "nbformat": 4,
 "nbformat_minor": 2,
 "cells": [
  {
   "cell_type": "code",
   "execution_count": 51,
   "metadata": {},
   "outputs": [
    {
     "output_type": "execute_result",
     "data": {
      "text/plain": [
       "                            title  price location  sales  \\\n",
       "0            内衣套装女收副乳调整型防下垂性感聚拢上托  148.0       广东   1107   \n",
       "1  内衣套装女夏小胸文胸聚拢收副乳少女无钢圈性感蕾丝薄款透气胸罩   19.9       广东   2114   \n",
       "2  女士内衣女无钢圈聚拢小胸收副乳上托性感薄款胸罩调整型文胸套装  129.0       广东   3852   \n",
       "3   遐大胸显小全罩杯超薄文胸 性感蕾丝大码胸罩无海绵薄款内衣女  125.0       安徽   3766   \n",
       "4  NEIWAI内外杜鹃同款零敏罗纹三角棉质小胸内衣女无钢圈文胸  199.0       上海   1873   \n",
       "\n",
       "                                         comment_url  \n",
       "0                                                NaN  \n",
       "1  //detail.tmall.com/item.htm?id=572608443038&ad...  \n",
       "2  //detail.tmall.com/item.htm?id=586829143080&ad...  \n",
       "3  //detail.tmall.com/item.htm?id=20762164858&ns=...  \n",
       "4  //detail.tmall.com/item.htm?id=586985593346&ns...  "
      ],
      "text/html": "<div>\n<style scoped>\n    .dataframe tbody tr th:only-of-type {\n        vertical-align: middle;\n    }\n\n    .dataframe tbody tr th {\n        vertical-align: top;\n    }\n\n    .dataframe thead th {\n        text-align: right;\n    }\n</style>\n<table border=\"1\" class=\"dataframe\">\n  <thead>\n    <tr style=\"text-align: right;\">\n      <th></th>\n      <th>title</th>\n      <th>price</th>\n      <th>location</th>\n      <th>sales</th>\n      <th>comment_url</th>\n    </tr>\n  </thead>\n  <tbody>\n    <tr>\n      <th>0</th>\n      <td>内衣套装女收副乳调整型防下垂性感聚拢上托</td>\n      <td>148.0</td>\n      <td>广东</td>\n      <td>1107</td>\n      <td>NaN</td>\n    </tr>\n    <tr>\n      <th>1</th>\n      <td>内衣套装女夏小胸文胸聚拢收副乳少女无钢圈性感蕾丝薄款透气胸罩</td>\n      <td>19.9</td>\n      <td>广东</td>\n      <td>2114</td>\n      <td>//detail.tmall.com/item.htm?id=572608443038&amp;ad...</td>\n    </tr>\n    <tr>\n      <th>2</th>\n      <td>女士内衣女无钢圈聚拢小胸收副乳上托性感薄款胸罩调整型文胸套装</td>\n      <td>129.0</td>\n      <td>广东</td>\n      <td>3852</td>\n      <td>//detail.tmall.com/item.htm?id=586829143080&amp;ad...</td>\n    </tr>\n    <tr>\n      <th>3</th>\n      <td>遐大胸显小全罩杯超薄文胸 性感蕾丝大码胸罩无海绵薄款内衣女</td>\n      <td>125.0</td>\n      <td>安徽</td>\n      <td>3766</td>\n      <td>//detail.tmall.com/item.htm?id=20762164858&amp;ns=...</td>\n    </tr>\n    <tr>\n      <th>4</th>\n      <td>NEIWAI内外杜鹃同款零敏罗纹三角棉质小胸内衣女无钢圈文胸</td>\n      <td>199.0</td>\n      <td>上海</td>\n      <td>1873</td>\n      <td>//detail.tmall.com/item.htm?id=586985593346&amp;ns...</td>\n    </tr>\n  </tbody>\n</table>\n</div>"
     },
     "metadata": {},
     "execution_count": 51
    }
   ],
   "source": [
    "import pandas as pd\n",
    "df = pd.read_excel('D:/Python/Mypython/python项目集锦/胸罩可视化-test/new_taobao.xlsx')\n",
    "df.head()"
   ]
  },
  {
   "cell_type": "code",
   "execution_count": 52,
   "metadata": {},
   "outputs": [],
   "source": [
    "df.drop('comment_url',axis =1,inplace=True)"
   ]
  },
  {
   "cell_type": "code",
   "execution_count": 53,
   "metadata": {},
   "outputs": [
    {
     "output_type": "execute_result",
     "data": {
      "text/plain": [
       "                            title  price location  sales\n",
       "0            内衣套装女收副乳调整型防下垂性感聚拢上托  148.0       广东   1107\n",
       "1  内衣套装女夏小胸文胸聚拢收副乳少女无钢圈性感蕾丝薄款透气胸罩   19.9       广东   2114\n",
       "2  女士内衣女无钢圈聚拢小胸收副乳上托性感薄款胸罩调整型文胸套装  129.0       广东   3852\n",
       "3   遐大胸显小全罩杯超薄文胸 性感蕾丝大码胸罩无海绵薄款内衣女  125.0       安徽   3766\n",
       "4  NEIWAI内外杜鹃同款零敏罗纹三角棉质小胸内衣女无钢圈文胸  199.0       上海   1873"
      ],
      "text/html": "<div>\n<style scoped>\n    .dataframe tbody tr th:only-of-type {\n        vertical-align: middle;\n    }\n\n    .dataframe tbody tr th {\n        vertical-align: top;\n    }\n\n    .dataframe thead th {\n        text-align: right;\n    }\n</style>\n<table border=\"1\" class=\"dataframe\">\n  <thead>\n    <tr style=\"text-align: right;\">\n      <th></th>\n      <th>title</th>\n      <th>price</th>\n      <th>location</th>\n      <th>sales</th>\n    </tr>\n  </thead>\n  <tbody>\n    <tr>\n      <th>0</th>\n      <td>内衣套装女收副乳调整型防下垂性感聚拢上托</td>\n      <td>148.0</td>\n      <td>广东</td>\n      <td>1107</td>\n    </tr>\n    <tr>\n      <th>1</th>\n      <td>内衣套装女夏小胸文胸聚拢收副乳少女无钢圈性感蕾丝薄款透气胸罩</td>\n      <td>19.9</td>\n      <td>广东</td>\n      <td>2114</td>\n    </tr>\n    <tr>\n      <th>2</th>\n      <td>女士内衣女无钢圈聚拢小胸收副乳上托性感薄款胸罩调整型文胸套装</td>\n      <td>129.0</td>\n      <td>广东</td>\n      <td>3852</td>\n    </tr>\n    <tr>\n      <th>3</th>\n      <td>遐大胸显小全罩杯超薄文胸 性感蕾丝大码胸罩无海绵薄款内衣女</td>\n      <td>125.0</td>\n      <td>安徽</td>\n      <td>3766</td>\n    </tr>\n    <tr>\n      <th>4</th>\n      <td>NEIWAI内外杜鹃同款零敏罗纹三角棉质小胸内衣女无钢圈文胸</td>\n      <td>199.0</td>\n      <td>上海</td>\n      <td>1873</td>\n    </tr>\n  </tbody>\n</table>\n</div>"
     },
     "metadata": {},
     "execution_count": 53
    }
   ],
   "source": [
    "df.head()"
   ]
  },
  {
   "cell_type": "code",
   "execution_count": 54,
   "metadata": {},
   "outputs": [
    {
     "output_type": "execute_result",
     "data": {
      "text/plain": [
       "(4171, 4)"
      ]
     },
     "metadata": {},
     "execution_count": 54
    }
   ],
   "source": [
    "df.shape"
   ]
  },
  {
   "cell_type": "code",
   "execution_count": 55,
   "metadata": {},
   "outputs": [
    {
     "output_type": "execute_result",
     "data": {
      "text/plain": [
       "(4137, 3)"
      ]
     },
     "metadata": {},
     "execution_count": 55
    }
   ],
   "source": [
    "df_title = df.groupby('title').count()\n",
    "df_title.shape\n",
    "#单独分析title的个数意义不大"
   ]
  },
  {
   "cell_type": "code",
   "execution_count": 56,
   "metadata": {},
   "outputs": [
    {
     "output_type": "execute_result",
     "data": {
      "text/plain": [
       "<pyecharts.render.display.HTML at 0x1fcd63df550>"
      ],
      "text/html": "\n<script>\n    require.config({\n        paths: {\n            'echarts':'https://assets.pyecharts.org/assets/echarts.min', 'china':'https://assets.pyecharts.org/assets/maps/china'\n        }\n    });\n</script>\n\n        <div id=\"9f51901c2eb24d81a3065add126b0b21\" style=\"width:900px; height:500px;\"></div>\n\n<script>\n        require(['echarts', 'china'], function(echarts) {\n                var chart_9f51901c2eb24d81a3065add126b0b21 = echarts.init(\n                    document.getElementById('9f51901c2eb24d81a3065add126b0b21'), 'white', {renderer: 'canvas'});\n                var option_9f51901c2eb24d81a3065add126b0b21 = {\n    \"animation\": true,\n    \"animationThreshold\": 2000,\n    \"animationDuration\": 1000,\n    \"animationEasing\": \"cubicOut\",\n    \"animationDelay\": 0,\n    \"animationDurationUpdate\": 300,\n    \"animationEasingUpdate\": \"cubicOut\",\n    \"animationDelayUpdate\": 0,\n    \"color\": [\n        \"#c23531\",\n        \"#2f4554\",\n        \"#61a0a8\",\n        \"#d48265\",\n        \"#749f83\",\n        \"#ca8622\",\n        \"#bda29a\",\n        \"#6e7074\",\n        \"#546570\",\n        \"#c4ccd3\",\n        \"#f05b72\",\n        \"#ef5b9c\",\n        \"#f47920\",\n        \"#905a3d\",\n        \"#fab27b\",\n        \"#2a5caa\",\n        \"#444693\",\n        \"#726930\",\n        \"#b2d235\",\n        \"#6d8346\",\n        \"#ac6767\",\n        \"#1d953f\",\n        \"#6950a1\",\n        \"#918597\"\n    ],\n    \"series\": [\n        {\n            \"type\": \"map\",\n            \"name\": \"\\u5e97\\u94fa\\u6570\\u91cf\",\n            \"label\": {\n                \"show\": true,\n                \"position\": \"top\",\n                \"margin\": 8\n            },\n            \"mapType\": \"china\",\n            \"data\": [\n                {\n                    \"name\": \"\\u5e7f\\u4e1c\",\n                    \"value\": 2398\n                },\n                {\n                    \"name\": \"\\u4e0a\\u6d77\",\n                    \"value\": 555\n                },\n                {\n                    \"name\": \"\\u6d59\\u6c5f\",\n                    \"value\": 423\n                },\n                {\n                    \"name\": \"\\u798f\\u5efa\",\n                    \"value\": 238\n                },\n                {\n                    \"name\": \"\\u6c5f\\u82cf\",\n                    \"value\": 184\n                },\n                {\n                    \"name\": \"\\u5317\\u4eac\",\n                    \"value\": 50\n                },\n                {\n                    \"name\": \"\\u6e56\\u5317\",\n                    \"value\": 49\n                },\n                {\n                    \"name\": \"\\u5c71\\u4e1c\",\n                    \"value\": 41\n                },\n                {\n                    \"name\": \"\\u9655\\u897f\",\n                    \"value\": 41\n                },\n                {\n                    \"name\": \"\\u6c5f\\u897f\",\n                    \"value\": 38\n                },\n                {\n                    \"name\": \"\\u5b89\\u5fbd\",\n                    \"value\": 36\n                },\n                {\n                    \"name\": \"\\u8fbd\\u5b81\",\n                    \"value\": 28\n                },\n                {\n                    \"name\": \"\\u91cd\\u5e86\",\n                    \"value\": 14\n                },\n                {\n                    \"name\": \"\\u56db\\u5ddd\",\n                    \"value\": 10\n                },\n                {\n                    \"name\": \"\\u6cb3\\u5317\",\n                    \"value\": 10\n                },\n                {\n                    \"name\": \"\\u6e56\\u5357\",\n                    \"value\": 9\n                },\n                {\n                    \"name\": \"\\u6cb3\\u5357\",\n                    \"value\": 8\n                },\n                {\n                    \"name\": \"\\u7f8e\\u56fd\",\n                    \"value\": 7\n                },\n                {\n                    \"name\": \"\\u9999\\u6e2f\",\n                    \"value\": 7\n                },\n                {\n                    \"name\": \"\\u5409\\u6797\",\n                    \"value\": 5\n                },\n                {\n                    \"name\": \"\\u5929\\u6d25\",\n                    \"value\": 5\n                },\n                {\n                    \"name\": \"\\u5e7f\\u897f\",\n                    \"value\": 4\n                },\n                {\n                    \"name\": \"\\u65e5\\u672c\",\n                    \"value\": 3\n                },\n                {\n                    \"name\": \"\\u9752\\u6d77\",\n                    \"value\": 3\n                },\n                {\n                    \"name\": \"\\u6cf0\\u56fd\",\n                    \"value\": 2\n                },\n                {\n                    \"name\": \"\\u6cd5\\u56fd\",\n                    \"value\": 1\n                },\n                {\n                    \"name\": \"\\u5c71\\u897f\",\n                    \"value\": 1\n                },\n                {\n                    \"name\": \"\\u8d35\\u5dde\",\n                    \"value\": 1\n                }\n            ],\n            \"roam\": true,\n            \"aspectScale\": 0.75,\n            \"nameProperty\": \"name\",\n            \"selectedMode\": false,\n            \"zoom\": 1,\n            \"mapValueCalculation\": \"sum\",\n            \"showLegendSymbol\": true,\n            \"emphasis\": {}\n        }\n    ],\n    \"legend\": [\n        {\n            \"data\": [\n                \"\\u5e97\\u94fa\\u6570\\u91cf\"\n            ],\n            \"selected\": {\n                \"\\u5e97\\u94fa\\u6570\\u91cf\": true\n            },\n            \"show\": true,\n            \"padding\": 5,\n            \"itemGap\": 10,\n            \"itemWidth\": 25,\n            \"itemHeight\": 14\n        }\n    ],\n    \"tooltip\": {\n        \"show\": true,\n        \"trigger\": \"item\",\n        \"triggerOn\": \"mousemove|click\",\n        \"axisPointer\": {\n            \"type\": \"line\"\n        },\n        \"showContent\": true,\n        \"alwaysShowContent\": false,\n        \"showDelay\": 0,\n        \"hideDelay\": 100,\n        \"textStyle\": {\n            \"fontSize\": 14\n        },\n        \"borderWidth\": 0,\n        \"padding\": 5\n    },\n    \"title\": [\n        {\n            \"text\": \"\\u5730\\u5740\\u5206\\u5e03\\u56fe\",\n            \"padding\": 5,\n            \"itemGap\": 10\n        }\n    ],\n    \"visualMap\": {\n        \"show\": true,\n        \"type\": \"continuous\",\n        \"min\": 0,\n        \"max\": 3000,\n        \"inRange\": {\n            \"color\": [\n                \"#50a3ba\",\n                \"#eac763\",\n                \"#d94e5d\"\n            ]\n        },\n        \"calculable\": true,\n        \"inverse\": false,\n        \"splitNumber\": 5,\n        \"orient\": \"vertical\",\n        \"showLabel\": true,\n        \"itemWidth\": 20,\n        \"itemHeight\": 140,\n        \"borderWidth\": 0\n    }\n};\n                chart_9f51901c2eb24d81a3065add126b0b21.setOption(option_9f51901c2eb24d81a3065add126b0b21);\n        });\n    </script>\n"
     },
     "metadata": {},
     "execution_count": 56
    }
   ],
   "source": [
    "#针对省份进行统计\n",
    "#df['location'].value_counts().reset_index().rename(columns={'index':'loaction','location':'count'})\n",
    "df_lat = df.groupby('location',as_index=False)['title'].count().rename(columns={'title':'count'}).sort_values('count',ascending=False)\n",
    "# df_lat.shape\n",
    "df_lat.head()\n",
    "#广东流弊，可以绘制地图\n",
    "a = [i for i in df_lat['count'].tolist()]\n",
    "locations = [list(location) for location in df['location'].value_counts().items()]\n",
    "from pyecharts import options as opts\n",
    "from pyecharts.globals import ThemeType\n",
    "from pyecharts.globals import SymbolType\n",
    "from pyecharts.charts import Pie, Bar, Map, WordCloud, Page\n",
    "#地图map\n",
    "map = (\n",
    "    Map()\n",
    "    .add(\"店铺数量\",\n",
    "        [location for location in locations],\"china\")\n",
    "    .set_global_opts(\n",
    "        title_opts=opts.TitleOpts(title=\"地址分布图\"),\n",
    "        visualmap_opts=opts.VisualMapOpts(max_=3000),\n",
    "    )\n",
    "    #\"map.html\"\n",
    ")\n",
    "map.render_notebook()"
   ]
  },
  {
   "cell_type": "code",
   "execution_count": 57,
   "metadata": {},
   "outputs": [
    {
     "output_type": "execute_result",
     "data": {
      "text/plain": [
       "  bra_size color                 date  \\\n",
       "0      34B   酒红色  2019-12-03 00:24:39   \n",
       "1      36B   裸粉色  2019-12-03 17:16:35   \n",
       "2      34C    黑色  2019-11-28 15:00:30   \n",
       "3      34B   酒红色  2019-11-30 23:20:09   \n",
       "4      34B    黑色  2019-11-28 10:27:32   \n",
       "\n",
       "                                             comment  \n",
       "0      每年固定双十一买五套，正好每套两个月，今年这几个颜色更差了，但质量比去年优秀，真的是裸感。  \n",
       "1  不厚无钢圈，第一回买这个牌子，款式好看，买了两件，感觉舒适度一般，懒得退了。。粉色的应该是别...  \n",
       "2  上身效果：很合适 很贴身 厚薄度：适中 尺码推荐：很准确 材质特性：描述一致 罩杯推荐：很准...  \n",
       "3  没有买过VS，自己根据尺码表算的尺寸没想到挺合适。很喜欢这件内衣很薄很透气，没有钢圈午睡也很...  \n",
       "4    终于等到双十一买了4件，维密家的内衣面料是穿过的内衣里面质感最好的，舒服度也很高，无限回购！！  "
      ],
      "text/html": "<div>\n<style scoped>\n    .dataframe tbody tr th:only-of-type {\n        vertical-align: middle;\n    }\n\n    .dataframe tbody tr th {\n        vertical-align: top;\n    }\n\n    .dataframe thead th {\n        text-align: right;\n    }\n</style>\n<table border=\"1\" class=\"dataframe\">\n  <thead>\n    <tr style=\"text-align: right;\">\n      <th></th>\n      <th>bra_size</th>\n      <th>color</th>\n      <th>date</th>\n      <th>comment</th>\n    </tr>\n  </thead>\n  <tbody>\n    <tr>\n      <th>0</th>\n      <td>34B</td>\n      <td>酒红色</td>\n      <td>2019-12-03 00:24:39</td>\n      <td>每年固定双十一买五套，正好每套两个月，今年这几个颜色更差了，但质量比去年优秀，真的是裸感。</td>\n    </tr>\n    <tr>\n      <th>1</th>\n      <td>36B</td>\n      <td>裸粉色</td>\n      <td>2019-12-03 17:16:35</td>\n      <td>不厚无钢圈，第一回买这个牌子，款式好看，买了两件，感觉舒适度一般，懒得退了。。粉色的应该是别...</td>\n    </tr>\n    <tr>\n      <th>2</th>\n      <td>34C</td>\n      <td>黑色</td>\n      <td>2019-11-28 15:00:30</td>\n      <td>上身效果：很合适 很贴身 厚薄度：适中 尺码推荐：很准确 材质特性：描述一致 罩杯推荐：很准...</td>\n    </tr>\n    <tr>\n      <th>3</th>\n      <td>34B</td>\n      <td>酒红色</td>\n      <td>2019-11-30 23:20:09</td>\n      <td>没有买过VS，自己根据尺码表算的尺寸没想到挺合适。很喜欢这件内衣很薄很透气，没有钢圈午睡也很...</td>\n    </tr>\n    <tr>\n      <th>4</th>\n      <td>34B</td>\n      <td>黑色</td>\n      <td>2019-11-28 10:27:32</td>\n      <td>终于等到双十一买了4件，维密家的内衣面料是穿过的内衣里面质感最好的，舒服度也很高，无限回购！！</td>\n    </tr>\n  </tbody>\n</table>\n</div>"
     },
     "metadata": {},
     "execution_count": 57
    }
   ],
   "source": [
    "dfc = pd.read_excel('D:\\Python\\Mypython\\python项目集锦\\胸罩可视化-test\\goods_comments.xlsx')\n",
    "dfc.head()"
   ]
  },
  {
   "cell_type": "code",
   "execution_count": 64,
   "metadata": {},
   "outputs": [
    {
     "output_type": "execute_result",
     "data": {
      "text/plain": [
       "[767, 3033, 1401, 539]"
      ]
     },
     "metadata": {},
     "execution_count": 64
    }
   ],
   "source": [
    "a = [dfc.loc[dfc.bra_size.str.contains(f'{i}')]['color'].count() for i in ['A','B','C','D']]"
   ]
  },
  {
   "cell_type": "code",
   "execution_count": 61,
   "metadata": {},
   "outputs": [
    {
     "output_type": "execute_result",
     "data": {
      "text/plain": [
       "[('34B', 1864),\n",
       " ('34C', 570),\n",
       " ('32B', 532),\n",
       " ('36B', 531),\n",
       " ('32C', 447),\n",
       " ('32D', 275),\n",
       " ('34A', 271),\n",
       " ('32A', 242),\n",
       " ('34D', 231),\n",
       " ('36A', 228),\n",
       " ('36C', 188),\n",
       " ('38C', 179),\n",
       " ('38B', 88),\n",
       " ('36D', 31),\n",
       " ('30A', 26),\n",
       " ('30B', 18),\n",
       " ('30C', 17),\n",
       " ('38D', 2)]"
      ]
     },
     "metadata": {},
     "execution_count": 61
    }
   ],
   "source": [
    "sizes = [size for size in dfc['bra_size'].value_counts().items()]\n",
    "sizes"
   ]
  },
  {
   "cell_type": "code",
   "execution_count": 67,
   "metadata": {},
   "outputs": [
    {
     "output_type": "execute_result",
     "data": {
      "text/plain": [
       "5740"
      ]
     },
     "metadata": {},
     "execution_count": 67
    }
   ],
   "source": [
    "len(dfc)"
   ]
  },
  {
   "cell_type": "code",
   "execution_count": 65,
   "metadata": {},
   "outputs": [
    {
     "output_type": "execute_result",
     "data": {
      "text/plain": [
       "5740"
      ]
     },
     "metadata": {},
     "execution_count": 65
    }
   ],
   "source": [
    "sizes = [size for size in dfc['bra_size'].value_counts().items()]\n",
    "total_cup = sum(count[1] for count in sizes)\n",
    "total_cup"
   ]
  },
  {
   "cell_type": "code",
   "execution_count": 71,
   "metadata": {},
   "outputs": [
    {
     "output_type": "stream",
     "name": "stdout",
     "text": [
      "5740\n"
     ]
    },
    {
     "output_type": "execute_result",
     "data": {
      "text/plain": [
       "<pyecharts.render.display.HTML at 0x1fcd6996cc0>"
      ],
      "text/html": "\n<script>\n    require.config({\n        paths: {\n            'echarts':'https://assets.pyecharts.org/assets/echarts.min'\n        }\n    });\n</script>\n\n        <div id=\"4374f68f4393403c800ad3568ecb5cfd\" style=\"width:900px; height:500px;\"></div>\n\n<script>\n        require(['echarts'], function(echarts) {\n                var chart_4374f68f4393403c800ad3568ecb5cfd = echarts.init(\n                    document.getElementById('4374f68f4393403c800ad3568ecb5cfd'), 'white', {renderer: 'canvas'});\n                var option_4374f68f4393403c800ad3568ecb5cfd = {\n    \"animation\": true,\n    \"animationThreshold\": 2000,\n    \"animationDuration\": 1000,\n    \"animationEasing\": \"cubicOut\",\n    \"animationDelay\": 0,\n    \"animationDurationUpdate\": 300,\n    \"animationEasingUpdate\": \"cubicOut\",\n    \"animationDelayUpdate\": 0,\n    \"color\": [\n        \"#c23531\",\n        \"#2f4554\",\n        \"#61a0a8\",\n        \"#d48265\",\n        \"#749f83\",\n        \"#ca8622\",\n        \"#bda29a\",\n        \"#6e7074\",\n        \"#546570\",\n        \"#c4ccd3\",\n        \"#f05b72\",\n        \"#ef5b9c\",\n        \"#f47920\",\n        \"#905a3d\",\n        \"#fab27b\",\n        \"#2a5caa\",\n        \"#444693\",\n        \"#726930\",\n        \"#b2d235\",\n        \"#6d8346\",\n        \"#ac6767\",\n        \"#1d953f\",\n        \"#6950a1\",\n        \"#918597\"\n    ],\n    \"series\": [\n        {\n            \"type\": \"pie\",\n            \"clockwise\": true,\n            \"data\": [\n                {\n                    \"name\": \"A_cup\",\n                    \"value\": 41.78\n                },\n                {\n                    \"name\": \"other\",\n                    \"value\": 58.22\n                }\n            ],\n            \"radius\": [\n                60,\n                80\n            ],\n            \"center\": [\n                \"20%\",\n                \"30%\"\n            ],\n            \"label\": {\n                \"show\": true,\n                \"position\": \"center\",\n                \"margin\": 8,\n                \"formatter\":     function(params) {        if(params.name == 'other')            return '\\n\\n\\n' + params.name + ' : ' + params.value + '%';        return params.name + ' : ' + params.value + '%';    }    \n            }\n        },\n        {\n            \"type\": \"pie\",\n            \"clockwise\": true,\n            \"data\": [\n                {\n                    \"name\": \"B_cup\",\n                    \"value\": 9.67\n                },\n                {\n                    \"name\": \"other\",\n                    \"value\": 90.0\n                }\n            ],\n            \"radius\": [\n                60,\n                80\n            ],\n            \"center\": [\n                \"55%\",\n                \"30%\"\n            ],\n            \"label\": {\n                \"show\": true,\n                \"position\": \"center\",\n                \"margin\": 8,\n                \"formatter\":     function(params) {        if(params.name == 'other')            return '\\n\\n\\n' + params.name + ' : ' + params.value + '%';        return params.name + ' : ' + params.value + '%';    }    \n            }\n        },\n        {\n            \"type\": \"pie\",\n            \"clockwise\": true,\n            \"data\": [\n                {\n                    \"name\": \"C_cup\",\n                    \"value\": 7.37\n                },\n                {\n                    \"name\": \"other\",\n                    \"value\": 93.0\n                }\n            ],\n            \"radius\": [\n                60,\n                80\n            ],\n            \"center\": [\n                \"20%\",\n                \"70%\"\n            ],\n            \"label\": {\n                \"show\": true,\n                \"position\": \"center\",\n                \"margin\": 8,\n                \"formatter\":     function(params) {        if(params.name == 'other')            return '\\n\\n\\n' + params.name + ' : ' + params.value + '%';        return params.name + ' : ' + params.value + '%';    }    \n            }\n        },\n        {\n            \"type\": \"pie\",\n            \"clockwise\": true,\n            \"data\": [\n                {\n                    \"name\": \"D_cup\",\n                    \"value\": 4.15\n                },\n                {\n                    \"name\": \"other\",\n                    \"value\": 96.0\n                }\n            ],\n            \"radius\": [\n                60,\n                80\n            ],\n            \"center\": [\n                \"55%\",\n                \"70%\"\n            ],\n            \"label\": {\n                \"show\": true,\n                \"position\": \"center\",\n                \"margin\": 8,\n                \"formatter\":     function(params) {        if(params.name == 'other')            return '\\n\\n\\n' + params.name + ' : ' + params.value + '%';        return params.name + ' : ' + params.value + '%';    }    \n            }\n        }\n    ],\n    \"legend\": [\n        {\n            \"data\": [\n                \"A_cup\",\n                \"other\",\n                \"B_cup\",\n                \"C_cup\",\n                \"D_cup\"\n            ],\n            \"selected\": {},\n            \"type\": \"scroll\",\n            \"show\": true,\n            \"left\": \"80%\",\n            \"top\": \"20%\",\n            \"orient\": \"vertical\",\n            \"padding\": 5,\n            \"itemGap\": 10,\n            \"itemWidth\": 25,\n            \"itemHeight\": 14\n        }\n    ],\n    \"tooltip\": {\n        \"show\": true,\n        \"trigger\": \"item\",\n        \"triggerOn\": \"mousemove|click\",\n        \"axisPointer\": {\n            \"type\": \"line\"\n        },\n        \"showContent\": true,\n        \"alwaysShowContent\": false,\n        \"showDelay\": 0,\n        \"hideDelay\": 100,\n        \"textStyle\": {\n            \"fontSize\": 14\n        },\n        \"borderWidth\": 0,\n        \"padding\": 5\n    },\n    \"title\": [\n        {\n            \"text\": \"Cup-\\u591a\\u997c\\u56fe\",\n            \"padding\": 5,\n            \"itemGap\": 10\n        }\n    ]\n};\n                chart_4374f68f4393403c800ad3568ecb5cfd.setOption(option_4374f68f4393403c800ad3568ecb5cfd);\n        });\n    </script>\n"
     },
     "metadata": {},
     "execution_count": 71
    }
   ],
   "source": [
    "sizes = [size for size in dfc['bra_size'].value_counts().items()]\n",
    "total_cup = sum(count[1] for count in sizes)\n",
    "print(total_cup)\n",
    "\n",
    "#下面一脸懵逼，可以去官网找对应的图\n",
    "from pyecharts.commons.utils import JsCode\n",
    "fn = \"\"\"\n",
    "    function(params) {\n",
    "        if(params.name == 'other')\n",
    "            return '\\\\n\\\\n\\\\n' + params.name + ' : ' + params.value + '%';\n",
    "        return params.name + ' : ' + params.value + '%';\n",
    "    }\n",
    "    \"\"\"\n",
    "#这个函数应该是模块里面的\n",
    "def new_label_opts():\n",
    "    return opts.LabelOpts(formatter=JsCode(fn), \n",
    "    position=\"center\")\n",
    "\n",
    "pie = (\n",
    "    Pie()\n",
    "    .add(\n",
    "        \"\",\n",
    "        [['A_cup', round(a[0]/total_cup*100, 2)],['other',round((1 - a[0]/total_cup)*100, 2)]],\n",
    "        center=[\"20%\", \"30%\"],\n",
    "        radius=[60, 80],\n",
    "        label_opts=new_label_opts(),\n",
    "    )\n",
    "    .add(\n",
    "        \"\",\n",
    "        [['B_cup', round(a[1]/total_cup*100, 2)],['other',round(1 - a[1]/total_cup, 2)*100]],\n",
    "        center=[\"55%\", \"30%\"],\n",
    "        radius=[60, 80],\n",
    "        label_opts=new_label_opts(),\n",
    "    )\n",
    "    .add(\n",
    "        \"\",\n",
    "        [['C_cup', round(a[2]/total_cup*100, 2)],['other',round(1 - a[2]/total_cup, 2)*100]],\n",
    "        center=[\"20%\", \"70%\"],\n",
    "        radius=[60, 80],\n",
    "        label_opts=new_label_opts(),\n",
    "    )\n",
    "    .add(\n",
    "        \"\",\n",
    "        [['D_cup', round(a[3]/total_cup * 100, 2)],['other',round(1 - a[3]/total_cup, 2)*100]],\n",
    "        center=[\"55%\", \"70%\"],\n",
    "        radius=[60, 80],\n",
    "        label_opts=new_label_opts(),\n",
    "    )\n",
    "    .set_global_opts(\n",
    "        title_opts=opts.TitleOpts(title=\"Cup-多饼图\"),\n",
    "        legend_opts=opts.LegendOpts(\n",
    "            type_=\"scroll\", pos_top=\"20%\", pos_left=\"80%\", orient=\"vertical\"\n",
    "        ),\n",
    "    )\n",
    ")\n",
    "pie.render_notebook()"
   ]
  },
  {
   "cell_type": "code",
   "execution_count": null,
   "metadata": {},
   "outputs": [],
   "source": []
  }
 ]
}